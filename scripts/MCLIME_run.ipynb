{
 "cells": [
  {
   "cell_type": "code",
   "execution_count": 1,
   "metadata": {},
   "outputs": [],
   "source": [
    "import pandas as pd\n",
    "from MC_LIME import *\n"
   ]
  },
  {
   "cell_type": "code",
   "execution_count": 2,
   "metadata": {},
   "outputs": [],
   "source": [
    "%load_ext autoreload\n",
    "%autoreload 2"
   ]
  },
  {
   "cell_type": "code",
   "execution_count": 3,
   "metadata": {},
   "outputs": [],
   "source": [
    "NUM_WEEKS=5\n",
    "\n",
    "# True if we want to get MC_LIME explanations\n",
    "MC_LIME_bool=True\n",
    "course=\"geomatique_003\""
   ]
  },
  {
   "cell_type": "code",
   "execution_count": 4,
   "metadata": {},
   "outputs": [
    {
     "data": {
      "text/plain": [
       "(453, 180)"
      ]
     },
     "execution_count": 4,
     "metadata": {},
     "output_type": "execute_result"
    }
   ],
   "source": [
    "# CHANGE HERE THE FEATURE SET\n",
    "feature_set=f\"features/{course}_features_{str(NUM_WEEKS)}_weeks.csv\"\n",
    "features = pd.read_csv(feature_set)\n",
    "features.shape"
   ]
  },
  {
   "cell_type": "code",
   "execution_count": 5,
   "metadata": {},
   "outputs": [
    {
     "name": "stderr",
     "output_type": "stream",
     "text": [
      "2024-07-01 18:43:21.532279: I metal_plugin/src/device/metal_device.cc:1154] Metal device set to: Apple M2 Pro\n",
      "2024-07-01 18:43:21.532303: I metal_plugin/src/device/metal_device.cc:296] systemMemory: 16.00 GB\n",
      "2024-07-01 18:43:21.532308: I metal_plugin/src/device/metal_device.cc:313] maxCacheSize: 5.33 GB\n",
      "2024-07-01 18:43:21.532526: I tensorflow/core/common_runtime/pluggable_device/pluggable_device_factory.cc:303] Could not identify NUMA node of platform GPU ID 0, defaulting to 0. Your kernel may not have been built with NUMA support.\n",
      "2024-07-01 18:43:21.532547: I tensorflow/core/common_runtime/pluggable_device/pluggable_device_factory.cc:269] Created TensorFlow device (/job:localhost/replica:0/task:0/device:GPU:0 with 0 MB memory) -> physical PluggableDevice (device: 0, name: METAL, pci bus id: <undefined>)\n",
      "2024-07-01 18:43:22.795218: W tensorflow/core/common_runtime/graph_constructor.cc:834] Node 'cond/while' has 13 outputs but the _output_shapes attribute specifies shapes for 46 outputs. Output shapes may be inaccurate.\n",
      "2024-07-01 18:43:22.800262: W tensorflow/core/common_runtime/graph_constructor.cc:834] Node 'cond' has 5 outputs but the _output_shapes attribute specifies shapes for 46 outputs. Output shapes may be inaccurate.\n",
      "2024-07-01 18:43:23.338180: W tensorflow/core/common_runtime/graph_constructor.cc:834] Node 'cond/while' has 13 outputs but the _output_shapes attribute specifies shapes for 46 outputs. Output shapes may be inaccurate.\n",
      "2024-07-01 18:43:23.342864: W tensorflow/core/common_runtime/graph_constructor.cc:834] Node 'cond' has 5 outputs but the _output_shapes attribute specifies shapes for 46 outputs. Output shapes may be inaccurate.\n",
      "2024-07-01 18:43:23.580874: W tensorflow/core/common_runtime/graph_constructor.cc:834] Node 'cond/while' has 14 outputs but the _output_shapes attribute specifies shapes for 48 outputs. Output shapes may be inaccurate.\n",
      "2024-07-01 18:43:23.585098: W tensorflow/core/common_runtime/graph_constructor.cc:834] Node 'cond' has 5 outputs but the _output_shapes attribute specifies shapes for 48 outputs. Output shapes may be inaccurate.\n",
      "2024-07-01 18:43:23.861177: W tensorflow/core/common_runtime/graph_constructor.cc:834] Node 'cond/while' has 14 outputs but the _output_shapes attribute specifies shapes for 48 outputs. Output shapes may be inaccurate.\n",
      "2024-07-01 18:43:23.865685: W tensorflow/core/common_runtime/graph_constructor.cc:834] Node 'cond' has 5 outputs but the _output_shapes attribute specifies shapes for 48 outputs. Output shapes may be inaccurate.\n"
     ]
    },
    {
     "name": "stdout",
     "output_type": "stream",
     "text": [
      "(None, 180)\n"
     ]
    }
   ],
   "source": [
    "# GET LIME MODEL\n",
    "model_path = 'models/'\n",
    "model_name = model_path + \"lstm_bi_\" + course + \"_\" + str(NUM_WEEKS) + \"_weeks\"\n",
    "\n",
    "loaded_model = keras.models.load_model(model_name)\n",
    "config = loaded_model.get_config() # Config information about the model\n",
    "print(config[\"layers\"][0][\"config\"][\"batch_input_shape\"]) # model shape"
   ]
  },
  {
   "cell_type": "code",
   "execution_count": 15,
   "metadata": {},
   "outputs": [],
   "source": [
    "############################################## CODE TO GET THE INDICES OF THE FEATURES\n",
    "# I pick any feature set here and take the indices that are not easy fail\n",
    "index=pd.read_csv(\"../easy-fail/eq_week-chen_cui-\" + str(course) + \"/feature_labels.csv\",)\n",
    "index\n",
    "\n",
    "# Make the index a column called 'feature_index'\n",
    "index.reset_index(inplace=True)\n",
    "index.rename(columns={'index': 'feature_index'}, inplace=True)\n",
    "\n",
    "# Rename 'Unnamed: 0' to 'original_index'\n",
    "index.rename(columns={'Unnamed: 0': 'original_index'}, inplace=True)\n",
    "\n",
    "# Remove the other columns except 'feature_index' and 'original_index'\n",
    "index = index[['feature_index', 'original_index']]\n",
    "\n",
    "samples_id=pd.read_csv(\"data/\"+str(course) + \"_sample_5.csv\")\n",
    "\n",
    "# USE THIS INDEX MAPPING TO GET THE INDEX IN THE FEATURES\n",
    "index_mapping = dict(zip(index['original_index'], index['feature_index']))\n",
    "index_mapping\n",
    "\n",
    "samples_id['feature_index'] = samples_id['original_index'].map(index_mapping)\n",
    "\n",
    "instances=samples_id['feature_index'].values\n",
    "assert np.all(instances < features.shape[0])"
   ]
  },
  {
   "cell_type": "code",
   "execution_count": 26,
   "metadata": {},
   "outputs": [],
   "source": [
    "# import json\n",
    "# # Specify the file path\n",
    "# file_path = 'data/MC_LIME_results.json'\n",
    "\n",
    "# # Read the JSON file\n",
    "# with open(file_path, 'r') as f:\n",
    "#     data = json.load(f)\n",
    "\n",
    "# # Print the data\n",
    "# list(data.keys())"
   ]
  },
  {
   "cell_type": "code",
   "execution_count": 16,
   "metadata": {},
   "outputs": [
    {
     "data": {
      "text/plain": [
       "array([291, 243, 138, 174, 234])"
      ]
     },
     "execution_count": 16,
     "metadata": {},
     "output_type": "execute_result"
    }
   ],
   "source": [
    "instances"
   ]
  },
  {
   "cell_type": "code",
   "execution_count": 17,
   "metadata": {},
   "outputs": [
    {
     "data": {
      "text/plain": [
       "226"
      ]
     },
     "execution_count": 17,
     "metadata": {},
     "output_type": "execute_result"
    }
   ],
   "source": []
  },
  {
   "cell_type": "markdown",
   "metadata": {},
   "source": [
    "### Calculate MC-Lime for each student"
   ]
  },
  {
   "cell_type": "code",
   "execution_count": 13,
   "metadata": {},
   "outputs": [],
   "source": [
    "lime_path=f\"uniform_eq_results_ori_{str(NUM_WEEKS)}_weeks/LIME/{str(course)}/dataframes/\"\n",
    "mapping={\"pass\" : 0, \"fail\" : 1}"
   ]
  },
  {
   "cell_type": "code",
   "execution_count": 18,
   "metadata": {},
   "outputs": [
    {
     "name": "stdout",
     "output_type": "stream",
     "text": [
      "226\n",
      "\n",
      "\n",
      "\n",
      "___NEW GROUP SIZE___\n",
      "1\n",
      "{}\n"
     ]
    },
    {
     "name": "stderr",
     "output_type": "stream",
     "text": [
      "/Users/davide/Desktop/EPFL/XAI Semester Project/llm-xai/MC_LIME.py:81: FutureWarning: Series.__getitem__ treating keys as positions is deprecated. In a future version, integer keys will always be treated as labels (consistent with DataFrame behavior). To access a value by position, use `ser.iloc[pos]`\n",
      "  y_orig=mapping[results[\"real value\"][0]]\n",
      "2024-07-01 18:51:42.439012: I tensorflow/core/grappler/optimizers/custom_graph_optimizer_registry.cc:114] Plugin optimizer for device_type GPU is enabled.\n",
      "2024-07-01 18:51:42.870150: I tensorflow/core/grappler/optimizers/custom_graph_optimizer_registry.cc:114] Plugin optimizer for device_type GPU is enabled.\n",
      "2024-07-01 18:51:42.928639: I tensorflow/core/grappler/optimizers/custom_graph_optimizer_registry.cc:114] Plugin optimizer for device_type GPU is enabled.\n",
      "2024-07-01 18:51:43.058849: I tensorflow/core/grappler/optimizers/custom_graph_optimizer_registry.cc:114] Plugin optimizer for device_type GPU is enabled.\n",
      "2024-07-01 18:51:43.117884: I tensorflow/core/grappler/optimizers/custom_graph_optimizer_registry.cc:114] Plugin optimizer for device_type GPU is enabled.\n"
     ]
    }
   ],
   "source": [
    "# ONLY FOR ONE INDEX\n",
    "import json\n",
    "\n",
    "\n",
    "\n",
    "MC_LIME_results={}\n",
    "index=index_mapping[802]\n",
    "print(index)\n",
    "important_features, student_features, step_sizes, y_orig = get_lime_results(features, lime_path, index, mapping)\n",
    "average_values = features[important_features.index.values].mean()\n",
    "\n",
    "MC_LIME_results[index] = MC_LIME(important_features, student_features, step_sizes, average_values, loaded_model, y_orig, debug=True)\n",
    "\n",
    "MC_LIME_results[index] = {str(inner_key): list(inner_value) for inner_key, inner_value in MC_LIME_results[index].items()}\n",
    "\n",
    "# Save MC_LIME_results as a JSON file\n",
    "with open('MC_LIME_temp.json', 'w') as f:\n",
    "    json.dump(MC_LIME_results, f)"
   ]
  },
  {
   "cell_type": "code",
   "execution_count": 33,
   "metadata": {},
   "outputs": [
    {
     "ename": "TypeError",
     "evalue": "'numpy.int64' object is not iterable",
     "output_type": "error",
     "traceback": [
      "\u001b[0;31m---------------------------------------------------------------------------\u001b[0m",
      "\u001b[0;31mTypeError\u001b[0m                                 Traceback (most recent call last)",
      "Cell \u001b[0;32mIn[33], line 5\u001b[0m\n\u001b[1;32m      2\u001b[0m \u001b[38;5;28;01mimport\u001b[39;00m \u001b[38;5;21;01mjson\u001b[39;00m\n\u001b[1;32m      4\u001b[0m MC_LIME_results\u001b[38;5;241m=\u001b[39m{}\n\u001b[0;32m----> 5\u001b[0m \u001b[38;5;28;01mfor\u001b[39;00m index \u001b[38;5;129;01min\u001b[39;00m instances:\n\u001b[1;32m      6\u001b[0m     \u001b[38;5;28mprint\u001b[39m(index)\n\u001b[1;32m      7\u001b[0m     important_features, student_features, step_sizes, y_orig \u001b[38;5;241m=\u001b[39m get_lime_results(features, lime_path, index, mapping)\n",
      "\u001b[0;31mTypeError\u001b[0m: 'numpy.int64' object is not iterable"
     ]
    }
   ],
   "source": [
    "# MULTIPLE INDICES\n",
    "import json\n",
    "\n",
    "MC_LIME_results={}\n",
    "for index in instances:\n",
    "    print(index)\n",
    "    important_features, student_features, step_sizes, y_orig = get_lime_results(features, lime_path, index, mapping)\n",
    "    average_values = features[important_features.index.values].mean()\n",
    "\n",
    "    MC_LIME_results[str(index)] = MC_LIME(important_features, student_features, step_sizes, average_values, loaded_model, y_orig, debug=True, max_group_size=5)\n",
    " \n",
    "    MC_LIME_results[str(index)] = {str(inner_key): list(inner_value) for inner_key, inner_value in MC_LIME_results[str(index)].items()}\n",
    "\n",
    "    # Save MC_LIME_results as a JSON file\n",
    "    with open(f'MC_LIME_temp_{str(course)}.json', 'w') as f:\n",
    "        json.dump(MC_LIME_results, f)"
   ]
  },
  {
   "cell_type": "code",
   "execution_count": 9,
   "metadata": {},
   "outputs": [
    {
     "name": "stdout",
     "output_type": "stream",
     "text": [
      "Number of features with zero step size: 0\n"
     ]
    },
    {
     "name": "stderr",
     "output_type": "stream",
     "text": [
      "/Users/davide/Desktop/EPFL/XAI Semester Project/llm-xai/MC_LIME.py:89: FutureWarning: Series.__getitem__ treating keys as positions is deprecated. In a future version, integer keys will always be treated as labels (consistent with DataFrame behavior). To access a value by position, use `ser.iloc[pos]`\n",
      "  y_orig=mapping[results[\"real value\"][0]]\n"
     ]
    }
   ],
   "source": [
    "important_features, student_features, step_sizes, y_orig=get_lime_results(features, lime_path, 123, mapping)"
   ]
  },
  {
   "cell_type": "code",
   "execution_count": 51,
   "metadata": {},
   "outputs": [
    {
     "data": {
      "text/plain": [
       "{123: {('competency_alignment_InWeek5',): (0.08833548027973,),\n",
       "  ('competency_alignment_InWeek4',): (0.12036466410653988,),\n",
       "  ('total_clicks_problem_InWeek5',): (0.09333636456076931,),\n",
       "  ('competency_strength_InWeek4',): (0.3967560075134585,),\n",
       "  ('time_between_sessions_std_InWeek5',): (0.06969065040014832,),\n",
       "  ('total_clicks_problem_InWeek4',): (0.002398876613832389,),\n",
       "  ('student_shape_InWeek3',): (0.025032824042274963,),\n",
       "  ('competency_alignment_InWeek3',): (0.09505611287746726,),\n",
       "  ('competency_anticipation_InWeek2',): (0.19902091659690474,),\n",
       "  ('competency_alignment_InWeek2',): (0.10349531214844872,),\n",
       "  ('competency_anticipation_InWeek5',): (0.24053339874792015,),\n",
       "  ('time_in__problem_sum_InWeek5',): (0.28784845133620274,),\n",
       "  ('regularity_periodicity_m1_InWeek5',): (0.1718132504549743,),\n",
       "  ('competency_strength_InWeek3',): (0.14281208000704368,),\n",
       "  ('competency_anticipation_InWeek3',): (0.13262485362853155,),\n",
       "  ('student_shape_InWeek4',): (0.036183274932754514,),\n",
       "  ('competency_anticipation_InWeek4',): (0.15990210933362464,),\n",
       "  ('competency_anticipation_InWeek1',): (0.2035557029063588,)},\n",
       " 230: {('competency_alignment_InWeek5',): (0.08833548027973,),\n",
       "  ('competency_strength_InWeek5',): (0.07814997317477021,),\n",
       "  ('student_shape_InWeek5',): (0.027211613094723187,),\n",
       "  ('competency_alignment_InWeek4',): (0.12036466410653988,),\n",
       "  ('time_between_sessions_std_InWeek5',): (0.06969065040014832,),\n",
       "  ('competency_strength_InWeek4',): (0.09608448532703441,),\n",
       "  ('total_clicks_problem_InWeek5',): (0.03811113530778319,),\n",
       "  ('competency_alignment_InWeek3',): (0.09505611287746726,),\n",
       "  ('student_shape_InWeek2',): (0.03538902267164087,),\n",
       "  ('competency_alignment_InWeek2',): (0.10349531214844872,),\n",
       "  ('total_clicks_problem_InWeek4',): (0.056365888033285114,),\n",
       "  ('total_clicks_weekend_InWeek4',): (0.0651066549429909,),\n",
       "  ('content_anticipation_InWeek5',): (0.013774548828392975,),\n",
       "  ('competency_anticipation_InWeek3',): (0.13262485362853155,),\n",
       "  ('competency_strength_InWeek3',): (0.14281208000704368,),\n",
       "  ('competency_anticipation_InWeek5',): (0.24053339874792015,),\n",
       "  ('competency_anticipation_InWeek4',): (0.15990210933362464,),\n",
       "  ('time_in__problem_sum_InWeek5',): (0.0407234086206,),\n",
       "  ('competency_anticipation_InWeek2',): (0.19902091659690474,),\n",
       "  ('student_shape_InWeek3',): (0.025032824042274963,)}}"
      ]
     },
     "execution_count": 51,
     "metadata": {},
     "output_type": "execute_result"
    }
   ],
   "source": [
    "MC_LIME_results"
   ]
  },
  {
   "cell_type": "code",
   "execution_count": 61,
   "metadata": {},
   "outputs": [
    {
     "data": {
      "text/plain": [
       "{}"
      ]
     },
     "execution_count": 61,
     "metadata": {},
     "output_type": "execute_result"
    }
   ],
   "source": [
    "MC_LIME_results"
   ]
  },
  {
   "cell_type": "code",
   "execution_count": 37,
   "metadata": {},
   "outputs": [],
   "source": [
    "for key in MC_LIME_results:\n",
    "    MC_LIME_results[key] = {str(inner_key): list(inner_value) for inner_key, inner_value in MC_LIME_results[key].items()}\n",
    "\n",
    "# Save MC_LIME_results as a JSON file\n",
    "with open('MC_LIME_results.json', 'w') as f:\n",
    "    json.dump(MC_LIME_results, f)"
   ]
  },
  {
   "cell_type": "markdown",
   "metadata": {},
   "source": [
    "## CEM"
   ]
  }
 ],
 "metadata": {
  "kernelspec": {
   "display_name": "xai",
   "language": "python",
   "name": "python3"
  },
  "language_info": {
   "codemirror_mode": {
    "name": "ipython",
    "version": 3
   },
   "file_extension": ".py",
   "mimetype": "text/x-python",
   "name": "python",
   "nbconvert_exporter": "python",
   "pygments_lexer": "ipython3",
   "version": "3.11.5"
  }
 },
 "nbformat": 4,
 "nbformat_minor": 2
}
