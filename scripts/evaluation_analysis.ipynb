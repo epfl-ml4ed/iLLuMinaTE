{
 "cells": [
  {
   "cell_type": "code",
   "execution_count": null,
   "metadata": {},
   "outputs": [],
   "source": [
    "!pip install openpyxl"
   ]
  },
  {
   "cell_type": "code",
   "execution_count": 238,
   "metadata": {},
   "outputs": [],
   "source": [
    "import pandas as pd\n",
    "\n",
    "import ast\n",
    "import altair as alt\n",
    "from tqdm.notebook import tqdm\n",
    "\n",
    "import numpy as np"
   ]
  },
  {
   "cell_type": "code",
   "execution_count": 1,
   "metadata": {},
   "outputs": [],
   "source": [
    "course=\"geomatique_003\"\n",
    "model_results=\"gpt4o\"\n",
    "model=\"llama-3.1-70b-versatile\""
   ]
  },
  {
   "cell_type": "code",
   "execution_count": 355,
   "metadata": {},
   "outputs": [
    {
     "data": {
      "text/plain": [
       "array([  123,   230,   528,   784,  2404,  4584,  1908,  5192,  6353,\n",
       "        6478,  7504,  7967,  8286,  9502,  9749, 12204, 12521, 13359,\n",
       "       14030, 16920])"
      ]
     },
     "execution_count": 355,
     "metadata": {},
     "output_type": "execute_result"
    }
   ],
   "source": [
    "answers[\"student\"].unique()"
   ]
  },
  {
   "cell_type": "code",
   "execution_count": 360,
   "metadata": {},
   "outputs": [],
   "source": [
    "# %%\n",
    "instances_annotation_DSP = [230, 6478, 123, 5192, 16920]\n",
    "instances_annotation_GEO = [226, 291, 138, 234, 174]\n",
    "instances_annotation_VILLES = [1090, 2560, 2608, 3170, 1562]\n"
   ]
  },
  {
   "cell_type": "code",
   "execution_count": 361,
   "metadata": {},
   "outputs": [
    {
     "name": "stdout",
     "output_type": "stream",
     "text": [
      "{'relevance_selection': ['Is the generated text using the provided data extensively?', 'Is the generated text analysis based largely on the explainer results provided?', 'Is the generated text correctly using the model’s predicted outcome?', 'Is the generated text considering the context (course structure)?', 'Is the generated text selecting the causes that are most relevant to the explainer results?', 'Is the generated text selecting the causes that are most relevant to the question?', 'Is the generated text selecting the causes that are most relevant to the user?', 'Is the generated text selecting some information that is not already shared with the student?'], 'abnormal_conditions': ['Is the generated text using the provided data extensively?', 'Is the generated text analysis based largely on the explainer results provided?', 'Is the generated text correctly using the model’s predicted outcome?', 'Is the generated text considering the context (course structure)?', 'Is the generated text selecting the causes based on the abnormality of the causes?', 'Is the generated text selecting the causes based on the temporality of the causes?', 'Is the generated text selecting the causes based on the abnormality of the causes?', 'Is the generated text selecting the causes based on the controllability of the causes?', 'Is the selected explanation following the criterias of Abnormality, Temporality, Controllability?'], 'pearl_explanation': ['Is the generated text using the provided data extensively?', 'Is the generated text analysis based largely on the explainer results provided?', 'Is the generated text correctly using the model’s predicted outcome?', 'Is the generated text considering the context (course structure)?', 'Is the generated text identifying variables that are determined by factors external to the model?', 'Is the generated text identifying variables that are determined by relationships with other variables?', 'Is the explanation selected containing only a set of factors that is minimal?', 'Is the explanation considering variables that could potentially alter the model output?'], 'necessity_robustness_selection': ['Is the generated text using the provided data extensively?', 'Is the generated text analysis based largely on the explainer results provided?', 'Is the generated text correctly using the model’s predicted outcome?', 'Is the generated text considering the context (course structure)?', 'Is the generated text selecting features that explains the model’s output?', 'Is the generated text selecting a few of these sets of factors by considering the necessity criteria?', 'Is the generated text selecting the most robust explanation?'], 'contrastive_explanation': ['Is the generated text using the provided data extensively?', 'Is the generated text analysis based largely on the explainer results provided?', 'Is the generated text correctly using the model’s predicted outcome?', 'Is the generated text considering the context (course structure)?', 'Is the generated text reformulating the question in a “Why P rather than Q?” format?', 'Is the generated text selecting the event P as the target event?', 'Is the generated text selecting the event Q as the counterfactual event that did not occur?', 'Is the generated text selecting the foil based on abnormality to the context, question and user?', 'Is the generated text selecting the foil based on relevance to the context, question and user?'], 'hesslow_contrastive': [], 'base_contrastive_explanation': ['Is the generated text using the provided data extensively?', 'Is the generated text based only on the explainer results provided?', 'Is the generated text correctly using the model’s predicted outcome?', 'Is the generated text considering the context (course structure)?', 'Is the generated text reformulating the question in a “Why P rather than Q?” format?', 'Is the generated text determining the causes that explain the difference between P and not-Q?', 'Is the generated text reasoning about which causes are a cause of P?', 'Is the generated text reasoning about causes that aren’t present in the causal chain of Q?'], 'statistical_relevance': ['Is the generated text using the provided data extensively?', 'Is the generated text analysis based largely on the explainer results provided?', 'Is the generated text correctly using the model’s predicted outcome?', 'Is the generated text considering the context (course structure)?', 'Is the generated text selecting the explanation based on likelihood?'], 'chain_of_thought': ['Is the generated text using the provided data extensively?', 'Is the generated text analysis based largely on the explainer results provided?', 'Is the generated text correctly using the model’s predicted outcome?', 'Is the generated text considering the context (course structure)?', 'Is the generated text selecting the explanation by step-by-step tasks?']}\n"
     ]
    }
   ],
   "source": [
    "import json\n",
    "\n",
    "# Specify the file path\n",
    "file_path = 'data/decomposed_questions.json'\n",
    "\n",
    "# Read the JSON file\n",
    "with open(file_path, 'r') as file:\n",
    "    questions = json.load(file)\n",
    "\n",
    "# Print the data\n",
    "print(questions)"
   ]
  },
  {
   "cell_type": "markdown",
   "metadata": {},
   "source": [
    "remember that in abnormal_conditions you have a duplicated question."
   ]
  },
  {
   "cell_type": "code",
   "execution_count": 362,
   "metadata": {},
   "outputs": [
    {
     "data": {
      "text/plain": [
       "[{8, 'relevance_selection'},\n",
       " {9, 'abnormal_conditions'},\n",
       " {8, 'pearl_explanation'},\n",
       " {7, 'necessity_robustness_selection'},\n",
       " {9, 'contrastive_explanation'},\n",
       " {0, 'hesslow_contrastive'},\n",
       " {8, 'base_contrastive_explanation'},\n",
       " {5, 'statistical_relevance'},\n",
       " {5, 'chain_of_thought'}]"
      ]
     },
     "execution_count": 362,
     "metadata": {},
     "output_type": "execute_result"
    }
   ],
   "source": [
    "lengths = []\n",
    "for key, item in questions.items():\n",
    "    lengths.append({key, len(item)})\n",
    "\n",
    "lengths"
   ]
  },
  {
   "cell_type": "markdown",
   "metadata": {},
   "source": [
    "Annotations\n",
    "\n",
    "relevance 8\n",
    "abnormal 8\n",
    "base contrastive 9\n",
    "cot 5\n",
    "contrastive 9\n",
    "necessity 7\n",
    "pearl 8\n",
    "statistical 5"
   ]
  },
  {
   "cell_type": "code",
   "execution_count": 235,
   "metadata": {},
   "outputs": [],
   "source": [
    "# import pandas as pd\n",
    "# import re\n",
    "\n",
    "# # Replace 'your_file.xlsx' with the path to your Excel file\n",
    "# excel_file = 'LLMs_Explainers_Human_Annotation.xlsx'\n",
    "\n",
    "# # Define the new column names you want to apply\n",
    "# new_column_names = ['Student Number', 'Explainer', 'Theory', 'Prompt', 'Response'] + \\\n",
    "#                    [f'question_{i+1}' for i in range(9)]  # Adjust range as needed\n",
    "\n",
    "# # Load the Excel file\n",
    "# xls = pd.ExcelFile(excel_file)\n",
    "\n",
    "# # Initialize an empty DataFrame to hold all the data\n",
    "# combined_df = pd.DataFrame()\n",
    "\n",
    "# # Loop through each sheet\n",
    "# for sheet_name in xls.sheet_names:\n",
    "#     # Load sheet into a DataFrame\n",
    "#     df = pd.read_excel(xls, sheet_name=sheet_name)\n",
    "    \n",
    "#     # Remove columns that have names like \"Column 1\", \"Column 2\", etc.\n",
    "#     df = df.loc[:, ~df.columns.str.match(r'Column \\d+')]\n",
    "    \n",
    "#     # Rename the columns with the specified list\n",
    "#     df.columns = new_column_names[:df.shape[1]]\n",
    "    \n",
    "#     # Add a column to identify the sheet name\n",
    "#     df['annotator'] = sheet_name\n",
    "    \n",
    "#     # Append to the combined DataFrame\n",
    "#     combined_df = pd.concat([combined_df, df], ignore_index=True)\n",
    "\n",
    "# # To save as CSV:\n",
    "# combined_df.to_csv('all_human_annotations.csv', index=False)\n",
    "\n",
    "# print(\"All sheets have been concatenated and saved.\")\n"
   ]
  },
  {
   "cell_type": "code",
   "execution_count": 305,
   "metadata": {},
   "outputs": [
    {
     "data": {
      "text/html": [
       "<div>\n",
       "<style scoped>\n",
       "    .dataframe tbody tr th:only-of-type {\n",
       "        vertical-align: middle;\n",
       "    }\n",
       "\n",
       "    .dataframe tbody tr th {\n",
       "        vertical-align: top;\n",
       "    }\n",
       "\n",
       "    .dataframe thead th {\n",
       "        text-align: right;\n",
       "    }\n",
       "</style>\n",
       "<table border=\"1\" class=\"dataframe\">\n",
       "  <thead>\n",
       "    <tr style=\"text-align: right;\">\n",
       "      <th></th>\n",
       "      <th>student</th>\n",
       "      <th>explainer</th>\n",
       "      <th>strategy</th>\n",
       "      <th>Prompt</th>\n",
       "      <th>Response</th>\n",
       "      <th>question_1</th>\n",
       "      <th>question_2</th>\n",
       "      <th>question_3</th>\n",
       "      <th>question_4</th>\n",
       "      <th>question_5</th>\n",
       "      <th>question_6</th>\n",
       "      <th>question_7</th>\n",
       "      <th>question_8</th>\n",
       "      <th>annotator</th>\n",
       "      <th>question_9</th>\n",
       "    </tr>\n",
       "  </thead>\n",
       "  <tbody>\n",
       "    <tr>\n",
       "      <th>0</th>\n",
       "      <td>6478.0</td>\n",
       "      <td>LIME</td>\n",
       "      <td>abnormal_conditions</td>\n",
       "      <td>You are an AI assistant that analyzes struggli...</td>\n",
       "      <td>### Report on Student Performance Analysis\\n \\...</td>\n",
       "      <td>Yes</td>\n",
       "      <td>Yes</td>\n",
       "      <td>Yes</td>\n",
       "      <td>Yes</td>\n",
       "      <td>Yes</td>\n",
       "      <td>Yes</td>\n",
       "      <td>Yes</td>\n",
       "      <td>Yes</td>\n",
       "      <td>Davide</td>\n",
       "      <td>NaN</td>\n",
       "    </tr>\n",
       "    <tr>\n",
       "      <th>1</th>\n",
       "      <td>6478.0</td>\n",
       "      <td>MC-LIME</td>\n",
       "      <td>abnormal_conditions</td>\n",
       "      <td>You are an AI assistant that analyzes struggli...</td>\n",
       "      <td>### Report on Student Performance Analysis\\n \\...</td>\n",
       "      <td>Yes</td>\n",
       "      <td>Yes</td>\n",
       "      <td>No</td>\n",
       "      <td>Yes</td>\n",
       "      <td>Yes</td>\n",
       "      <td>Yes</td>\n",
       "      <td>Yes</td>\n",
       "      <td>Yes</td>\n",
       "      <td>Davide</td>\n",
       "      <td>NaN</td>\n",
       "    </tr>\n",
       "    <tr>\n",
       "      <th>2</th>\n",
       "      <td>6478.0</td>\n",
       "      <td>CEM</td>\n",
       "      <td>abnormal_conditions</td>\n",
       "      <td>You are an AI assistant that analyzes struggli...</td>\n",
       "      <td>### Student Performance Analysis Report\\n \\n #...</td>\n",
       "      <td>Yes</td>\n",
       "      <td>Yes</td>\n",
       "      <td>No</td>\n",
       "      <td>Yes</td>\n",
       "      <td>Yes</td>\n",
       "      <td>Yes</td>\n",
       "      <td>Yes</td>\n",
       "      <td>Yes</td>\n",
       "      <td>Davide</td>\n",
       "      <td>NaN</td>\n",
       "    </tr>\n",
       "    <tr>\n",
       "      <th>3</th>\n",
       "      <td>230.0</td>\n",
       "      <td>LIME</td>\n",
       "      <td>abnormal_conditions</td>\n",
       "      <td>You are an AI assistant that analyzes struggli...</td>\n",
       "      <td>### Report on Student's Performance in Digital...</td>\n",
       "      <td>Yes</td>\n",
       "      <td>Yes</td>\n",
       "      <td>Yes</td>\n",
       "      <td>Yes</td>\n",
       "      <td>Yes</td>\n",
       "      <td>Yes</td>\n",
       "      <td>Yes</td>\n",
       "      <td>Yes</td>\n",
       "      <td>Davide</td>\n",
       "      <td>NaN</td>\n",
       "    </tr>\n",
       "    <tr>\n",
       "      <th>4</th>\n",
       "      <td>230.0</td>\n",
       "      <td>MC-LIME</td>\n",
       "      <td>abnormal_conditions</td>\n",
       "      <td>You are an AI assistant that analyzes struggli...</td>\n",
       "      <td>### Analysis Report on Student's Predicted Fai...</td>\n",
       "      <td>Yes</td>\n",
       "      <td>Yes</td>\n",
       "      <td>Yes</td>\n",
       "      <td>Yes</td>\n",
       "      <td>Yes</td>\n",
       "      <td>Yes</td>\n",
       "      <td>Yes</td>\n",
       "      <td>Yes</td>\n",
       "      <td>Davide</td>\n",
       "      <td>NaN</td>\n",
       "    </tr>\n",
       "    <tr>\n",
       "      <th>...</th>\n",
       "      <td>...</td>\n",
       "      <td>...</td>\n",
       "      <td>...</td>\n",
       "      <td>...</td>\n",
       "      <td>...</td>\n",
       "      <td>...</td>\n",
       "      <td>...</td>\n",
       "      <td>...</td>\n",
       "      <td>...</td>\n",
       "      <td>...</td>\n",
       "      <td>...</td>\n",
       "      <td>...</td>\n",
       "      <td>...</td>\n",
       "      <td>...</td>\n",
       "      <td>...</td>\n",
       "    </tr>\n",
       "    <tr>\n",
       "      <th>22025</th>\n",
       "      <td>174.0</td>\n",
       "      <td>MC-LIME</td>\n",
       "      <td>statistical_relevance</td>\n",
       "      <td>You are an AI assistant that analyzes struggli...</td>\n",
       "      <td>### Student Performance Analysis Report\\n \\n #...</td>\n",
       "      <td>Yes</td>\n",
       "      <td>Yes</td>\n",
       "      <td>Yes</td>\n",
       "      <td>Yes</td>\n",
       "      <td>Yes</td>\n",
       "      <td>NaN</td>\n",
       "      <td>NaN</td>\n",
       "      <td>NaN</td>\n",
       "      <td>Bhargav</td>\n",
       "      <td>NaN</td>\n",
       "    </tr>\n",
       "    <tr>\n",
       "      <th>22026</th>\n",
       "      <td>174.0</td>\n",
       "      <td>CEM</td>\n",
       "      <td>statistical_relevance</td>\n",
       "      <td>You are an AI assistant that analyzes struggli...</td>\n",
       "      <td>### Report on Student Performance Prediction\\n...</td>\n",
       "      <td>Yes</td>\n",
       "      <td>Yes</td>\n",
       "      <td>Yes</td>\n",
       "      <td>Yes</td>\n",
       "      <td>Yes</td>\n",
       "      <td>NaN</td>\n",
       "      <td>NaN</td>\n",
       "      <td>NaN</td>\n",
       "      <td>Bhargav</td>\n",
       "      <td>NaN</td>\n",
       "    </tr>\n",
       "    <tr>\n",
       "      <th>22027</th>\n",
       "      <td>234.0</td>\n",
       "      <td>LIME</td>\n",
       "      <td>statistical_relevance</td>\n",
       "      <td>You are an AI assistant that analyzes struggli...</td>\n",
       "      <td>### Report on Student's Predicted Performance\\...</td>\n",
       "      <td>Yes</td>\n",
       "      <td>Yes</td>\n",
       "      <td>Yes</td>\n",
       "      <td>Yes</td>\n",
       "      <td>Yes</td>\n",
       "      <td>NaN</td>\n",
       "      <td>NaN</td>\n",
       "      <td>NaN</td>\n",
       "      <td>Bhargav</td>\n",
       "      <td>NaN</td>\n",
       "    </tr>\n",
       "    <tr>\n",
       "      <th>22028</th>\n",
       "      <td>234.0</td>\n",
       "      <td>MC-LIME</td>\n",
       "      <td>statistical_relevance</td>\n",
       "      <td>You are an AI assistant that analyzes struggli...</td>\n",
       "      <td>### Report on Student Performance Prediction\\n...</td>\n",
       "      <td>Yes</td>\n",
       "      <td>Yes</td>\n",
       "      <td>Yes</td>\n",
       "      <td>Yes</td>\n",
       "      <td>Yes</td>\n",
       "      <td>NaN</td>\n",
       "      <td>NaN</td>\n",
       "      <td>NaN</td>\n",
       "      <td>Bhargav</td>\n",
       "      <td>NaN</td>\n",
       "    </tr>\n",
       "    <tr>\n",
       "      <th>22029</th>\n",
       "      <td>234.0</td>\n",
       "      <td>CEM</td>\n",
       "      <td>statistical_relevance</td>\n",
       "      <td>You are an AI assistant that analyzes struggli...</td>\n",
       "      <td>### Report on Student Performance Prediction\\n...</td>\n",
       "      <td>Yes</td>\n",
       "      <td>Yes</td>\n",
       "      <td>Yes</td>\n",
       "      <td>Yes</td>\n",
       "      <td>Yes</td>\n",
       "      <td>NaN</td>\n",
       "      <td>NaN</td>\n",
       "      <td>NaN</td>\n",
       "      <td>Bhargav</td>\n",
       "      <td>NaN</td>\n",
       "    </tr>\n",
       "  </tbody>\n",
       "</table>\n",
       "<p>456 rows × 15 columns</p>\n",
       "</div>"
      ],
      "text/plain": [
       "       student explainer               strategy  \\\n",
       "0       6478.0      LIME    abnormal_conditions   \n",
       "1       6478.0   MC-LIME    abnormal_conditions   \n",
       "2       6478.0       CEM    abnormal_conditions   \n",
       "3        230.0      LIME    abnormal_conditions   \n",
       "4        230.0   MC-LIME    abnormal_conditions   \n",
       "...        ...       ...                    ...   \n",
       "22025    174.0   MC-LIME  statistical_relevance   \n",
       "22026    174.0       CEM  statistical_relevance   \n",
       "22027    234.0      LIME  statistical_relevance   \n",
       "22028    234.0   MC-LIME  statistical_relevance   \n",
       "22029    234.0       CEM  statistical_relevance   \n",
       "\n",
       "                                                  Prompt  \\\n",
       "0      You are an AI assistant that analyzes struggli...   \n",
       "1      You are an AI assistant that analyzes struggli...   \n",
       "2      You are an AI assistant that analyzes struggli...   \n",
       "3      You are an AI assistant that analyzes struggli...   \n",
       "4      You are an AI assistant that analyzes struggli...   \n",
       "...                                                  ...   \n",
       "22025  You are an AI assistant that analyzes struggli...   \n",
       "22026  You are an AI assistant that analyzes struggli...   \n",
       "22027  You are an AI assistant that analyzes struggli...   \n",
       "22028  You are an AI assistant that analyzes struggli...   \n",
       "22029  You are an AI assistant that analyzes struggli...   \n",
       "\n",
       "                                                Response question_1  \\\n",
       "0      ### Report on Student Performance Analysis\\n \\...        Yes   \n",
       "1      ### Report on Student Performance Analysis\\n \\...        Yes   \n",
       "2      ### Student Performance Analysis Report\\n \\n #...        Yes   \n",
       "3      ### Report on Student's Performance in Digital...        Yes   \n",
       "4      ### Analysis Report on Student's Predicted Fai...        Yes   \n",
       "...                                                  ...        ...   \n",
       "22025  ### Student Performance Analysis Report\\n \\n #...        Yes   \n",
       "22026  ### Report on Student Performance Prediction\\n...        Yes   \n",
       "22027  ### Report on Student's Predicted Performance\\...        Yes   \n",
       "22028  ### Report on Student Performance Prediction\\n...        Yes   \n",
       "22029  ### Report on Student Performance Prediction\\n...        Yes   \n",
       "\n",
       "      question_2 question_3 question_4 question_5 question_6 question_7  \\\n",
       "0            Yes        Yes        Yes        Yes        Yes        Yes   \n",
       "1            Yes         No        Yes        Yes        Yes        Yes   \n",
       "2            Yes         No        Yes        Yes        Yes        Yes   \n",
       "3            Yes        Yes        Yes        Yes        Yes        Yes   \n",
       "4            Yes        Yes        Yes        Yes        Yes        Yes   \n",
       "...          ...        ...        ...        ...        ...        ...   \n",
       "22025        Yes        Yes        Yes        Yes        NaN        NaN   \n",
       "22026        Yes        Yes        Yes        Yes        NaN        NaN   \n",
       "22027        Yes        Yes        Yes        Yes        NaN        NaN   \n",
       "22028        Yes        Yes        Yes        Yes        NaN        NaN   \n",
       "22029        Yes        Yes        Yes        Yes        NaN        NaN   \n",
       "\n",
       "      question_8 annotator question_9  \n",
       "0            Yes   Davide         NaN  \n",
       "1            Yes   Davide         NaN  \n",
       "2            Yes   Davide         NaN  \n",
       "3            Yes   Davide         NaN  \n",
       "4            Yes   Davide         NaN  \n",
       "...          ...       ...        ...  \n",
       "22025        NaN  Bhargav         NaN  \n",
       "22026        NaN  Bhargav         NaN  \n",
       "22027        NaN  Bhargav         NaN  \n",
       "22028        NaN  Bhargav         NaN  \n",
       "22029        NaN  Bhargav         NaN  \n",
       "\n",
       "[456 rows x 15 columns]"
      ]
     },
     "execution_count": 305,
     "metadata": {},
     "output_type": "execute_result"
    }
   ],
   "source": [
    "df=pd.read_csv('all_human_annotations.csv')\n",
    "df[\"annotator\"]=df[\"annotator\"].str.split(\"-\").str[0]\n",
    "df.rename(columns={\"Student Number\":\"student\"}, inplace=True)\n",
    "df.rename(columns={\"Theory\":\"strategy\"}, inplace=True)\n",
    "df.rename(columns={\"Explainer\":\"explainer\"}, inplace=True)\n",
    "df.dropna(inplace=True, subset=[\"student\"])\n",
    "df"
   ]
  },
  {
   "cell_type": "code",
   "execution_count": 307,
   "metadata": {},
   "outputs": [],
   "source": [
    "assert len(df) == 456"
   ]
  },
  {
   "cell_type": "code",
   "execution_count": 190,
   "metadata": {},
   "outputs": [],
   "source": [
    "#2*3*8*3 + 3*8*13"
   ]
  },
  {
   "cell_type": "code",
   "execution_count": 308,
   "metadata": {},
   "outputs": [
    {
     "name": "stderr",
     "output_type": "stream",
     "text": [
      "/var/folders/rq/nzqjmf0x07vg4p477yrb9w800000gn/T/ipykernel_60502/3979305336.py:13: FutureWarning: Downcasting behavior in `replace` is deprecated and will be removed in a future version. To retain the old behavior, explicitly call `result.infer_objects(copy=False)`. To opt-in to the future behavior, set `pd.set_option('future.no_silent_downcasting', True)`\n",
      "  df[question_columns] = df[question_columns].replace({'Yes': 1, 'No': 0})\n"
     ]
    }
   ],
   "source": [
    "def map_yes_no_to_binary(df, question_columns):\n",
    "    \"\"\"\n",
    "    Map \"Yes\" to 1 and \"No\" to 0 in the specified question columns of the DataFrame.\n",
    "\n",
    "    Parameters:\n",
    "    df (pd.DataFrame): The DataFrame containing the data.\n",
    "    question_columns (list): A list of columns that contain the \"Yes\"/\"No\" answers.\n",
    "\n",
    "    Returns:\n",
    "    pd.DataFrame: The DataFrame with \"Yes\"/\"No\" mapped to 1/0.\n",
    "    \"\"\"\n",
    "    # Map \"Yes\" to 1 and \"No\" to 0\n",
    "    df[question_columns] = df[question_columns].replace({'Yes': 1, 'No': 0})\n",
    "    return df\n",
    "\n",
    "df = map_yes_no_to_binary(df, question_columns)\n"
   ]
  },
  {
   "cell_type": "code",
   "execution_count": 309,
   "metadata": {},
   "outputs": [
    {
     "name": "stderr",
     "output_type": "stream",
     "text": [
      "/var/folders/rq/nzqjmf0x07vg4p477yrb9w800000gn/T/ipykernel_60502/1081304849.py:31: FutureWarning: The behavior of DataFrame concatenation with empty or all-NA entries is deprecated. In a future version, this will no longer exclude empty or all-NA columns when determining the result dtypes. To retain the old behavior, exclude the relevant entries before the concat operation.\n",
      "  resolved_df = pd.concat([resolved_df, pd.DataFrame([new_row])], ignore_index=True)\n",
      "/var/folders/rq/nzqjmf0x07vg4p477yrb9w800000gn/T/ipykernel_60502/1081304849.py:31: FutureWarning: The behavior of DataFrame concatenation with empty or all-NA entries is deprecated. In a future version, this will no longer exclude empty or all-NA columns when determining the result dtypes. To retain the old behavior, exclude the relevant entries before the concat operation.\n",
      "  resolved_df = pd.concat([resolved_df, pd.DataFrame([new_row])], ignore_index=True)\n"
     ]
    }
   ],
   "source": [
    "def resolve_duplicates(df, id_columns, question_columns, annotator_column='annotator'):\n",
    "    \"\"\"\n",
    "    Resolve duplicates by calculating the mode for the specified question columns and creating a new row.\n",
    "    \n",
    "    Parameters:\n",
    "    df (pd.DataFrame): The DataFrame containing the data.\n",
    "    id_columns (list): The columns that identify unique rows ('student', 'strategy', 'explainer').\n",
    "    question_columns (list): The columns that contain the 0/1 values for which mode needs to be calculated.\n",
    "    annotator_column (str): The name of the annotator column to set to \"everyone\" for the new rows.\n",
    "\n",
    "    Returns:\n",
    "    pd.DataFrame: The DataFrame with duplicates resolved.\n",
    "    \"\"\"\n",
    "    # Group by the unique identifier columns and find duplicates\n",
    "    duplicates = df[df.duplicated(subset=id_columns, keep=False)]\n",
    "\n",
    "    # Create a new DataFrame to hold the resolved duplicates\n",
    "    resolved_df = pd.DataFrame(columns=df.columns)\n",
    "\n",
    "    # Iterate over each unique combination of duplicates\n",
    "    for _, group in duplicates.groupby(id_columns):\n",
    "        # Calculate the mode for each question column\n",
    "        mode_values = group[question_columns].mode().iloc[0]\n",
    "        \n",
    "        # Create a new row with these mode values\n",
    "        new_row = group.iloc[0].copy()\n",
    "        new_row[question_columns] = mode_values\n",
    "        new_row[annotator_column] = \"everyone\"\n",
    "        \n",
    "        # Append the new row to the resolved DataFrame\n",
    "        resolved_df = pd.concat([resolved_df, pd.DataFrame([new_row])], ignore_index=True)\n",
    "    \n",
    "    # Remove the original duplicates from the DataFrame\n",
    "    df = df.drop_duplicates(subset=id_columns, keep=False)\n",
    "    \n",
    "    # Add the resolved rows to the original DataFrame\n",
    "    df = pd.concat([df, resolved_df], ignore_index=True)\n",
    "    \n",
    "    return df\n",
    "\n",
    "id_columns = ['student', 'strategy', 'explainer']\n",
    "\n",
    "# List of question columns\n",
    "question_columns = ['question_1', 'question_2', 'question_3', \n",
    "                    'question_4', 'question_5', 'question_6', 'question_7', \n",
    "                    'question_8', 'question_9']\n",
    "\n",
    "# Resolve duplicates\n",
    "df = resolve_duplicates(df, id_columns=id_columns, question_columns=question_columns, annotator_column='annotator')"
   ]
  },
  {
   "cell_type": "code",
   "execution_count": 365,
   "metadata": {},
   "outputs": [],
   "source": [
    "def add_course_column(df, instance_column='instance_id'):\n",
    "    \"\"\"\n",
    "    Add a new column 'course' to the DataFrame, assigning a course name based on the instance IDs.\n",
    "    \n",
    "    Parameters:\n",
    "    df (pd.DataFrame): The DataFrame containing the data.\n",
    "    instance_column (str): The column name that contains instance IDs. Default is 'instance_id'.\n",
    "\n",
    "    Returns:\n",
    "    pd.DataFrame: The DataFrame with a new 'course' column added.\n",
    "    \"\"\"\n",
    "    # Define the course names and corresponding lists of instance IDs\n",
    "    instances_annotation_dsp_001 = [230, 6478, 123, 5192, 16920]\n",
    "    instances_annotation_geomatique_003 = [226, 291, 138, 234, 174]\n",
    "    instances_annotation_villesafricaines_001 = [1090, 2560, 2608, 3170, 1562]\n",
    "    \n",
    "    # Define a function to map instance IDs to course names\n",
    "    def map_instance_to_course(instance_id):\n",
    "        if instance_id in instances_annotation_dsp_001:\n",
    "            return \"dsp_001\"\n",
    "        elif instance_id in instances_annotation_geomatique_003:\n",
    "            return \"geomatique_003\"\n",
    "        elif instance_id in instances_annotation_villesafricaines_001:\n",
    "            return \"villesafricaines_001\"\n",
    "        else:\n",
    "            return \"unknown\"  # Optionally handle unknown instance IDs\n",
    "    \n",
    "    # Apply the function to the DataFrame to create the 'course' column\n",
    "    df['course'] = df[instance_column].apply(map_instance_to_course)\n",
    "    \n",
    "    return df\n",
    "\n",
    "# Example usage:\n",
    "# Assuming df is your DataFrame and it contains an 'instance_id' column\n",
    "df = add_course_column(df, instance_column='student')"
   ]
  },
  {
   "cell_type": "code",
   "execution_count": 366,
   "metadata": {},
   "outputs": [
    {
     "data": {
      "text/html": [
       "<div>\n",
       "<style scoped>\n",
       "    .dataframe tbody tr th:only-of-type {\n",
       "        vertical-align: middle;\n",
       "    }\n",
       "\n",
       "    .dataframe tbody tr th {\n",
       "        vertical-align: top;\n",
       "    }\n",
       "\n",
       "    .dataframe thead th {\n",
       "        text-align: right;\n",
       "    }\n",
       "</style>\n",
       "<table border=\"1\" class=\"dataframe\">\n",
       "  <thead>\n",
       "    <tr style=\"text-align: right;\">\n",
       "      <th></th>\n",
       "      <th>student</th>\n",
       "      <th>explainer</th>\n",
       "      <th>strategy</th>\n",
       "      <th>Prompt</th>\n",
       "      <th>Response</th>\n",
       "      <th>question_1</th>\n",
       "      <th>question_2</th>\n",
       "      <th>question_3</th>\n",
       "      <th>question_4</th>\n",
       "      <th>question_5</th>\n",
       "      <th>question_6</th>\n",
       "      <th>question_7</th>\n",
       "      <th>question_8</th>\n",
       "      <th>annotator</th>\n",
       "      <th>question_9</th>\n",
       "      <th>yes_percentage</th>\n",
       "      <th>total_1s</th>\n",
       "      <th>course</th>\n",
       "    </tr>\n",
       "  </thead>\n",
       "  <tbody>\n",
       "    <tr>\n",
       "      <th>0</th>\n",
       "      <td>123.0</td>\n",
       "      <td>LIME</td>\n",
       "      <td>abnormal_conditions</td>\n",
       "      <td>You are an AI assistant that analyzes struggli...</td>\n",
       "      <td>### Student Performance Analysis Report\\n \\n #...</td>\n",
       "      <td>1.0</td>\n",
       "      <td>1.0</td>\n",
       "      <td>1.0</td>\n",
       "      <td>1.0</td>\n",
       "      <td>1.0</td>\n",
       "      <td>1.0</td>\n",
       "      <td>1.0</td>\n",
       "      <td>1.0</td>\n",
       "      <td>Davide</td>\n",
       "      <td>NaN</td>\n",
       "      <td>100.0</td>\n",
       "      <td>8.0</td>\n",
       "      <td>dsp_001</td>\n",
       "    </tr>\n",
       "    <tr>\n",
       "      <th>1</th>\n",
       "      <td>123.0</td>\n",
       "      <td>MC-LIME</td>\n",
       "      <td>abnormal_conditions</td>\n",
       "      <td>You are an AI assistant that analyzes struggli...</td>\n",
       "      <td>### Analysis Report on Student's Performance P...</td>\n",
       "      <td>1.0</td>\n",
       "      <td>1.0</td>\n",
       "      <td>1.0</td>\n",
       "      <td>1.0</td>\n",
       "      <td>1.0</td>\n",
       "      <td>1.0</td>\n",
       "      <td>1.0</td>\n",
       "      <td>1.0</td>\n",
       "      <td>Davide</td>\n",
       "      <td>NaN</td>\n",
       "      <td>100.0</td>\n",
       "      <td>8.0</td>\n",
       "      <td>dsp_001</td>\n",
       "    </tr>\n",
       "    <tr>\n",
       "      <th>2</th>\n",
       "      <td>123.0</td>\n",
       "      <td>CEM</td>\n",
       "      <td>abnormal_conditions</td>\n",
       "      <td>You are an AI assistant that analyzes struggli...</td>\n",
       "      <td>### Analysis Report on Student Performance\\n \\...</td>\n",
       "      <td>1.0</td>\n",
       "      <td>1.0</td>\n",
       "      <td>1.0</td>\n",
       "      <td>1.0</td>\n",
       "      <td>1.0</td>\n",
       "      <td>1.0</td>\n",
       "      <td>1.0</td>\n",
       "      <td>1.0</td>\n",
       "      <td>Davide</td>\n",
       "      <td>NaN</td>\n",
       "      <td>100.0</td>\n",
       "      <td>8.0</td>\n",
       "      <td>dsp_001</td>\n",
       "    </tr>\n",
       "    <tr>\n",
       "      <th>3</th>\n",
       "      <td>1090.0</td>\n",
       "      <td>LIME</td>\n",
       "      <td>abnormal_conditions</td>\n",
       "      <td>You are an AI assistant that analyzes struggli...</td>\n",
       "      <td>### Student Performance Analysis Report\\n \\n #...</td>\n",
       "      <td>1.0</td>\n",
       "      <td>1.0</td>\n",
       "      <td>1.0</td>\n",
       "      <td>1.0</td>\n",
       "      <td>1.0</td>\n",
       "      <td>1.0</td>\n",
       "      <td>1.0</td>\n",
       "      <td>1.0</td>\n",
       "      <td>Davide</td>\n",
       "      <td>NaN</td>\n",
       "      <td>100.0</td>\n",
       "      <td>8.0</td>\n",
       "      <td>villesafricaines_001</td>\n",
       "    </tr>\n",
       "    <tr>\n",
       "      <th>4</th>\n",
       "      <td>1090.0</td>\n",
       "      <td>MC-LIME</td>\n",
       "      <td>abnormal_conditions</td>\n",
       "      <td>You are an AI assistant that analyzes struggli...</td>\n",
       "      <td>### Report on Student Performance Prediction\\n...</td>\n",
       "      <td>1.0</td>\n",
       "      <td>1.0</td>\n",
       "      <td>1.0</td>\n",
       "      <td>1.0</td>\n",
       "      <td>1.0</td>\n",
       "      <td>1.0</td>\n",
       "      <td>1.0</td>\n",
       "      <td>1.0</td>\n",
       "      <td>Davide</td>\n",
       "      <td>NaN</td>\n",
       "      <td>100.0</td>\n",
       "      <td>8.0</td>\n",
       "      <td>villesafricaines_001</td>\n",
       "    </tr>\n",
       "    <tr>\n",
       "      <th>...</th>\n",
       "      <td>...</td>\n",
       "      <td>...</td>\n",
       "      <td>...</td>\n",
       "      <td>...</td>\n",
       "      <td>...</td>\n",
       "      <td>...</td>\n",
       "      <td>...</td>\n",
       "      <td>...</td>\n",
       "      <td>...</td>\n",
       "      <td>...</td>\n",
       "      <td>...</td>\n",
       "      <td>...</td>\n",
       "      <td>...</td>\n",
       "      <td>...</td>\n",
       "      <td>...</td>\n",
       "      <td>...</td>\n",
       "      <td>...</td>\n",
       "      <td>...</td>\n",
       "    </tr>\n",
       "    <tr>\n",
       "      <th>355</th>\n",
       "      <td>6478.0</td>\n",
       "      <td>LIME</td>\n",
       "      <td>relevance_selection</td>\n",
       "      <td>You are an AI assistant that analyzes struggli...</td>\n",
       "      <td>### Analysis Report on Student Performance Pre...</td>\n",
       "      <td>1.0</td>\n",
       "      <td>1.0</td>\n",
       "      <td>1.0</td>\n",
       "      <td>1.0</td>\n",
       "      <td>1.0</td>\n",
       "      <td>1.0</td>\n",
       "      <td>1.0</td>\n",
       "      <td>1.0</td>\n",
       "      <td>everyone</td>\n",
       "      <td>NaN</td>\n",
       "      <td>100.0</td>\n",
       "      <td>8.0</td>\n",
       "      <td>dsp_001</td>\n",
       "    </tr>\n",
       "    <tr>\n",
       "      <th>356</th>\n",
       "      <td>6478.0</td>\n",
       "      <td>MC-LIME</td>\n",
       "      <td>relevance_selection</td>\n",
       "      <td>You are an AI assistant that analyzes struggli...</td>\n",
       "      <td>### Report on Student Performance Analysis\\n \\...</td>\n",
       "      <td>1.0</td>\n",
       "      <td>1.0</td>\n",
       "      <td>1.0</td>\n",
       "      <td>1.0</td>\n",
       "      <td>1.0</td>\n",
       "      <td>1.0</td>\n",
       "      <td>1.0</td>\n",
       "      <td>1.0</td>\n",
       "      <td>everyone</td>\n",
       "      <td>NaN</td>\n",
       "      <td>100.0</td>\n",
       "      <td>8.0</td>\n",
       "      <td>dsp_001</td>\n",
       "    </tr>\n",
       "    <tr>\n",
       "      <th>357</th>\n",
       "      <td>6478.0</td>\n",
       "      <td>CEM</td>\n",
       "      <td>statistical_relevance</td>\n",
       "      <td>You are an AI assistant that analyzes struggli...</td>\n",
       "      <td>### Analysis Report on Student Performance Pre...</td>\n",
       "      <td>1.0</td>\n",
       "      <td>1.0</td>\n",
       "      <td>0.0</td>\n",
       "      <td>1.0</td>\n",
       "      <td>1.0</td>\n",
       "      <td>NaN</td>\n",
       "      <td>NaN</td>\n",
       "      <td>NaN</td>\n",
       "      <td>everyone</td>\n",
       "      <td>NaN</td>\n",
       "      <td>80.0</td>\n",
       "      <td>4.0</td>\n",
       "      <td>dsp_001</td>\n",
       "    </tr>\n",
       "    <tr>\n",
       "      <th>358</th>\n",
       "      <td>6478.0</td>\n",
       "      <td>LIME</td>\n",
       "      <td>statistical_relevance</td>\n",
       "      <td>You are an AI assistant that analyzes struggli...</td>\n",
       "      <td>**Report on Student Performance Prediction in ...</td>\n",
       "      <td>1.0</td>\n",
       "      <td>1.0</td>\n",
       "      <td>1.0</td>\n",
       "      <td>1.0</td>\n",
       "      <td>1.0</td>\n",
       "      <td>NaN</td>\n",
       "      <td>NaN</td>\n",
       "      <td>NaN</td>\n",
       "      <td>everyone</td>\n",
       "      <td>NaN</td>\n",
       "      <td>100.0</td>\n",
       "      <td>5.0</td>\n",
       "      <td>dsp_001</td>\n",
       "    </tr>\n",
       "    <tr>\n",
       "      <th>359</th>\n",
       "      <td>6478.0</td>\n",
       "      <td>MC-LIME</td>\n",
       "      <td>statistical_relevance</td>\n",
       "      <td>You are an AI assistant that analyzes struggli...</td>\n",
       "      <td>### Analysis Report: Student Performance Predi...</td>\n",
       "      <td>1.0</td>\n",
       "      <td>1.0</td>\n",
       "      <td>1.0</td>\n",
       "      <td>1.0</td>\n",
       "      <td>1.0</td>\n",
       "      <td>NaN</td>\n",
       "      <td>NaN</td>\n",
       "      <td>NaN</td>\n",
       "      <td>everyone</td>\n",
       "      <td>NaN</td>\n",
       "      <td>100.0</td>\n",
       "      <td>5.0</td>\n",
       "      <td>dsp_001</td>\n",
       "    </tr>\n",
       "  </tbody>\n",
       "</table>\n",
       "<p>360 rows × 18 columns</p>\n",
       "</div>"
      ],
      "text/plain": [
       "     student explainer               strategy  \\\n",
       "0      123.0      LIME    abnormal_conditions   \n",
       "1      123.0   MC-LIME    abnormal_conditions   \n",
       "2      123.0       CEM    abnormal_conditions   \n",
       "3     1090.0      LIME    abnormal_conditions   \n",
       "4     1090.0   MC-LIME    abnormal_conditions   \n",
       "..       ...       ...                    ...   \n",
       "355   6478.0      LIME    relevance_selection   \n",
       "356   6478.0   MC-LIME    relevance_selection   \n",
       "357   6478.0       CEM  statistical_relevance   \n",
       "358   6478.0      LIME  statistical_relevance   \n",
       "359   6478.0   MC-LIME  statistical_relevance   \n",
       "\n",
       "                                                Prompt  \\\n",
       "0    You are an AI assistant that analyzes struggli...   \n",
       "1    You are an AI assistant that analyzes struggli...   \n",
       "2    You are an AI assistant that analyzes struggli...   \n",
       "3    You are an AI assistant that analyzes struggli...   \n",
       "4    You are an AI assistant that analyzes struggli...   \n",
       "..                                                 ...   \n",
       "355  You are an AI assistant that analyzes struggli...   \n",
       "356  You are an AI assistant that analyzes struggli...   \n",
       "357  You are an AI assistant that analyzes struggli...   \n",
       "358  You are an AI assistant that analyzes struggli...   \n",
       "359  You are an AI assistant that analyzes struggli...   \n",
       "\n",
       "                                              Response  question_1  \\\n",
       "0    ### Student Performance Analysis Report\\n \\n #...         1.0   \n",
       "1    ### Analysis Report on Student's Performance P...         1.0   \n",
       "2    ### Analysis Report on Student Performance\\n \\...         1.0   \n",
       "3    ### Student Performance Analysis Report\\n \\n #...         1.0   \n",
       "4    ### Report on Student Performance Prediction\\n...         1.0   \n",
       "..                                                 ...         ...   \n",
       "355  ### Analysis Report on Student Performance Pre...         1.0   \n",
       "356  ### Report on Student Performance Analysis\\n \\...         1.0   \n",
       "357  ### Analysis Report on Student Performance Pre...         1.0   \n",
       "358  **Report on Student Performance Prediction in ...         1.0   \n",
       "359  ### Analysis Report: Student Performance Predi...         1.0   \n",
       "\n",
       "     question_2  question_3  question_4  question_5  question_6  question_7  \\\n",
       "0           1.0         1.0         1.0         1.0         1.0         1.0   \n",
       "1           1.0         1.0         1.0         1.0         1.0         1.0   \n",
       "2           1.0         1.0         1.0         1.0         1.0         1.0   \n",
       "3           1.0         1.0         1.0         1.0         1.0         1.0   \n",
       "4           1.0         1.0         1.0         1.0         1.0         1.0   \n",
       "..          ...         ...         ...         ...         ...         ...   \n",
       "355         1.0         1.0         1.0         1.0         1.0         1.0   \n",
       "356         1.0         1.0         1.0         1.0         1.0         1.0   \n",
       "357         1.0         0.0         1.0         1.0         NaN         NaN   \n",
       "358         1.0         1.0         1.0         1.0         NaN         NaN   \n",
       "359         1.0         1.0         1.0         1.0         NaN         NaN   \n",
       "\n",
       "     question_8 annotator  question_9  yes_percentage  total_1s  \\\n",
       "0           1.0   Davide          NaN           100.0       8.0   \n",
       "1           1.0   Davide          NaN           100.0       8.0   \n",
       "2           1.0   Davide          NaN           100.0       8.0   \n",
       "3           1.0   Davide          NaN           100.0       8.0   \n",
       "4           1.0   Davide          NaN           100.0       8.0   \n",
       "..          ...       ...         ...             ...       ...   \n",
       "355         1.0  everyone         NaN           100.0       8.0   \n",
       "356         1.0  everyone         NaN           100.0       8.0   \n",
       "357         NaN  everyone         NaN            80.0       4.0   \n",
       "358         NaN  everyone         NaN           100.0       5.0   \n",
       "359         NaN  everyone         NaN           100.0       5.0   \n",
       "\n",
       "                   course  \n",
       "0                 dsp_001  \n",
       "1                 dsp_001  \n",
       "2                 dsp_001  \n",
       "3    villesafricaines_001  \n",
       "4    villesafricaines_001  \n",
       "..                    ...  \n",
       "355               dsp_001  \n",
       "356               dsp_001  \n",
       "357               dsp_001  \n",
       "358               dsp_001  \n",
       "359               dsp_001  \n",
       "\n",
       "[360 rows x 18 columns]"
      ]
     },
     "execution_count": 366,
     "metadata": {},
     "output_type": "execute_result"
    }
   ],
   "source": [
    "# List of columns that contain the questions\n",
    "question_columns = ['question_1', 'question_2', 'question_3', 'question_4', \n",
    "                    'question_5', 'question_6', 'question_7', 'question_8', \n",
    "                    'question_9']\n",
    "\n",
    "# Function to calculate the percentage of \"Yes\" answers\n",
    "def calculate_yes_percentage(row):\n",
    "    # Filter out null values\n",
    "    valid_answers = row[question_columns].dropna()\n",
    "    # Count \"Yes\" answers\n",
    "    yes_count = (valid_answers == 1).sum()\n",
    "    # Calculate percentage\n",
    "    if len(valid_answers) == 0:\n",
    "        return None  # Return None if there are no valid answers\n",
    "    return (yes_count / len(valid_answers)) * 100\n",
    "\n",
    "# Apply the function to each row\n",
    "df['yes_percentage'] = df.apply(calculate_yes_percentage, axis=1)\n",
    "\n",
    "df"
   ]
  },
  {
   "cell_type": "code",
   "execution_count": 367,
   "metadata": {},
   "outputs": [],
   "source": [
    "annotation_results=df"
   ]
  },
  {
   "cell_type": "markdown",
   "metadata": {},
   "source": [
    "## Analysis"
   ]
  },
  {
   "cell_type": "code",
   "execution_count": 368,
   "metadata": {},
   "outputs": [],
   "source": [
    "courses = [\"dsp_001\", \"geomatique_003\", \"villesafricaines_001\"]"
   ]
  },
  {
   "cell_type": "code",
   "execution_count": 369,
   "metadata": {},
   "outputs": [],
   "source": [
    "gpt4o_results=pd.read_csv(\"data/15_students_results/gpt_4_evaluation_all_courses_15_students.csv\")"
   ]
  },
  {
   "cell_type": "code",
   "execution_count": 370,
   "metadata": {},
   "outputs": [
    {
     "data": {
      "text/plain": [
       "array([  123,   230,  5192,  6478, 16920,   226,   291,   138,   174,\n",
       "         234,  1090,  2560,  2608,  3170,  1562])"
      ]
     },
     "execution_count": 370,
     "metadata": {},
     "output_type": "execute_result"
    }
   ],
   "source": [
    "gpt4o_results[\"student\"].unique()"
   ]
  },
  {
   "cell_type": "code",
   "execution_count": 371,
   "metadata": {},
   "outputs": [
    {
     "data": {
      "text/plain": [
       "array(['relevance_selection', 'abnormal_conditions', 'pearl_explanation',\n",
       "       'necessity_robustness_selection', 'contrastive_explanation',\n",
       "       'base_contrastive_explanation', 'statistical_relevance',\n",
       "       'chain_of_thought'], dtype=object)"
      ]
     },
     "execution_count": 371,
     "metadata": {},
     "output_type": "execute_result"
    }
   ],
   "source": [
    "gpt4o_results[\"strategy\"].unique()  "
   ]
  },
  {
   "cell_type": "code",
   "execution_count": 372,
   "metadata": {},
   "outputs": [],
   "source": [
    "rename_mapping = {f'question_{i}': f'question_{i+1}' for i in range(len(question_columns))}\n",
    "gpt4o_results = gpt4o_results.rename(columns=rename_mapping)"
   ]
  },
  {
   "cell_type": "code",
   "execution_count": 373,
   "metadata": {},
   "outputs": [],
   "source": [
    "\n",
    "def adjust_questions_for_abnormal_conditions(df, strategy_column='strategy'):\n",
    "    # Create a boolean mask for rows where the strategy is \"abnormal_conditions\"\n",
    "    abnormal_conditions_mask = df[strategy_column] == \"abnormal_conditions\"\n",
    "    \n",
    "    # Shift the values as specified\n",
    "    df.loc[abnormal_conditions_mask, 'question_7'] = df.loc[abnormal_conditions_mask, 'question_8']\n",
    "    df.loc[abnormal_conditions_mask, 'question_8'] = df.loc[abnormal_conditions_mask, 'question_9']\n",
    "    df.loc[abnormal_conditions_mask, 'question_9'] = np.nan\n",
    "\n",
    "    return df\n",
    "\n",
    "# Example usage:\n",
    "# Assuming df is your DataFrame\n",
    "gpt4o_results = adjust_questions_for_abnormal_conditions(gpt4o_results)"
   ]
  },
  {
   "cell_type": "code",
   "execution_count": 374,
   "metadata": {},
   "outputs": [],
   "source": [
    "def calculate_mean_yes_percentage_per_column(df, strategy_column='strategy', yes_percentage_column='yes_percentage'):\n",
    "    # Calculate the mean yes_percentage for each strategy\n",
    "    mean_yes_percentage_per_strategy = df.groupby(strategy_column)[yes_percentage_column].mean()\n",
    "\n",
    "    return mean_yes_percentage_per_strategy"
   ]
  },
  {
   "cell_type": "code",
   "execution_count": 375,
   "metadata": {},
   "outputs": [
    {
     "name": "stdout",
     "output_type": "stream",
     "text": [
      "La percentuale di risposte positive delle annotazioni: strategy\n",
      "abnormal_conditions                98.888889\n",
      "base_contrastive_explanation       97.777778\n",
      "chain_of_thought                   99.111111\n",
      "contrastive_explanation            99.012346\n",
      "necessity_robustness_selection    100.000000\n",
      "pearl_explanation                  96.111111\n",
      "relevance_selection                99.722222\n",
      "statistical_relevance              99.111111\n",
      "Name: yes_percentage, dtype: float64\n",
      "La percentuale di risposte positive di gpt4o: strategy\n",
      "abnormal_conditions               97.037037\n",
      "base_contrastive_explanation      83.333333\n",
      "chain_of_thought                  96.000000\n",
      "contrastive_explanation           99.259259\n",
      "necessity_robustness_selection    97.777778\n",
      "pearl_explanation                 99.722222\n",
      "relevance_selection               98.055556\n",
      "statistical_relevance             92.444444\n",
      "Name: yes_percentage, dtype: float64\n"
     ]
    }
   ],
   "source": [
    "yes_percentage_annotations = calculate_mean_yes_percentage_per_strategy(annotation_results)\n",
    "yes_percentage_gpt4o = calculate_mean_yes_percentage_per_strategy(gpt4o_results)\n",
    "print(f\"La percentuale di risposte positive delle annotazioni: {yes_percentage_annotations}\")\n",
    "print(f\"La percentuale di risposte positive di gpt4o: {yes_percentage_gpt4o}\")"
   ]
  },
  {
   "cell_type": "code",
   "execution_count": 376,
   "metadata": {},
   "outputs": [
    {
     "name": "stdout",
     "output_type": "stream",
     "text": [
      "La percentuale di risposte positive delle annotazioni: explainer\n",
      "CEM        98.261574\n",
      "LIME       98.618056\n",
      "MC-LIME    99.270833\n",
      "Name: yes_percentage, dtype: float64\n",
      "La percentuale di risposte positive di gpt4o: explainer\n",
      "CEM        95.623016\n",
      "LIME       96.118056\n",
      "MC-LIME    94.620040\n",
      "Name: yes_percentage, dtype: float64\n"
     ]
    }
   ],
   "source": [
    "yes_percentage_annotations_explainer = calculate_mean_yes_percentage_per_strategy(annotation_results, \"explainer\")\n",
    "yes_percentage_gpt4o_explainer = calculate_mean_yes_percentage_per_strategy(gpt4o_results, \"explainer\")\n",
    "print(f\"La percentuale di risposte positive delle annotazioni: {yes_percentage_annotations_explainer}\")\n",
    "print(f\"La percentuale di risposte positive di gpt4o: {yes_percentage_gpt4o_explainer}\")"
   ]
  },
  {
   "cell_type": "code",
   "execution_count": 377,
   "metadata": {},
   "outputs": [],
   "source": [
    "# List of columns that contain the questions\n",
    "question_columns = ['question_1', 'question_2', 'question_3', 'question_4', \n",
    "                    'question_5', 'question_6', 'question_7', 'question_8', \n",
    "                    'question_9']\n",
    "\n",
    "def count_no_answers_per_strategy(df, strategy_column='strategy', question_columns=None):\n",
    "    \"\"\"\n",
    "    Count the number of \"No\" (0) answers for each question column, grouped by strategy.\n",
    "\n",
    "    Parameters:\n",
    "    df (pd.DataFrame): The DataFrame containing the data.\n",
    "    strategy_column (str): The name of the column containing strategy identifiers. Default is 'strategy'.\n",
    "    question_columns (list): A list of columns that contain the binary answers (0/1). If None, it will use all columns except the strategy column.\n",
    "\n",
    "    Returns:\n",
    "    pd.DataFrame: A DataFrame with strategies as rows and the count of \"No\" (0) answers per question as columns.\n",
    "    \"\"\"\n",
    "    if question_columns is None:\n",
    "        # Assume all columns except strategy_column are questions\n",
    "        question_columns = [col for col in df.columns if col != strategy_column]\n",
    "    \n",
    "    # Group by the strategy column and sum the \"No\" (0) counts for each question\n",
    "    no_counts_per_strategy = (df[question_columns] == 0).groupby(df[strategy_column]).sum()\n",
    "    \n",
    "    return no_counts_per_strategy\n",
    "\n",
    "# Step 2: Count the \"No\" (0) answers per strategy\n",
    "no_counts = count_no_answers_per_strategy(annotation_results, strategy_column='strategy', question_columns=question_columns)"
   ]
  },
  {
   "cell_type": "code",
   "execution_count": 378,
   "metadata": {},
   "outputs": [
    {
     "data": {
      "text/html": [
       "<div>\n",
       "<style scoped>\n",
       "    .dataframe tbody tr th:only-of-type {\n",
       "        vertical-align: middle;\n",
       "    }\n",
       "\n",
       "    .dataframe tbody tr th {\n",
       "        vertical-align: top;\n",
       "    }\n",
       "\n",
       "    .dataframe thead th {\n",
       "        text-align: right;\n",
       "    }\n",
       "</style>\n",
       "<table border=\"1\" class=\"dataframe\">\n",
       "  <thead>\n",
       "    <tr style=\"text-align: right;\">\n",
       "      <th></th>\n",
       "      <th>question_1</th>\n",
       "      <th>question_2</th>\n",
       "      <th>question_3</th>\n",
       "      <th>question_4</th>\n",
       "      <th>question_5</th>\n",
       "      <th>question_6</th>\n",
       "      <th>question_7</th>\n",
       "      <th>question_8</th>\n",
       "      <th>question_9</th>\n",
       "    </tr>\n",
       "    <tr>\n",
       "      <th>strategy</th>\n",
       "      <th></th>\n",
       "      <th></th>\n",
       "      <th></th>\n",
       "      <th></th>\n",
       "      <th></th>\n",
       "      <th></th>\n",
       "      <th></th>\n",
       "      <th></th>\n",
       "      <th></th>\n",
       "    </tr>\n",
       "  </thead>\n",
       "  <tbody>\n",
       "    <tr>\n",
       "      <th>abnormal_conditions</th>\n",
       "      <td>0</td>\n",
       "      <td>0</td>\n",
       "      <td>1</td>\n",
       "      <td>0</td>\n",
       "      <td>0</td>\n",
       "      <td>2</td>\n",
       "      <td>0</td>\n",
       "      <td>1</td>\n",
       "      <td>0</td>\n",
       "    </tr>\n",
       "    <tr>\n",
       "      <th>base_contrastive_explanation</th>\n",
       "      <td>0</td>\n",
       "      <td>0</td>\n",
       "      <td>1</td>\n",
       "      <td>0</td>\n",
       "      <td>0</td>\n",
       "      <td>5</td>\n",
       "      <td>0</td>\n",
       "      <td>2</td>\n",
       "      <td>0</td>\n",
       "    </tr>\n",
       "    <tr>\n",
       "      <th>chain_of_thought</th>\n",
       "      <td>0</td>\n",
       "      <td>0</td>\n",
       "      <td>1</td>\n",
       "      <td>0</td>\n",
       "      <td>1</td>\n",
       "      <td>0</td>\n",
       "      <td>0</td>\n",
       "      <td>0</td>\n",
       "      <td>0</td>\n",
       "    </tr>\n",
       "    <tr>\n",
       "      <th>contrastive_explanation</th>\n",
       "      <td>0</td>\n",
       "      <td>0</td>\n",
       "      <td>1</td>\n",
       "      <td>0</td>\n",
       "      <td>0</td>\n",
       "      <td>0</td>\n",
       "      <td>0</td>\n",
       "      <td>2</td>\n",
       "      <td>1</td>\n",
       "    </tr>\n",
       "    <tr>\n",
       "      <th>necessity_robustness_selection</th>\n",
       "      <td>0</td>\n",
       "      <td>0</td>\n",
       "      <td>0</td>\n",
       "      <td>0</td>\n",
       "      <td>0</td>\n",
       "      <td>0</td>\n",
       "      <td>0</td>\n",
       "      <td>0</td>\n",
       "      <td>0</td>\n",
       "    </tr>\n",
       "    <tr>\n",
       "      <th>pearl_explanation</th>\n",
       "      <td>0</td>\n",
       "      <td>0</td>\n",
       "      <td>0</td>\n",
       "      <td>0</td>\n",
       "      <td>2</td>\n",
       "      <td>2</td>\n",
       "      <td>7</td>\n",
       "      <td>3</td>\n",
       "      <td>0</td>\n",
       "    </tr>\n",
       "    <tr>\n",
       "      <th>relevance_selection</th>\n",
       "      <td>0</td>\n",
       "      <td>0</td>\n",
       "      <td>1</td>\n",
       "      <td>0</td>\n",
       "      <td>0</td>\n",
       "      <td>0</td>\n",
       "      <td>0</td>\n",
       "      <td>0</td>\n",
       "      <td>0</td>\n",
       "    </tr>\n",
       "    <tr>\n",
       "      <th>statistical_relevance</th>\n",
       "      <td>0</td>\n",
       "      <td>0</td>\n",
       "      <td>1</td>\n",
       "      <td>0</td>\n",
       "      <td>1</td>\n",
       "      <td>0</td>\n",
       "      <td>0</td>\n",
       "      <td>0</td>\n",
       "      <td>0</td>\n",
       "    </tr>\n",
       "  </tbody>\n",
       "</table>\n",
       "</div>"
      ],
      "text/plain": [
       "                                question_1  question_2  question_3  \\\n",
       "strategy                                                             \n",
       "abnormal_conditions                      0           0           1   \n",
       "base_contrastive_explanation             0           0           1   \n",
       "chain_of_thought                         0           0           1   \n",
       "contrastive_explanation                  0           0           1   \n",
       "necessity_robustness_selection           0           0           0   \n",
       "pearl_explanation                        0           0           0   \n",
       "relevance_selection                      0           0           1   \n",
       "statistical_relevance                    0           0           1   \n",
       "\n",
       "                                question_4  question_5  question_6  \\\n",
       "strategy                                                             \n",
       "abnormal_conditions                      0           0           2   \n",
       "base_contrastive_explanation             0           0           5   \n",
       "chain_of_thought                         0           1           0   \n",
       "contrastive_explanation                  0           0           0   \n",
       "necessity_robustness_selection           0           0           0   \n",
       "pearl_explanation                        0           2           2   \n",
       "relevance_selection                      0           0           0   \n",
       "statistical_relevance                    0           1           0   \n",
       "\n",
       "                                question_7  question_8  question_9  \n",
       "strategy                                                            \n",
       "abnormal_conditions                      0           1           0  \n",
       "base_contrastive_explanation             0           2           0  \n",
       "chain_of_thought                         0           0           0  \n",
       "contrastive_explanation                  0           2           1  \n",
       "necessity_robustness_selection           0           0           0  \n",
       "pearl_explanation                        7           3           0  \n",
       "relevance_selection                      0           0           0  \n",
       "statistical_relevance                    0           0           0  "
      ]
     },
     "execution_count": 378,
     "metadata": {},
     "output_type": "execute_result"
    }
   ],
   "source": [
    "# List of columns that contain the questions\n",
    "question_columns = ['question_1', 'question_2', 'question_3', 'question_4', \n",
    "                    'question_5', 'question_6', 'question_7', 'question_8', \n",
    "                    'question_9']\n",
    "\n",
    "no_counts_questions_annotations=count_no_answers_per_strategy(annotation_results, question_columns=question_columns)\n",
    "no_counts_questions_annotations"
   ]
  },
  {
   "cell_type": "code",
   "execution_count": 379,
   "metadata": {},
   "outputs": [
    {
     "data": {
      "text/html": [
       "<div>\n",
       "<style scoped>\n",
       "    .dataframe tbody tr th:only-of-type {\n",
       "        vertical-align: middle;\n",
       "    }\n",
       "\n",
       "    .dataframe tbody tr th {\n",
       "        vertical-align: top;\n",
       "    }\n",
       "\n",
       "    .dataframe thead th {\n",
       "        text-align: right;\n",
       "    }\n",
       "</style>\n",
       "<table border=\"1\" class=\"dataframe\">\n",
       "  <thead>\n",
       "    <tr style=\"text-align: right;\">\n",
       "      <th></th>\n",
       "      <th>question_1</th>\n",
       "      <th>question_2</th>\n",
       "      <th>question_3</th>\n",
       "      <th>question_4</th>\n",
       "      <th>question_5</th>\n",
       "      <th>question_6</th>\n",
       "      <th>question_7</th>\n",
       "      <th>question_8</th>\n",
       "      <th>question_9</th>\n",
       "    </tr>\n",
       "    <tr>\n",
       "      <th>strategy</th>\n",
       "      <th></th>\n",
       "      <th></th>\n",
       "      <th></th>\n",
       "      <th></th>\n",
       "      <th></th>\n",
       "      <th></th>\n",
       "      <th></th>\n",
       "      <th></th>\n",
       "      <th></th>\n",
       "    </tr>\n",
       "  </thead>\n",
       "  <tbody>\n",
       "    <tr>\n",
       "      <th>abnormal_conditions</th>\n",
       "      <td>0</td>\n",
       "      <td>0</td>\n",
       "      <td>0</td>\n",
       "      <td>0</td>\n",
       "      <td>0</td>\n",
       "      <td>0</td>\n",
       "      <td>0</td>\n",
       "      <td>0</td>\n",
       "      <td>0</td>\n",
       "    </tr>\n",
       "    <tr>\n",
       "      <th>base_contrastive_explanation</th>\n",
       "      <td>0</td>\n",
       "      <td>27</td>\n",
       "      <td>0</td>\n",
       "      <td>17</td>\n",
       "      <td>0</td>\n",
       "      <td>0</td>\n",
       "      <td>0</td>\n",
       "      <td>16</td>\n",
       "      <td>0</td>\n",
       "    </tr>\n",
       "    <tr>\n",
       "      <th>chain_of_thought</th>\n",
       "      <td>0</td>\n",
       "      <td>0</td>\n",
       "      <td>0</td>\n",
       "      <td>8</td>\n",
       "      <td>1</td>\n",
       "      <td>0</td>\n",
       "      <td>0</td>\n",
       "      <td>0</td>\n",
       "      <td>0</td>\n",
       "    </tr>\n",
       "    <tr>\n",
       "      <th>contrastive_explanation</th>\n",
       "      <td>0</td>\n",
       "      <td>0</td>\n",
       "      <td>0</td>\n",
       "      <td>0</td>\n",
       "      <td>3</td>\n",
       "      <td>0</td>\n",
       "      <td>0</td>\n",
       "      <td>0</td>\n",
       "      <td>0</td>\n",
       "    </tr>\n",
       "    <tr>\n",
       "      <th>necessity_robustness_selection</th>\n",
       "      <td>0</td>\n",
       "      <td>0</td>\n",
       "      <td>0</td>\n",
       "      <td>7</td>\n",
       "      <td>0</td>\n",
       "      <td>0</td>\n",
       "      <td>0</td>\n",
       "      <td>0</td>\n",
       "      <td>0</td>\n",
       "    </tr>\n",
       "    <tr>\n",
       "      <th>pearl_explanation</th>\n",
       "      <td>0</td>\n",
       "      <td>0</td>\n",
       "      <td>0</td>\n",
       "      <td>0</td>\n",
       "      <td>0</td>\n",
       "      <td>0</td>\n",
       "      <td>1</td>\n",
       "      <td>0</td>\n",
       "      <td>0</td>\n",
       "    </tr>\n",
       "    <tr>\n",
       "      <th>relevance_selection</th>\n",
       "      <td>0</td>\n",
       "      <td>0</td>\n",
       "      <td>0</td>\n",
       "      <td>1</td>\n",
       "      <td>0</td>\n",
       "      <td>0</td>\n",
       "      <td>0</td>\n",
       "      <td>6</td>\n",
       "      <td>0</td>\n",
       "    </tr>\n",
       "    <tr>\n",
       "      <th>statistical_relevance</th>\n",
       "      <td>0</td>\n",
       "      <td>0</td>\n",
       "      <td>0</td>\n",
       "      <td>17</td>\n",
       "      <td>0</td>\n",
       "      <td>0</td>\n",
       "      <td>0</td>\n",
       "      <td>0</td>\n",
       "      <td>0</td>\n",
       "    </tr>\n",
       "  </tbody>\n",
       "</table>\n",
       "</div>"
      ],
      "text/plain": [
       "                                question_1  question_2  question_3  \\\n",
       "strategy                                                             \n",
       "abnormal_conditions                      0           0           0   \n",
       "base_contrastive_explanation             0          27           0   \n",
       "chain_of_thought                         0           0           0   \n",
       "contrastive_explanation                  0           0           0   \n",
       "necessity_robustness_selection           0           0           0   \n",
       "pearl_explanation                        0           0           0   \n",
       "relevance_selection                      0           0           0   \n",
       "statistical_relevance                    0           0           0   \n",
       "\n",
       "                                question_4  question_5  question_6  \\\n",
       "strategy                                                             \n",
       "abnormal_conditions                      0           0           0   \n",
       "base_contrastive_explanation            17           0           0   \n",
       "chain_of_thought                         8           1           0   \n",
       "contrastive_explanation                  0           3           0   \n",
       "necessity_robustness_selection           7           0           0   \n",
       "pearl_explanation                        0           0           0   \n",
       "relevance_selection                      1           0           0   \n",
       "statistical_relevance                   17           0           0   \n",
       "\n",
       "                                question_7  question_8  question_9  \n",
       "strategy                                                            \n",
       "abnormal_conditions                      0           0           0  \n",
       "base_contrastive_explanation             0          16           0  \n",
       "chain_of_thought                         0           0           0  \n",
       "contrastive_explanation                  0           0           0  \n",
       "necessity_robustness_selection           0           0           0  \n",
       "pearl_explanation                        1           0           0  \n",
       "relevance_selection                      0           6           0  \n",
       "statistical_relevance                    0           0           0  "
      ]
     },
     "execution_count": 379,
     "metadata": {},
     "output_type": "execute_result"
    }
   ],
   "source": [
    "no_counts_questions_gpt4o=count_no_answers_per_strategy(gpt4o_results, question_columns=question_columns)\n",
    "no_counts_questions_gpt4o"
   ]
  },
  {
   "cell_type": "code",
   "execution_count": 380,
   "metadata": {},
   "outputs": [
    {
     "data": {
      "text/html": [
       "<div>\n",
       "<style scoped>\n",
       "    .dataframe tbody tr th:only-of-type {\n",
       "        vertical-align: middle;\n",
       "    }\n",
       "\n",
       "    .dataframe tbody tr th {\n",
       "        vertical-align: top;\n",
       "    }\n",
       "\n",
       "    .dataframe thead th {\n",
       "        text-align: right;\n",
       "    }\n",
       "</style>\n",
       "<table border=\"1\" class=\"dataframe\">\n",
       "  <thead>\n",
       "    <tr style=\"text-align: right;\">\n",
       "      <th></th>\n",
       "      <th>student</th>\n",
       "      <th>strategy</th>\n",
       "      <th>explainer</th>\n",
       "      <th>question_1</th>\n",
       "      <th>question_2</th>\n",
       "      <th>question_3</th>\n",
       "      <th>question_4</th>\n",
       "      <th>question_5</th>\n",
       "      <th>question_6</th>\n",
       "      <th>question_7</th>\n",
       "      <th>question_8</th>\n",
       "      <th>question_9</th>\n",
       "    </tr>\n",
       "  </thead>\n",
       "  <tbody>\n",
       "    <tr>\n",
       "      <th>0</th>\n",
       "      <td>123.0</td>\n",
       "      <td>abnormal_conditions</td>\n",
       "      <td>LIME</td>\n",
       "      <td>1</td>\n",
       "      <td>1</td>\n",
       "      <td>1</td>\n",
       "      <td>1</td>\n",
       "      <td>1</td>\n",
       "      <td>1.0</td>\n",
       "      <td>1.0</td>\n",
       "      <td>1.0</td>\n",
       "      <td>NaN</td>\n",
       "    </tr>\n",
       "    <tr>\n",
       "      <th>1</th>\n",
       "      <td>123.0</td>\n",
       "      <td>abnormal_conditions</td>\n",
       "      <td>MC-LIME</td>\n",
       "      <td>1</td>\n",
       "      <td>1</td>\n",
       "      <td>1</td>\n",
       "      <td>1</td>\n",
       "      <td>1</td>\n",
       "      <td>1.0</td>\n",
       "      <td>1.0</td>\n",
       "      <td>1.0</td>\n",
       "      <td>NaN</td>\n",
       "    </tr>\n",
       "    <tr>\n",
       "      <th>2</th>\n",
       "      <td>123.0</td>\n",
       "      <td>abnormal_conditions</td>\n",
       "      <td>CEM</td>\n",
       "      <td>1</td>\n",
       "      <td>1</td>\n",
       "      <td>1</td>\n",
       "      <td>1</td>\n",
       "      <td>1</td>\n",
       "      <td>1.0</td>\n",
       "      <td>1.0</td>\n",
       "      <td>1.0</td>\n",
       "      <td>NaN</td>\n",
       "    </tr>\n",
       "    <tr>\n",
       "      <th>3</th>\n",
       "      <td>1090.0</td>\n",
       "      <td>abnormal_conditions</td>\n",
       "      <td>LIME</td>\n",
       "      <td>1</td>\n",
       "      <td>1</td>\n",
       "      <td>1</td>\n",
       "      <td>1</td>\n",
       "      <td>1</td>\n",
       "      <td>1.0</td>\n",
       "      <td>1.0</td>\n",
       "      <td>1.0</td>\n",
       "      <td>NaN</td>\n",
       "    </tr>\n",
       "    <tr>\n",
       "      <th>4</th>\n",
       "      <td>1090.0</td>\n",
       "      <td>abnormal_conditions</td>\n",
       "      <td>MC-LIME</td>\n",
       "      <td>1</td>\n",
       "      <td>1</td>\n",
       "      <td>1</td>\n",
       "      <td>1</td>\n",
       "      <td>1</td>\n",
       "      <td>1.0</td>\n",
       "      <td>1.0</td>\n",
       "      <td>1.0</td>\n",
       "      <td>NaN</td>\n",
       "    </tr>\n",
       "    <tr>\n",
       "      <th>...</th>\n",
       "      <td>...</td>\n",
       "      <td>...</td>\n",
       "      <td>...</td>\n",
       "      <td>...</td>\n",
       "      <td>...</td>\n",
       "      <td>...</td>\n",
       "      <td>...</td>\n",
       "      <td>...</td>\n",
       "      <td>...</td>\n",
       "      <td>...</td>\n",
       "      <td>...</td>\n",
       "      <td>...</td>\n",
       "    </tr>\n",
       "    <tr>\n",
       "      <th>355</th>\n",
       "      <td>6478.0</td>\n",
       "      <td>relevance_selection</td>\n",
       "      <td>LIME</td>\n",
       "      <td>1</td>\n",
       "      <td>1</td>\n",
       "      <td>1</td>\n",
       "      <td>1</td>\n",
       "      <td>1</td>\n",
       "      <td>1.0</td>\n",
       "      <td>1.0</td>\n",
       "      <td>1.0</td>\n",
       "      <td>NaN</td>\n",
       "    </tr>\n",
       "    <tr>\n",
       "      <th>356</th>\n",
       "      <td>6478.0</td>\n",
       "      <td>relevance_selection</td>\n",
       "      <td>MC-LIME</td>\n",
       "      <td>1</td>\n",
       "      <td>1</td>\n",
       "      <td>1</td>\n",
       "      <td>1</td>\n",
       "      <td>1</td>\n",
       "      <td>1.0</td>\n",
       "      <td>1.0</td>\n",
       "      <td>1.0</td>\n",
       "      <td>NaN</td>\n",
       "    </tr>\n",
       "    <tr>\n",
       "      <th>357</th>\n",
       "      <td>6478.0</td>\n",
       "      <td>statistical_relevance</td>\n",
       "      <td>CEM</td>\n",
       "      <td>1</td>\n",
       "      <td>1</td>\n",
       "      <td>0</td>\n",
       "      <td>1</td>\n",
       "      <td>1</td>\n",
       "      <td>NaN</td>\n",
       "      <td>NaN</td>\n",
       "      <td>NaN</td>\n",
       "      <td>NaN</td>\n",
       "    </tr>\n",
       "    <tr>\n",
       "      <th>358</th>\n",
       "      <td>6478.0</td>\n",
       "      <td>statistical_relevance</td>\n",
       "      <td>LIME</td>\n",
       "      <td>1</td>\n",
       "      <td>1</td>\n",
       "      <td>1</td>\n",
       "      <td>1</td>\n",
       "      <td>1</td>\n",
       "      <td>NaN</td>\n",
       "      <td>NaN</td>\n",
       "      <td>NaN</td>\n",
       "      <td>NaN</td>\n",
       "    </tr>\n",
       "    <tr>\n",
       "      <th>359</th>\n",
       "      <td>6478.0</td>\n",
       "      <td>statistical_relevance</td>\n",
       "      <td>MC-LIME</td>\n",
       "      <td>1</td>\n",
       "      <td>1</td>\n",
       "      <td>1</td>\n",
       "      <td>0</td>\n",
       "      <td>1</td>\n",
       "      <td>NaN</td>\n",
       "      <td>NaN</td>\n",
       "      <td>NaN</td>\n",
       "      <td>NaN</td>\n",
       "    </tr>\n",
       "  </tbody>\n",
       "</table>\n",
       "<p>360 rows × 12 columns</p>\n",
       "</div>"
      ],
      "text/plain": [
       "     student               strategy explainer  question_1  question_2  \\\n",
       "0      123.0    abnormal_conditions      LIME           1           1   \n",
       "1      123.0    abnormal_conditions   MC-LIME           1           1   \n",
       "2      123.0    abnormal_conditions       CEM           1           1   \n",
       "3     1090.0    abnormal_conditions      LIME           1           1   \n",
       "4     1090.0    abnormal_conditions   MC-LIME           1           1   \n",
       "..       ...                    ...       ...         ...         ...   \n",
       "355   6478.0    relevance_selection      LIME           1           1   \n",
       "356   6478.0    relevance_selection   MC-LIME           1           1   \n",
       "357   6478.0  statistical_relevance       CEM           1           1   \n",
       "358   6478.0  statistical_relevance      LIME           1           1   \n",
       "359   6478.0  statistical_relevance   MC-LIME           1           1   \n",
       "\n",
       "     question_3  question_4  question_5  question_6  question_7  question_8  \\\n",
       "0             1           1           1         1.0         1.0         1.0   \n",
       "1             1           1           1         1.0         1.0         1.0   \n",
       "2             1           1           1         1.0         1.0         1.0   \n",
       "3             1           1           1         1.0         1.0         1.0   \n",
       "4             1           1           1         1.0         1.0         1.0   \n",
       "..          ...         ...         ...         ...         ...         ...   \n",
       "355           1           1           1         1.0         1.0         1.0   \n",
       "356           1           1           1         1.0         1.0         1.0   \n",
       "357           0           1           1         NaN         NaN         NaN   \n",
       "358           1           1           1         NaN         NaN         NaN   \n",
       "359           1           0           1         NaN         NaN         NaN   \n",
       "\n",
       "     question_9  \n",
       "0           NaN  \n",
       "1           NaN  \n",
       "2           NaN  \n",
       "3           NaN  \n",
       "4           NaN  \n",
       "..          ...  \n",
       "355         NaN  \n",
       "356         NaN  \n",
       "357         NaN  \n",
       "358         NaN  \n",
       "359         NaN  \n",
       "\n",
       "[360 rows x 12 columns]"
      ]
     },
     "execution_count": 380,
     "metadata": {},
     "output_type": "execute_result"
    }
   ],
   "source": [
    "def compare_question_columns(df1, df2, id_columns, question_columns):\n",
    "    \"\"\"\n",
    "    Compare two DataFrames row by row based on the identifier columns and question columns.\n",
    "    \n",
    "    Parameters:\n",
    "    df1 (pd.DataFrame): The first DataFrame to compare.\n",
    "    df2 (pd.DataFrame): The second DataFrame to compare.\n",
    "    id_columns (list): The columns that identify unique rows ('student_id', 'strategy', 'explainer').\n",
    "    question_columns (list): The columns that contain the questions to compare.\n",
    "\n",
    "    Returns:\n",
    "    pd.DataFrame: A DataFrame with 1 if the question answers match, 0 if they don't,\n",
    "                  and NaN if all values for a strategy are NaN.\n",
    "    \"\"\"\n",
    "    # Merge the two DataFrames on the identifier columns\n",
    "    merged_df = pd.merge(df1[id_columns + question_columns], df2[id_columns + question_columns], \n",
    "                         on=id_columns, suffixes=('_df1', '_df2'))\n",
    "    \n",
    "    # Initialize an empty DataFrame to hold the comparison results\n",
    "    comparison_df = merged_df[id_columns].copy()\n",
    "    \n",
    "    # Compare each question column and store the result as 1 if equal, 0 if not\n",
    "    for question in question_columns:\n",
    "        # Handle the comparison, considering NaNs as equal\n",
    "        comparison_series = (\n",
    "            (merged_df[f'{question}_df1'] == merged_df[f'{question}_df2']) | \n",
    "            (merged_df[f'{question}_df1'].isna() & merged_df[f'{question}_df2'].isna())\n",
    "        ).astype(int)\n",
    "        \n",
    "        # Check if all values in this question for the current strategy are NaN\n",
    "        all_nan_mask = merged_df[[f'{question}_df1', f'{question}_df2']].isna().all(axis=1)\n",
    "        \n",
    "        # Apply the all NaN condition to set NaN where all values are NaN\n",
    "        comparison_series[all_nan_mask] = np.nan\n",
    "        \n",
    "        # Store the result in the comparison DataFrame\n",
    "        comparison_df[question] = comparison_series\n",
    "    \n",
    "    return comparison_df\n",
    "\n",
    "# Example usage:\n",
    "# Assuming df1 and df2 are your DataFrames\n",
    "# Define the columns that identify unique rows\n",
    "id_columns = ['student', 'strategy', 'explainer']\n",
    "\n",
    "# List of question columns\n",
    "question_columns = ['question_1', 'question_2', 'question_3', 'question_4', \n",
    "                    'question_5', 'question_6', 'question_7', 'question_8', \n",
    "                    'question_9']\n",
    "\n",
    "# Compare the two DataFrames\n",
    "comparison_result_df = compare_question_columns(annotation_results, gpt4o_results, id_columns=id_columns, question_columns=question_columns)\n",
    "comparison_result_df\n"
   ]
  },
  {
   "cell_type": "code",
   "execution_count": 381,
   "metadata": {},
   "outputs": [
    {
     "name": "stderr",
     "output_type": "stream",
     "text": [
      "/var/folders/rq/nzqjmf0x07vg4p477yrb9w800000gn/T/ipykernel_60502/919093104.py:27: DeprecationWarning: DataFrameGroupBy.apply operated on the grouping columns. This behavior is deprecated, and in a future version of pandas the grouping columns will be excluded from the operation. Either pass `include_groups=False` to exclude the groupings or explicitly select the grouping columns after groupby to silence this warning.\n",
      "  mismatch_counts = comparison_df.groupby(strategy_column).apply(count_or_nan)\n",
      "/var/folders/rq/nzqjmf0x07vg4p477yrb9w800000gn/T/ipykernel_60502/919093104.py:43: FutureWarning: DataFrame.applymap has been deprecated. Use DataFrame.map instead.\n",
      "  mismatch_counts_df = mismatch_counts_df.applymap(lambda x: '{:.0f}'.format(x) if pd.notnull(x) else '')\n"
     ]
    },
    {
     "data": {
      "text/html": [
       "<div>\n",
       "<style scoped>\n",
       "    .dataframe tbody tr th:only-of-type {\n",
       "        vertical-align: middle;\n",
       "    }\n",
       "\n",
       "    .dataframe tbody tr th {\n",
       "        vertical-align: top;\n",
       "    }\n",
       "\n",
       "    .dataframe thead th {\n",
       "        text-align: right;\n",
       "    }\n",
       "</style>\n",
       "<table border=\"1\" class=\"dataframe\">\n",
       "  <thead>\n",
       "    <tr style=\"text-align: right;\">\n",
       "      <th></th>\n",
       "      <th>question_1</th>\n",
       "      <th>question_2</th>\n",
       "      <th>question_3</th>\n",
       "      <th>question_4</th>\n",
       "      <th>question_5</th>\n",
       "      <th>question_6</th>\n",
       "      <th>question_7</th>\n",
       "      <th>question_8</th>\n",
       "      <th>question_9</th>\n",
       "    </tr>\n",
       "    <tr>\n",
       "      <th>strategy</th>\n",
       "      <th></th>\n",
       "      <th></th>\n",
       "      <th></th>\n",
       "      <th></th>\n",
       "      <th></th>\n",
       "      <th></th>\n",
       "      <th></th>\n",
       "      <th></th>\n",
       "      <th></th>\n",
       "    </tr>\n",
       "  </thead>\n",
       "  <tbody>\n",
       "    <tr>\n",
       "      <th>abnormal_conditions</th>\n",
       "      <td>0</td>\n",
       "      <td>0</td>\n",
       "      <td>1</td>\n",
       "      <td>0</td>\n",
       "      <td>0</td>\n",
       "      <td>2</td>\n",
       "      <td>0</td>\n",
       "      <td>1</td>\n",
       "      <td></td>\n",
       "    </tr>\n",
       "    <tr>\n",
       "      <th>base_contrastive_explanation</th>\n",
       "      <td>0</td>\n",
       "      <td>27</td>\n",
       "      <td>1</td>\n",
       "      <td>17</td>\n",
       "      <td>0</td>\n",
       "      <td>5</td>\n",
       "      <td>0</td>\n",
       "      <td>14</td>\n",
       "      <td></td>\n",
       "    </tr>\n",
       "    <tr>\n",
       "      <th>chain_of_thought</th>\n",
       "      <td>0</td>\n",
       "      <td>0</td>\n",
       "      <td>1</td>\n",
       "      <td>8</td>\n",
       "      <td>2</td>\n",
       "      <td></td>\n",
       "      <td></td>\n",
       "      <td></td>\n",
       "      <td></td>\n",
       "    </tr>\n",
       "    <tr>\n",
       "      <th>contrastive_explanation</th>\n",
       "      <td>0</td>\n",
       "      <td>0</td>\n",
       "      <td>1</td>\n",
       "      <td>0</td>\n",
       "      <td>3</td>\n",
       "      <td>0</td>\n",
       "      <td>0</td>\n",
       "      <td>2</td>\n",
       "      <td>1</td>\n",
       "    </tr>\n",
       "    <tr>\n",
       "      <th>necessity_robustness_selection</th>\n",
       "      <td>0</td>\n",
       "      <td>0</td>\n",
       "      <td>0</td>\n",
       "      <td>7</td>\n",
       "      <td>0</td>\n",
       "      <td>0</td>\n",
       "      <td>0</td>\n",
       "      <td></td>\n",
       "      <td></td>\n",
       "    </tr>\n",
       "    <tr>\n",
       "      <th>pearl_explanation</th>\n",
       "      <td>0</td>\n",
       "      <td>0</td>\n",
       "      <td>0</td>\n",
       "      <td>0</td>\n",
       "      <td>2</td>\n",
       "      <td>2</td>\n",
       "      <td>8</td>\n",
       "      <td>3</td>\n",
       "      <td></td>\n",
       "    </tr>\n",
       "    <tr>\n",
       "      <th>relevance_selection</th>\n",
       "      <td>0</td>\n",
       "      <td>0</td>\n",
       "      <td>1</td>\n",
       "      <td>1</td>\n",
       "      <td>0</td>\n",
       "      <td>0</td>\n",
       "      <td>0</td>\n",
       "      <td>6</td>\n",
       "      <td></td>\n",
       "    </tr>\n",
       "    <tr>\n",
       "      <th>statistical_relevance</th>\n",
       "      <td>0</td>\n",
       "      <td>0</td>\n",
       "      <td>1</td>\n",
       "      <td>17</td>\n",
       "      <td>1</td>\n",
       "      <td></td>\n",
       "      <td></td>\n",
       "      <td></td>\n",
       "      <td></td>\n",
       "    </tr>\n",
       "  </tbody>\n",
       "</table>\n",
       "</div>"
      ],
      "text/plain": [
       "                               question_1 question_2 question_3 question_4  \\\n",
       "strategy                                                                     \n",
       "abnormal_conditions                     0          0          1          0   \n",
       "base_contrastive_explanation            0         27          1         17   \n",
       "chain_of_thought                        0          0          1          8   \n",
       "contrastive_explanation                 0          0          1          0   \n",
       "necessity_robustness_selection          0          0          0          7   \n",
       "pearl_explanation                       0          0          0          0   \n",
       "relevance_selection                     0          0          1          1   \n",
       "statistical_relevance                   0          0          1         17   \n",
       "\n",
       "                               question_5 question_6 question_7 question_8  \\\n",
       "strategy                                                                     \n",
       "abnormal_conditions                     0          2          0          1   \n",
       "base_contrastive_explanation            0          5          0         14   \n",
       "chain_of_thought                        2                                    \n",
       "contrastive_explanation                 3          0          0          2   \n",
       "necessity_robustness_selection          0          0          0              \n",
       "pearl_explanation                       2          2          8          3   \n",
       "relevance_selection                     0          0          0          6   \n",
       "statistical_relevance                   1                                    \n",
       "\n",
       "                               question_9  \n",
       "strategy                                   \n",
       "abnormal_conditions                        \n",
       "base_contrastive_explanation               \n",
       "chain_of_thought                           \n",
       "contrastive_explanation                 1  \n",
       "necessity_robustness_selection             \n",
       "pearl_explanation                          \n",
       "relevance_selection                        \n",
       "statistical_relevance                      "
      ]
     },
     "execution_count": 381,
     "metadata": {},
     "output_type": "execute_result"
    }
   ],
   "source": [
    "def count_mismatches_by_strategy(comparison_df, strategy_column, question_columns):\n",
    "    \"\"\"\n",
    "    Group the comparison DataFrame by strategy and count the number of 0s (mismatches) for each question column.\n",
    "    If all values for a specific question for a strategy are NaN, then return NaN for that question.\n",
    "\n",
    "    Parameters:\n",
    "    comparison_df (pd.DataFrame): The DataFrame containing the comparison results (1s and 0s).\n",
    "    strategy_column (str): The column name to group by (e.g., 'strategy').\n",
    "    question_columns (list): The columns that contain the question comparison results (1s and 0s).\n",
    "\n",
    "    Returns:\n",
    "    pd.DataFrame: A DataFrame with strategies as rows and the count of 0s per question as columns, or NaN if all values are NaN.\n",
    "    \"\"\"\n",
    "    def count_or_nan(group):\n",
    "        # Initialize an empty dictionary to store the counts or NaNs\n",
    "        result = {}\n",
    "        for question in question_columns:\n",
    "            # Check if all values for this question are NaN\n",
    "            if group[question].isna().all():\n",
    "                result[question] = np.nan\n",
    "            else:\n",
    "                # Count the number of 0s (mismatches) if not all are NaN\n",
    "                result[question] = (group[question] == 0).sum()\n",
    "        return pd.Series(result)\n",
    "    \n",
    "    # Group by strategy and apply the count_or_nan function\n",
    "    mismatch_counts = comparison_df.groupby(strategy_column).apply(count_or_nan)\n",
    "    \n",
    "    return mismatch_counts\n",
    "\n",
    "# Example usage:\n",
    "# Assuming comparison_result_df is your DataFrame from the previous comparison\n",
    "# Define the column to group by\n",
    "strategy_column = 'strategy'\n",
    "\n",
    "# List of question columns\n",
    "question_columns = ['question_1', 'question_2', 'question_3', 'question_4', \n",
    "                    'question_5', 'question_6', 'question_7', 'question_8', \n",
    "                    'question_9']\n",
    "\n",
    "# Count the mismatches (0s) by strategy\n",
    "mismatch_counts_df = count_mismatches_by_strategy(comparison_result_df, strategy_column=strategy_column, question_columns=question_columns)\n",
    "mismatch_counts_df = mismatch_counts_df.applymap(lambda x: '{:.0f}'.format(x) if pd.notnull(x) else '')\n",
    "\n",
    "mismatch_counts_df"
   ]
  },
  {
   "cell_type": "code",
   "execution_count": 382,
   "metadata": {},
   "outputs": [
    {
     "data": {
      "text/html": [
       "<div>\n",
       "<style scoped>\n",
       "    .dataframe tbody tr th:only-of-type {\n",
       "        vertical-align: middle;\n",
       "    }\n",
       "\n",
       "    .dataframe tbody tr th {\n",
       "        vertical-align: top;\n",
       "    }\n",
       "\n",
       "    .dataframe thead th {\n",
       "        text-align: right;\n",
       "    }\n",
       "</style>\n",
       "<table border=\"1\" class=\"dataframe\">\n",
       "  <thead>\n",
       "    <tr style=\"text-align: right;\">\n",
       "      <th></th>\n",
       "      <th>question_1</th>\n",
       "      <th>question_2</th>\n",
       "      <th>question_3</th>\n",
       "      <th>question_4</th>\n",
       "      <th>question_5</th>\n",
       "      <th>question_6</th>\n",
       "      <th>question_7</th>\n",
       "      <th>question_8</th>\n",
       "      <th>question_9</th>\n",
       "    </tr>\n",
       "    <tr>\n",
       "      <th>strategy</th>\n",
       "      <th></th>\n",
       "      <th></th>\n",
       "      <th></th>\n",
       "      <th></th>\n",
       "      <th></th>\n",
       "      <th></th>\n",
       "      <th></th>\n",
       "      <th></th>\n",
       "      <th></th>\n",
       "    </tr>\n",
       "  </thead>\n",
       "  <tbody>\n",
       "    <tr>\n",
       "      <th>abnormal_conditions</th>\n",
       "      <td>0</td>\n",
       "      <td>0</td>\n",
       "      <td>1</td>\n",
       "      <td>0</td>\n",
       "      <td>0</td>\n",
       "      <td>2</td>\n",
       "      <td>0</td>\n",
       "      <td>1</td>\n",
       "      <td></td>\n",
       "    </tr>\n",
       "    <tr>\n",
       "      <th>base_contrastive_explanation</th>\n",
       "      <td>0</td>\n",
       "      <td>27</td>\n",
       "      <td>1</td>\n",
       "      <td>17</td>\n",
       "      <td>0</td>\n",
       "      <td>5</td>\n",
       "      <td>0</td>\n",
       "      <td>14</td>\n",
       "      <td></td>\n",
       "    </tr>\n",
       "    <tr>\n",
       "      <th>chain_of_thought</th>\n",
       "      <td>0</td>\n",
       "      <td>0</td>\n",
       "      <td>1</td>\n",
       "      <td>8</td>\n",
       "      <td>2</td>\n",
       "      <td></td>\n",
       "      <td></td>\n",
       "      <td></td>\n",
       "      <td></td>\n",
       "    </tr>\n",
       "    <tr>\n",
       "      <th>contrastive_explanation</th>\n",
       "      <td>0</td>\n",
       "      <td>0</td>\n",
       "      <td>1</td>\n",
       "      <td>0</td>\n",
       "      <td>3</td>\n",
       "      <td>0</td>\n",
       "      <td>0</td>\n",
       "      <td>2</td>\n",
       "      <td>1</td>\n",
       "    </tr>\n",
       "    <tr>\n",
       "      <th>necessity_robustness_selection</th>\n",
       "      <td>0</td>\n",
       "      <td>0</td>\n",
       "      <td>0</td>\n",
       "      <td>7</td>\n",
       "      <td>0</td>\n",
       "      <td>0</td>\n",
       "      <td>0</td>\n",
       "      <td></td>\n",
       "      <td></td>\n",
       "    </tr>\n",
       "    <tr>\n",
       "      <th>pearl_explanation</th>\n",
       "      <td>0</td>\n",
       "      <td>0</td>\n",
       "      <td>0</td>\n",
       "      <td>0</td>\n",
       "      <td>2</td>\n",
       "      <td>2</td>\n",
       "      <td>8</td>\n",
       "      <td>3</td>\n",
       "      <td></td>\n",
       "    </tr>\n",
       "    <tr>\n",
       "      <th>relevance_selection</th>\n",
       "      <td>0</td>\n",
       "      <td>0</td>\n",
       "      <td>1</td>\n",
       "      <td>1</td>\n",
       "      <td>0</td>\n",
       "      <td>0</td>\n",
       "      <td>0</td>\n",
       "      <td>6</td>\n",
       "      <td></td>\n",
       "    </tr>\n",
       "    <tr>\n",
       "      <th>statistical_relevance</th>\n",
       "      <td>0</td>\n",
       "      <td>0</td>\n",
       "      <td>1</td>\n",
       "      <td>17</td>\n",
       "      <td>1</td>\n",
       "      <td></td>\n",
       "      <td></td>\n",
       "      <td></td>\n",
       "      <td></td>\n",
       "    </tr>\n",
       "  </tbody>\n",
       "</table>\n",
       "</div>"
      ],
      "text/plain": [
       "                               question_1 question_2 question_3 question_4  \\\n",
       "strategy                                                                     \n",
       "abnormal_conditions                     0          0          1          0   \n",
       "base_contrastive_explanation            0         27          1         17   \n",
       "chain_of_thought                        0          0          1          8   \n",
       "contrastive_explanation                 0          0          1          0   \n",
       "necessity_robustness_selection          0          0          0          7   \n",
       "pearl_explanation                       0          0          0          0   \n",
       "relevance_selection                     0          0          1          1   \n",
       "statistical_relevance                   0          0          1         17   \n",
       "\n",
       "                               question_5 question_6 question_7 question_8  \\\n",
       "strategy                                                                     \n",
       "abnormal_conditions                     0          2          0          1   \n",
       "base_contrastive_explanation            0          5          0         14   \n",
       "chain_of_thought                        2                                    \n",
       "contrastive_explanation                 3          0          0          2   \n",
       "necessity_robustness_selection          0          0          0              \n",
       "pearl_explanation                       2          2          8          3   \n",
       "relevance_selection                     0          0          0          6   \n",
       "statistical_relevance                   1                                    \n",
       "\n",
       "                               question_9  \n",
       "strategy                                   \n",
       "abnormal_conditions                        \n",
       "base_contrastive_explanation               \n",
       "chain_of_thought                           \n",
       "contrastive_explanation                 1  \n",
       "necessity_robustness_selection             \n",
       "pearl_explanation                          \n",
       "relevance_selection                        \n",
       "statistical_relevance                      "
      ]
     },
     "execution_count": 382,
     "metadata": {},
     "output_type": "execute_result"
    }
   ],
   "source": [
    "mismatch_counts_df"
   ]
  },
  {
   "cell_type": "code",
   "execution_count": 383,
   "metadata": {},
   "outputs": [
    {
     "name": "stderr",
     "output_type": "stream",
     "text": [
      "/var/folders/rq/nzqjmf0x07vg4p477yrb9w800000gn/T/ipykernel_60502/1549857195.py:32: DeprecationWarning: DataFrameGroupBy.apply operated on the grouping columns. This behavior is deprecated, and in a future version of pandas the grouping columns will be excluded from the operation. Either pass `include_groups=False` to exclude the groupings or explicitly select the grouping columns after groupby to silence this warning.\n",
      "  percentage_mismatches = comparison_df.groupby(strategy_column).apply(calculate_percentage_or_nan)\n"
     ]
    },
    {
     "data": {
      "text/html": [
       "<div>\n",
       "<style scoped>\n",
       "    .dataframe tbody tr th:only-of-type {\n",
       "        vertical-align: middle;\n",
       "    }\n",
       "\n",
       "    .dataframe tbody tr th {\n",
       "        vertical-align: top;\n",
       "    }\n",
       "\n",
       "    .dataframe thead th {\n",
       "        text-align: right;\n",
       "    }\n",
       "</style>\n",
       "<table border=\"1\" class=\"dataframe\">\n",
       "  <thead>\n",
       "    <tr style=\"text-align: right;\">\n",
       "      <th></th>\n",
       "      <th>question_1</th>\n",
       "      <th>question_2</th>\n",
       "      <th>question_3</th>\n",
       "      <th>question_4</th>\n",
       "      <th>question_5</th>\n",
       "      <th>question_6</th>\n",
       "      <th>question_7</th>\n",
       "      <th>question_8</th>\n",
       "      <th>question_9</th>\n",
       "    </tr>\n",
       "    <tr>\n",
       "      <th>strategy</th>\n",
       "      <th></th>\n",
       "      <th></th>\n",
       "      <th></th>\n",
       "      <th></th>\n",
       "      <th></th>\n",
       "      <th></th>\n",
       "      <th></th>\n",
       "      <th></th>\n",
       "      <th></th>\n",
       "    </tr>\n",
       "  </thead>\n",
       "  <tbody>\n",
       "    <tr>\n",
       "      <th>abnormal_conditions</th>\n",
       "      <td>0.0</td>\n",
       "      <td>0.0</td>\n",
       "      <td>2.22</td>\n",
       "      <td>0.00</td>\n",
       "      <td>0.00</td>\n",
       "      <td>4.44</td>\n",
       "      <td>0.0</td>\n",
       "      <td>2.22</td>\n",
       "      <td></td>\n",
       "    </tr>\n",
       "    <tr>\n",
       "      <th>base_contrastive_explanation</th>\n",
       "      <td>0.0</td>\n",
       "      <td>60.0</td>\n",
       "      <td>2.22</td>\n",
       "      <td>37.78</td>\n",
       "      <td>0.00</td>\n",
       "      <td>11.11</td>\n",
       "      <td>0.0</td>\n",
       "      <td>31.11</td>\n",
       "      <td></td>\n",
       "    </tr>\n",
       "    <tr>\n",
       "      <th>chain_of_thought</th>\n",
       "      <td>0.0</td>\n",
       "      <td>0.0</td>\n",
       "      <td>2.22</td>\n",
       "      <td>17.78</td>\n",
       "      <td>4.44</td>\n",
       "      <td></td>\n",
       "      <td></td>\n",
       "      <td></td>\n",
       "      <td></td>\n",
       "    </tr>\n",
       "    <tr>\n",
       "      <th>contrastive_explanation</th>\n",
       "      <td>0.0</td>\n",
       "      <td>0.0</td>\n",
       "      <td>2.22</td>\n",
       "      <td>0.00</td>\n",
       "      <td>6.67</td>\n",
       "      <td>0.0</td>\n",
       "      <td>0.0</td>\n",
       "      <td>4.44</td>\n",
       "      <td>2.22</td>\n",
       "    </tr>\n",
       "    <tr>\n",
       "      <th>necessity_robustness_selection</th>\n",
       "      <td>0.0</td>\n",
       "      <td>0.0</td>\n",
       "      <td>0.00</td>\n",
       "      <td>15.56</td>\n",
       "      <td>0.00</td>\n",
       "      <td>0.0</td>\n",
       "      <td>0.0</td>\n",
       "      <td></td>\n",
       "      <td></td>\n",
       "    </tr>\n",
       "    <tr>\n",
       "      <th>pearl_explanation</th>\n",
       "      <td>0.0</td>\n",
       "      <td>0.0</td>\n",
       "      <td>0.00</td>\n",
       "      <td>0.00</td>\n",
       "      <td>4.44</td>\n",
       "      <td>4.44</td>\n",
       "      <td>17.78</td>\n",
       "      <td>6.67</td>\n",
       "      <td></td>\n",
       "    </tr>\n",
       "    <tr>\n",
       "      <th>relevance_selection</th>\n",
       "      <td>0.0</td>\n",
       "      <td>0.0</td>\n",
       "      <td>2.22</td>\n",
       "      <td>2.22</td>\n",
       "      <td>0.00</td>\n",
       "      <td>0.0</td>\n",
       "      <td>0.0</td>\n",
       "      <td>13.33</td>\n",
       "      <td></td>\n",
       "    </tr>\n",
       "    <tr>\n",
       "      <th>statistical_relevance</th>\n",
       "      <td>0.0</td>\n",
       "      <td>0.0</td>\n",
       "      <td>2.22</td>\n",
       "      <td>37.78</td>\n",
       "      <td>2.22</td>\n",
       "      <td></td>\n",
       "      <td></td>\n",
       "      <td></td>\n",
       "      <td></td>\n",
       "    </tr>\n",
       "  </tbody>\n",
       "</table>\n",
       "</div>"
      ],
      "text/plain": [
       "                                question_1  question_2  question_3  \\\n",
       "strategy                                                             \n",
       "abnormal_conditions                    0.0         0.0        2.22   \n",
       "base_contrastive_explanation           0.0        60.0        2.22   \n",
       "chain_of_thought                       0.0         0.0        2.22   \n",
       "contrastive_explanation                0.0         0.0        2.22   \n",
       "necessity_robustness_selection         0.0         0.0        0.00   \n",
       "pearl_explanation                      0.0         0.0        0.00   \n",
       "relevance_selection                    0.0         0.0        2.22   \n",
       "statistical_relevance                  0.0         0.0        2.22   \n",
       "\n",
       "                                question_4  question_5 question_6 question_7  \\\n",
       "strategy                                                                       \n",
       "abnormal_conditions                   0.00        0.00       4.44        0.0   \n",
       "base_contrastive_explanation         37.78        0.00      11.11        0.0   \n",
       "chain_of_thought                     17.78        4.44                         \n",
       "contrastive_explanation               0.00        6.67        0.0        0.0   \n",
       "necessity_robustness_selection       15.56        0.00        0.0        0.0   \n",
       "pearl_explanation                     0.00        4.44       4.44      17.78   \n",
       "relevance_selection                   2.22        0.00        0.0        0.0   \n",
       "statistical_relevance                37.78        2.22                         \n",
       "\n",
       "                               question_8 question_9  \n",
       "strategy                                              \n",
       "abnormal_conditions                  2.22             \n",
       "base_contrastive_explanation        31.11             \n",
       "chain_of_thought                                      \n",
       "contrastive_explanation              4.44       2.22  \n",
       "necessity_robustness_selection                        \n",
       "pearl_explanation                    6.67             \n",
       "relevance_selection                 13.33             \n",
       "statistical_relevance                                 "
      ]
     },
     "execution_count": 383,
     "metadata": {},
     "output_type": "execute_result"
    }
   ],
   "source": [
    "def percentage_mismatches_by_strategy(comparison_df, strategy_column, question_columns):\n",
    "    \"\"\"\n",
    "    Group the comparison DataFrame by strategy and calculate the percentage of 0s (mismatches)\n",
    "    for each question column. If all values for a specific question for a strategy are NaN,\n",
    "    then return NaN for that question. The result is formatted to 2 decimal places.\n",
    "    \n",
    "    Parameters:\n",
    "    comparison_df (pd.DataFrame): The DataFrame containing the comparison results (1s and 0s).\n",
    "    strategy_column (str): The column name to group by (e.g., 'strategy').\n",
    "    question_columns (list): The columns that contain the question comparison results (1s and 0s).\n",
    "\n",
    "    Returns:\n",
    "    pd.DataFrame: A DataFrame with strategies as rows and the percentage of 0s per question as columns.\n",
    "    \"\"\"\n",
    "    def calculate_percentage_or_nan(group):\n",
    "        # Initialize an empty dictionary to store the percentages or NaNs\n",
    "        result = {}\n",
    "        for question in question_columns:\n",
    "            # Check if all values for this question are NaN\n",
    "            if group[question].isna().all():\n",
    "                result[question] = \"\"\n",
    "            else:\n",
    "                # Count the total number of valid (non-NaN) entries\n",
    "                total_count = group[question].notna().sum()\n",
    "                # Count the number of 0s (mismatches)\n",
    "                mismatch_count = (group[question] == 0).sum()\n",
    "                # Calculate the percentage\n",
    "                result[question] = (mismatch_count / total_count * 100).round(2)\n",
    "        return pd.Series(result)\n",
    "    \n",
    "    # Group by strategy and apply the calculate_percentage_or_nan function\n",
    "    percentage_mismatches = comparison_df.groupby(strategy_column).apply(calculate_percentage_or_nan)\n",
    "    \n",
    "    return percentage_mismatches\n",
    "\n",
    "# Example usage:\n",
    "# Assuming comparison_result_df is your DataFrame from the previous comparison\n",
    "# Define the column to group by\n",
    "strategy_column = 'strategy'\n",
    "\n",
    "# List of question columns\n",
    "question_columns = ['question_1', 'question_2', 'question_3', 'question_4', \n",
    "                    'question_5', 'question_6', 'question_7', 'question_8', \n",
    "                    'question_9']\n",
    "\n",
    "# Calculate the percentage of mismatches (0s) by strategy\n",
    "percentage_mismatch_df = percentage_mismatches_by_strategy(comparison_result_df, strategy_column=strategy_column, question_columns=question_columns)\n",
    "percentage_mismatch_df"
   ]
  },
  {
   "cell_type": "code",
   "execution_count": 384,
   "metadata": {},
   "outputs": [
    {
     "name": "stderr",
     "output_type": "stream",
     "text": [
      "/var/folders/rq/nzqjmf0x07vg4p477yrb9w800000gn/T/ipykernel_60502/512985608.py:22: DeprecationWarning: DataFrameGroupBy.apply operated on the grouping columns. This behavior is deprecated, and in a future version of pandas the grouping columns will be excluded from the operation. Either pass `include_groups=False` to exclude the groupings or explicitly select the grouping columns after groupby to silence this warning.\n",
      "  overall_percentage_mismatches = comparison_df.groupby(strategy_column).apply(calculate_overall_percentage)\n"
     ]
    },
    {
     "data": {
      "text/plain": [
       "strategy\n",
       "abnormal_conditions                1.11\n",
       "base_contrastive_explanation      17.78\n",
       "chain_of_thought                   4.89\n",
       "contrastive_explanation            1.73\n",
       "necessity_robustness_selection     2.22\n",
       "pearl_explanation                  4.17\n",
       "relevance_selection                2.22\n",
       "statistical_relevance              8.44\n",
       "dtype: float64"
      ]
     },
     "execution_count": 384,
     "metadata": {},
     "output_type": "execute_result"
    }
   ],
   "source": [
    "def overall_percentage_mismatches_by_strategy(comparison_df, strategy_column, question_columns):\n",
    "\n",
    "    def calculate_overall_percentage(group):\n",
    "        total_mismatches = 0\n",
    "        total_valid_counts = 0\n",
    "        for question in question_columns:\n",
    "            # Check if all values for this question are NaN\n",
    "            if not group[question].isna().all():\n",
    "                # Count the total number of valid (non-NaN) entries\n",
    "                total_count = group[question].notna().sum()\n",
    "                # Count the number of 0s (mismatches)\n",
    "                mismatch_count = (group[question] == 0).sum()\n",
    "                # Accumulate mismatches and total counts\n",
    "                total_mismatches += mismatch_count\n",
    "                total_valid_counts += total_count\n",
    "        # Calculate the overall percentage\n",
    "        if total_valid_counts == 0:\n",
    "            return np.nan  # If all questions were NaN, return NaN\n",
    "        return (total_mismatches / total_valid_counts * 100).round(2)\n",
    "    \n",
    "    # Group by strategy and apply the calculate_overall_percentage function\n",
    "    overall_percentage_mismatches = comparison_df.groupby(strategy_column).apply(calculate_overall_percentage)\n",
    "    \n",
    "    return overall_percentage_mismatches\n",
    "\n",
    "# Example usage:\n",
    "# Define the column to group by\n",
    "strategy_column = 'strategy'\n",
    "\n",
    "# List of question columns\n",
    "question_columns = ['question_1', 'question_2', 'question_3', 'question_4', \n",
    "                    'question_5', 'question_6', 'question_7', 'question_8', \n",
    "                    'question_9']\n",
    "\n",
    "# Calculate the overall percentage of mismatches across all questions by strategy\n",
    "overall_percentage_mismatch_df = overall_percentage_mismatches_by_strategy(comparison_result_df, strategy_column=strategy_column, question_columns=question_columns)\n",
    "overall_percentage_mismatch_df"
   ]
  },
  {
   "cell_type": "code",
   "execution_count": 398,
   "metadata": {},
   "outputs": [],
   "source": [
    "\n",
    "def calculate_mean_and_std_yes_percentage_per_column(df, column='strategy', yes_percentage_column='yes_percentage'):\n",
    "    # Group by strategy and calculate the mean and std of yes_percentage\n",
    "    mean_and_std_yes_percentage_per_strategy = df.groupby(strategy_column)[yes_percentage_column].agg(['mean', 'std'])\n",
    "    \n",
    "    # Rename the columns for clarity\n",
    "    mean_and_std_yes_percentage_per_strategy = mean_and_std_yes_percentage_per_strategy.rename(\n",
    "        columns={'mean': 'mean_yes_percentage', 'std': 'std_yes_percentage'}\n",
    "    )\n",
    "\n",
    "    return mean_and_std_yes_percentage_per_strategy"
   ]
  },
  {
   "cell_type": "code",
   "execution_count": 400,
   "metadata": {},
   "outputs": [
    {
     "name": "stdout",
     "output_type": "stream",
     "text": [
      "                                mean_yes_percentage  std_yes_percentage\n",
      "strategy                                                               \n",
      "abnormal_conditions                       98.888889            4.477074\n",
      "base_contrastive_explanation              97.777778            5.519136\n",
      "chain_of_thought                          99.111111            4.168182\n",
      "contrastive_explanation                   99.012346            3.979621\n",
      "necessity_robustness_selection           100.000000            0.000000\n",
      "pearl_explanation                         96.111111            6.960839\n",
      "relevance_selection                       99.722222            1.863390\n",
      "statistical_relevance                     99.111111            4.168182\n"
     ]
    }
   ],
   "source": [
    "column = \"course\"\n",
    "yes_percentage_column = 'yes_percentage'\n",
    "\n",
    "# Calculate the mean and std of yes_percentage per strategy\n",
    "mean_and_std_yes_percentage_df = calculate_mean_and_std_yes_percentage_per_column(annotation_results, column=column, yes_percentage_column=yes_percentage_column)\n",
    "\n",
    "# Display the result\n",
    "print(mean_and_std_yes_percentage_df)"
   ]
  },
  {
   "cell_type": "code",
   "execution_count": 401,
   "metadata": {},
   "outputs": [
    {
     "name": "stdout",
     "output_type": "stream",
     "text": [
      "                                mean_yes_percentage  std_yes_percentage\n",
      "strategy                                                               \n",
      "abnormal_conditions                       97.037037            4.969040\n",
      "base_contrastive_explanation              83.333333           12.500000\n",
      "chain_of_thought                          96.000000            8.090398\n",
      "contrastive_explanation                   99.259259            2.802917\n",
      "necessity_robustness_selection            97.777778            5.236127\n",
      "pearl_explanation                         99.722222            1.863390\n",
      "relevance_selection                       98.055556            5.300324\n",
      "statistical_relevance                     92.444444            9.806203\n"
     ]
    }
   ],
   "source": [
    "column = \"course\"\n",
    "yes_percentage_column = 'yes_percentage'\n",
    "\n",
    "# Calculate the mean and std of yes_percentage per strategy\n",
    "mean_and_std_yes_percentage_df = calculate_mean_and_std_yes_percentage_per_column(gpt4o_results, column=column, yes_percentage_column=yes_percentage_column)\n",
    "\n",
    "# Display the result\n",
    "print(mean_and_std_yes_percentage_df)"
   ]
  },
  {
   "cell_type": "markdown",
   "metadata": {},
   "source": [
    "# Old analysis functions (might not work with the new code above)"
   ]
  },
  {
   "cell_type": "code",
   "execution_count": 58,
   "metadata": {},
   "outputs": [
    {
     "data": {
      "text/html": [
       "\n",
       "<style>\n",
       "  #altair-viz-c8fe6693f4414a61b937e4139902604b.vega-embed {\n",
       "    width: 100%;\n",
       "    display: flex;\n",
       "  }\n",
       "\n",
       "  #altair-viz-c8fe6693f4414a61b937e4139902604b.vega-embed details,\n",
       "  #altair-viz-c8fe6693f4414a61b937e4139902604b.vega-embed details summary {\n",
       "    position: relative;\n",
       "  }\n",
       "</style>\n",
       "<div id=\"altair-viz-c8fe6693f4414a61b937e4139902604b\"></div>\n",
       "<script type=\"text/javascript\">\n",
       "  var VEGA_DEBUG = (typeof VEGA_DEBUG == \"undefined\") ? {} : VEGA_DEBUG;\n",
       "  (function(spec, embedOpt){\n",
       "    let outputDiv = document.currentScript.previousElementSibling;\n",
       "    if (outputDiv.id !== \"altair-viz-c8fe6693f4414a61b937e4139902604b\") {\n",
       "      outputDiv = document.getElementById(\"altair-viz-c8fe6693f4414a61b937e4139902604b\");\n",
       "    }\n",
       "    const paths = {\n",
       "      \"vega\": \"https://cdn.jsdelivr.net/npm/vega@5?noext\",\n",
       "      \"vega-lib\": \"https://cdn.jsdelivr.net/npm/vega-lib?noext\",\n",
       "      \"vega-lite\": \"https://cdn.jsdelivr.net/npm/vega-lite@5.17.0?noext\",\n",
       "      \"vega-embed\": \"https://cdn.jsdelivr.net/npm/vega-embed@6?noext\",\n",
       "    };\n",
       "\n",
       "    function maybeLoadScript(lib, version) {\n",
       "      var key = `${lib.replace(\"-\", \"\")}_version`;\n",
       "      return (VEGA_DEBUG[key] == version) ?\n",
       "        Promise.resolve(paths[lib]) :\n",
       "        new Promise(function(resolve, reject) {\n",
       "          var s = document.createElement('script');\n",
       "          document.getElementsByTagName(\"head\")[0].appendChild(s);\n",
       "          s.async = true;\n",
       "          s.onload = () => {\n",
       "            VEGA_DEBUG[key] = version;\n",
       "            return resolve(paths[lib]);\n",
       "          };\n",
       "          s.onerror = () => reject(`Error loading script: ${paths[lib]}`);\n",
       "          s.src = paths[lib];\n",
       "        });\n",
       "    }\n",
       "\n",
       "    function showError(err) {\n",
       "      outputDiv.innerHTML = `<div class=\"error\" style=\"color:red;\">${err}</div>`;\n",
       "      throw err;\n",
       "    }\n",
       "\n",
       "    function displayChart(vegaEmbed) {\n",
       "      vegaEmbed(outputDiv, spec, embedOpt)\n",
       "        .catch(err => showError(`Javascript Error: ${err.message}<br>This usually means there's a typo in your chart specification. See the javascript console for the full traceback.`));\n",
       "    }\n",
       "\n",
       "    if(typeof define === \"function\" && define.amd) {\n",
       "      requirejs.config({paths});\n",
       "      require([\"vega-embed\"], displayChart, err => showError(`Error loading script: ${err.message}`));\n",
       "    } else {\n",
       "      maybeLoadScript(\"vega\", \"5\")\n",
       "        .then(() => maybeLoadScript(\"vega-lite\", \"5.17.0\"))\n",
       "        .then(() => maybeLoadScript(\"vega-embed\", \"6\"))\n",
       "        .catch(showError)\n",
       "        .then(() => displayChart(vegaEmbed));\n",
       "    }\n",
       "  })({\"config\": {\"view\": {\"continuousWidth\": 300, \"continuousHeight\": 300}}, \"vconcat\": [{\"hconcat\": [{\"data\": {\"name\": \"data-93925551ac25ec68963d6ee8a4fe2939\"}, \"mark\": {\"type\": \"bar\"}, \"encoding\": {\"color\": {\"field\": \"Question\", \"type\": \"nominal\"}, \"tooltip\": [{\"field\": \"Question\", \"type\": \"nominal\"}, {\"field\": \"NO Counts\", \"type\": \"quantitative\"}], \"x\": {\"field\": \"Question\", \"sort\": \"-y\", \"type\": \"nominal\"}, \"y\": {\"field\": \"NO Counts\", \"scale\": {\"domain\": [0, 60]}, \"type\": \"quantitative\"}}, \"height\": 300, \"title\": \"abnormal_conditions\", \"width\": 300}, {\"data\": {\"name\": \"data-43cc53b366398fc74843bb556b469260\"}, \"mark\": {\"type\": \"bar\"}, \"encoding\": {\"color\": {\"field\": \"Question\", \"type\": \"nominal\"}, \"tooltip\": [{\"field\": \"Question\", \"type\": \"nominal\"}, {\"field\": \"NO Counts\", \"type\": \"quantitative\"}], \"x\": {\"field\": \"Question\", \"sort\": \"-y\", \"type\": \"nominal\"}, \"y\": {\"field\": \"NO Counts\", \"scale\": {\"domain\": [0, 60]}, \"type\": \"quantitative\"}}, \"height\": 300, \"title\": \"base_contrastive_explanation\", \"width\": 300}, {\"data\": {\"name\": \"data-ad1df9f3f5f8e958482cc21084a41814\"}, \"mark\": {\"type\": \"bar\"}, \"encoding\": {\"color\": {\"field\": \"Question\", \"type\": \"nominal\"}, \"tooltip\": [{\"field\": \"Question\", \"type\": \"nominal\"}, {\"field\": \"NO Counts\", \"type\": \"quantitative\"}], \"x\": {\"field\": \"Question\", \"sort\": \"-y\", \"type\": \"nominal\"}, \"y\": {\"field\": \"NO Counts\", \"scale\": {\"domain\": [0, 60]}, \"type\": \"quantitative\"}}, \"height\": 300, \"title\": \"contrastive_explanation\", \"width\": 300}]}, {\"hconcat\": [{\"data\": {\"name\": \"data-df3db80384aad2141d01d3c947592daa\"}, \"mark\": {\"type\": \"bar\"}, \"encoding\": {\"color\": {\"field\": \"Question\", \"type\": \"nominal\"}, \"tooltip\": [{\"field\": \"Question\", \"type\": \"nominal\"}, {\"field\": \"NO Counts\", \"type\": \"quantitative\"}], \"x\": {\"field\": \"Question\", \"sort\": \"-y\", \"type\": \"nominal\"}, \"y\": {\"field\": \"NO Counts\", \"scale\": {\"domain\": [0, 60]}, \"type\": \"quantitative\"}}, \"height\": 300, \"title\": \"necessity_robustness_selection\", \"width\": 300}, {\"data\": {\"name\": \"data-4fb8986cdb24afe0e94186fca7c92b73\"}, \"mark\": {\"type\": \"bar\"}, \"encoding\": {\"color\": {\"field\": \"Question\", \"type\": \"nominal\"}, \"tooltip\": [{\"field\": \"Question\", \"type\": \"nominal\"}, {\"field\": \"NO Counts\", \"type\": \"quantitative\"}], \"x\": {\"field\": \"Question\", \"sort\": \"-y\", \"type\": \"nominal\"}, \"y\": {\"field\": \"NO Counts\", \"scale\": {\"domain\": [0, 60]}, \"type\": \"quantitative\"}}, \"height\": 300, \"title\": \"pearl_explanation\", \"width\": 300}, {\"data\": {\"name\": \"data-f6e43ba2ba4ff77179a1b4b6f106dddc\"}, \"mark\": {\"type\": \"bar\"}, \"encoding\": {\"color\": {\"field\": \"Question\", \"type\": \"nominal\"}, \"tooltip\": [{\"field\": \"Question\", \"type\": \"nominal\"}, {\"field\": \"NO Counts\", \"type\": \"quantitative\"}], \"x\": {\"field\": \"Question\", \"sort\": \"-y\", \"type\": \"nominal\"}, \"y\": {\"field\": \"NO Counts\", \"scale\": {\"domain\": [0, 60]}, \"type\": \"quantitative\"}}, \"height\": 300, \"title\": \"relevance_selection\", \"width\": 300}]}, {\"hconcat\": [{\"mark\": {\"type\": \"bar\"}, \"encoding\": {\"color\": {\"field\": \"Question\", \"type\": \"nominal\"}, \"tooltip\": [{\"field\": \"Question\", \"type\": \"nominal\"}, {\"field\": \"NO Counts\", \"type\": \"quantitative\"}], \"x\": {\"field\": \"Question\", \"sort\": \"-y\", \"type\": \"nominal\"}, \"y\": {\"field\": \"NO Counts\", \"scale\": {\"domain\": [0, 60]}, \"type\": \"quantitative\"}}, \"height\": 300, \"title\": \"statistical_relevance\", \"width\": 300}], \"data\": {\"name\": \"data-828618fa969127bdefee2886445d4f7b\"}}], \"$schema\": \"https://vega.github.io/schema/vega-lite/v5.17.0.json\", \"datasets\": {\"data-93925551ac25ec68963d6ee8a4fe2939\": [{\"Strategy\": \"abnormal_conditions\", \"Question\": \"Question 0\", \"NO Counts\": 0}, {\"Strategy\": \"abnormal_conditions\", \"Question\": \"Question 1\", \"NO Counts\": 0}, {\"Strategy\": \"abnormal_conditions\", \"Question\": \"Question 2\", \"NO Counts\": 0}, {\"Strategy\": \"abnormal_conditions\", \"Question\": \"Question 4\", \"NO Counts\": 0}, {\"Strategy\": \"abnormal_conditions\", \"Question\": \"Question 5\", \"NO Counts\": 0}, {\"Strategy\": \"abnormal_conditions\", \"Question\": \"Question 6\", \"NO Counts\": 0}, {\"Strategy\": \"abnormal_conditions\", \"Question\": \"Question 7\", \"NO Counts\": 0}, {\"Strategy\": \"abnormal_conditions\", \"Question\": \"Question 8\", \"NO Counts\": 0}], \"data-43cc53b366398fc74843bb556b469260\": [{\"Strategy\": \"base_contrastive_explanation\", \"Question\": \"Question 0\", \"NO Counts\": 0}, {\"Strategy\": \"base_contrastive_explanation\", \"Question\": \"Question 1\", \"NO Counts\": 0}, {\"Strategy\": \"base_contrastive_explanation\", \"Question\": \"Question 2\", \"NO Counts\": 0}, {\"Strategy\": \"base_contrastive_explanation\", \"Question\": \"Question 4\", \"NO Counts\": 0}, {\"Strategy\": \"base_contrastive_explanation\", \"Question\": \"Question 5\", \"NO Counts\": 1}, {\"Strategy\": \"base_contrastive_explanation\", \"Question\": \"Question 6\", \"NO Counts\": 1}, {\"Strategy\": \"base_contrastive_explanation\", \"Question\": \"Question 7\", \"NO Counts\": 7}, {\"Strategy\": \"base_contrastive_explanation\", \"Question\": \"Question 8\", \"NO Counts\": 0}], \"data-ad1df9f3f5f8e958482cc21084a41814\": [{\"Strategy\": \"contrastive_explanation\", \"Question\": \"Question 0\", \"NO Counts\": 0}, {\"Strategy\": \"contrastive_explanation\", \"Question\": \"Question 1\", \"NO Counts\": 0}, {\"Strategy\": \"contrastive_explanation\", \"Question\": \"Question 2\", \"NO Counts\": 0}, {\"Strategy\": \"contrastive_explanation\", \"Question\": \"Question 4\", \"NO Counts\": 3}, {\"Strategy\": \"contrastive_explanation\", \"Question\": \"Question 5\", \"NO Counts\": 0}, {\"Strategy\": \"contrastive_explanation\", \"Question\": \"Question 6\", \"NO Counts\": 0}, {\"Strategy\": \"contrastive_explanation\", \"Question\": \"Question 7\", \"NO Counts\": 7}, {\"Strategy\": \"contrastive_explanation\", \"Question\": \"Question 8\", \"NO Counts\": 6}], \"data-df3db80384aad2141d01d3c947592daa\": [{\"Strategy\": \"necessity_robustness_selection\", \"Question\": \"Question 0\", \"NO Counts\": 0}, {\"Strategy\": \"necessity_robustness_selection\", \"Question\": \"Question 1\", \"NO Counts\": 0}, {\"Strategy\": \"necessity_robustness_selection\", \"Question\": \"Question 2\", \"NO Counts\": 0}, {\"Strategy\": \"necessity_robustness_selection\", \"Question\": \"Question 4\", \"NO Counts\": 0}, {\"Strategy\": \"necessity_robustness_selection\", \"Question\": \"Question 5\", \"NO Counts\": 0}, {\"Strategy\": \"necessity_robustness_selection\", \"Question\": \"Question 6\", \"NO Counts\": 0}, {\"Strategy\": \"necessity_robustness_selection\", \"Question\": \"Question 7\", \"NO Counts\": 0}], \"data-4fb8986cdb24afe0e94186fca7c92b73\": [{\"Strategy\": \"pearl_explanation\", \"Question\": \"Question 0\", \"NO Counts\": 0}, {\"Strategy\": \"pearl_explanation\", \"Question\": \"Question 1\", \"NO Counts\": 0}, {\"Strategy\": \"pearl_explanation\", \"Question\": \"Question 2\", \"NO Counts\": 0}, {\"Strategy\": \"pearl_explanation\", \"Question\": \"Question 4\", \"NO Counts\": 5}, {\"Strategy\": \"pearl_explanation\", \"Question\": \"Question 5\", \"NO Counts\": 2}, {\"Strategy\": \"pearl_explanation\", \"Question\": \"Question 6\", \"NO Counts\": 9}, {\"Strategy\": \"pearl_explanation\", \"Question\": \"Question 7\", \"NO Counts\": 2}, {\"Strategy\": \"pearl_explanation\", \"Question\": \"Question 8\", \"NO Counts\": 0}], \"data-f6e43ba2ba4ff77179a1b4b6f106dddc\": [{\"Strategy\": \"relevance_selection\", \"Question\": \"Question 0\", \"NO Counts\": 0}, {\"Strategy\": \"relevance_selection\", \"Question\": \"Question 1\", \"NO Counts\": 0}, {\"Strategy\": \"relevance_selection\", \"Question\": \"Question 2\", \"NO Counts\": 0}, {\"Strategy\": \"relevance_selection\", \"Question\": \"Question 4\", \"NO Counts\": 0}, {\"Strategy\": \"relevance_selection\", \"Question\": \"Question 5\", \"NO Counts\": 0}, {\"Strategy\": \"relevance_selection\", \"Question\": \"Question 6\", \"NO Counts\": 0}, {\"Strategy\": \"relevance_selection\", \"Question\": \"Question 7\", \"NO Counts\": 14}, {\"Strategy\": \"relevance_selection\", \"Question\": \"Question 8\", \"NO Counts\": 0}], \"data-828618fa969127bdefee2886445d4f7b\": [{\"Strategy\": \"statistical_relevance\", \"Question\": \"Question 0\", \"NO Counts\": 0}, {\"Strategy\": \"statistical_relevance\", \"Question\": \"Question 1\", \"NO Counts\": 0}, {\"Strategy\": \"statistical_relevance\", \"Question\": \"Question 2\", \"NO Counts\": 0}, {\"Strategy\": \"statistical_relevance\", \"Question\": \"Question 4\", \"NO Counts\": 0}, {\"Strategy\": \"statistical_relevance\", \"Question\": \"Question 5\", \"NO Counts\": 0}]}}, {\"mode\": \"vega-lite\"});\n",
       "</script>"
      ],
      "text/plain": [
       "alt.VConcatChart(...)"
      ]
     },
     "metadata": {},
     "output_type": "display_data"
    }
   ],
   "source": [
    "num_questions_per_strategy = {\n",
    "    'relevance_selection': 8,\n",
    "    'abnormal_conditions': 9,\n",
    "    'pearl_explanation': 8,\n",
    "    'necessity_robustness_selection': 7,\n",
    "    'contrastive_explanation': 9,\n",
    "    'base_contrastive_explanation': 8,\n",
    "    'statistical_relevance': 5\n",
    "}\n",
    "\n",
    "# Initialize an empty dictionary to hold the counts for each question\n",
    "question_counts = {i: [] for i in range(9)}\n",
    "\n",
    "# Populate the question_counts dictionary\n",
    "for counts in no_counts_df['no_counts']:\n",
    "    for i in range(9):\n",
    "        question_counts[i].append(counts.get(i, 0))\n",
    "\n",
    "# Create a DataFrame for the long format\n",
    "long_format_data = []\n",
    "\n",
    "for question, counts in question_counts.items():\n",
    "    for i, count in enumerate(counts):\n",
    "        long_format_data.append({\n",
    "            'Strategy': no_counts_df['strategy'][i],\n",
    "            'Question': f'Question {question}',\n",
    "            'NO Counts': count\n",
    "        })\n",
    "\n",
    "long_format_df = pd.DataFrame(long_format_data)\n",
    "\n",
    "# Remove Question 4\n",
    "long_format_df = long_format_df[long_format_df['Question'] != 'Question 3']\n",
    "\n",
    "# Create individual bar charts for each strategy with dynamic x-axis\n",
    "charts = []\n",
    "for strategy in long_format_df['Strategy'].unique():\n",
    "    if strategy == \"chain_of_thought\":\n",
    "        continue\n",
    "    num_questions = num_questions_per_strategy[strategy]\n",
    "    strategy_df = long_format_df[(long_format_df['Strategy'] == strategy) &\n",
    "                                 (long_format_df['Question'].apply(lambda x: int(x.split()[-1]) <= num_questions))]\n",
    "    \n",
    "    chart = alt.Chart(strategy_df).mark_bar().encode(\n",
    "        x=alt.X('Question', sort='-y'),\n",
    "        y=alt.Y('NO Counts', scale=alt.Scale(domain=[0, 60])),\n",
    "        color='Question',\n",
    "        tooltip=['Question', 'NO Counts']\n",
    "    ).properties(\n",
    "        title=strategy,\n",
    "        width=300,\n",
    "        height=300\n",
    "    )\n",
    "    charts.append(chart)\n",
    "\n",
    "# Arrange charts in a grid of 2 columns\n",
    "rows = []\n",
    "for i in range(0, len(charts), 3):\n",
    "    row = alt.hconcat(*charts[i:i+3])\n",
    "    rows.append(row)\n",
    "\n",
    "combined_chart = alt.vconcat(*rows)\n",
    "\n",
    "combined_chart.show()"
   ]
  },
  {
   "cell_type": "code",
   "execution_count": 59,
   "metadata": {},
   "outputs": [],
   "source": [
    "no_counts_df.dropna(subset=['strategy'], inplace=True)"
   ]
  },
  {
   "cell_type": "code",
   "execution_count": 60,
   "metadata": {},
   "outputs": [],
   "source": [
    "# Function to remove the key 3 from the dictionary\n",
    "def remove_key_3(no_counts):\n",
    "    if no_counts is None:\n",
    "        return no_counts\n",
    "    if 3 in no_counts:\n",
    "        del no_counts[3]\n",
    "    return no_counts\n",
    "\n",
    "# Apply the function to the 'no_counts' column\n",
    "no_counts_df['no_counts'] = no_counts_df['no_counts'].apply(remove_key_3)"
   ]
  },
  {
   "cell_type": "code",
   "execution_count": 61,
   "metadata": {},
   "outputs": [
    {
     "data": {
      "text/html": [
       "<div>\n",
       "<style scoped>\n",
       "    .dataframe tbody tr th:only-of-type {\n",
       "        vertical-align: middle;\n",
       "    }\n",
       "\n",
       "    .dataframe tbody tr th {\n",
       "        vertical-align: top;\n",
       "    }\n",
       "\n",
       "    .dataframe thead th {\n",
       "        text-align: right;\n",
       "    }\n",
       "</style>\n",
       "<table border=\"1\" class=\"dataframe\">\n",
       "  <thead>\n",
       "    <tr style=\"text-align: right;\">\n",
       "      <th></th>\n",
       "      <th>strategy</th>\n",
       "      <th>no_counts</th>\n",
       "    </tr>\n",
       "  </thead>\n",
       "  <tbody>\n",
       "    <tr>\n",
       "      <th>0</th>\n",
       "      <td>abnormal_conditions</td>\n",
       "      <td>{}</td>\n",
       "    </tr>\n",
       "    <tr>\n",
       "      <th>1</th>\n",
       "      <td>base_contrastive_explanation</td>\n",
       "      <td>{7: 7, 5: 1, 6: 1}</td>\n",
       "    </tr>\n",
       "    <tr>\n",
       "      <th>2</th>\n",
       "      <td>chain_of_thought</td>\n",
       "      <td>{}</td>\n",
       "    </tr>\n",
       "    <tr>\n",
       "      <th>3</th>\n",
       "      <td>contrastive_explanation</td>\n",
       "      <td>{4: 3, 7: 7, 8: 6}</td>\n",
       "    </tr>\n",
       "    <tr>\n",
       "      <th>4</th>\n",
       "      <td>necessity_robustness_selection</td>\n",
       "      <td>{}</td>\n",
       "    </tr>\n",
       "    <tr>\n",
       "      <th>5</th>\n",
       "      <td>pearl_explanation</td>\n",
       "      <td>{4: 5, 6: 9, 7: 2, 5: 2}</td>\n",
       "    </tr>\n",
       "    <tr>\n",
       "      <th>6</th>\n",
       "      <td>relevance_selection</td>\n",
       "      <td>{7: 14}</td>\n",
       "    </tr>\n",
       "    <tr>\n",
       "      <th>7</th>\n",
       "      <td>statistical_relevance</td>\n",
       "      <td>{}</td>\n",
       "    </tr>\n",
       "  </tbody>\n",
       "</table>\n",
       "</div>"
      ],
      "text/plain": [
       "                         strategy                 no_counts\n",
       "0             abnormal_conditions                        {}\n",
       "1    base_contrastive_explanation        {7: 7, 5: 1, 6: 1}\n",
       "2                chain_of_thought                        {}\n",
       "3         contrastive_explanation        {4: 3, 7: 7, 8: 6}\n",
       "4  necessity_robustness_selection                        {}\n",
       "5               pearl_explanation  {4: 5, 6: 9, 7: 2, 5: 2}\n",
       "6             relevance_selection                   {7: 14}\n",
       "7           statistical_relevance                        {}"
      ]
     },
     "execution_count": 61,
     "metadata": {},
     "output_type": "execute_result"
    }
   ],
   "source": [
    "no_counts_df"
   ]
  },
  {
   "cell_type": "code",
   "execution_count": 62,
   "metadata": {},
   "outputs": [
    {
     "name": "stdout",
     "output_type": "stream",
     "text": [
      "Counter()\n"
     ]
    },
    {
     "data": {
      "text/html": [
       "<div>\n",
       "<style scoped>\n",
       "    .dataframe tbody tr th:only-of-type {\n",
       "        vertical-align: middle;\n",
       "    }\n",
       "\n",
       "    .dataframe tbody tr th {\n",
       "        vertical-align: top;\n",
       "    }\n",
       "\n",
       "    .dataframe thead th {\n",
       "        text-align: right;\n",
       "    }\n",
       "</style>\n",
       "<table border=\"1\" class=\"dataframe\">\n",
       "  <thead>\n",
       "    <tr style=\"text-align: right;\">\n",
       "      <th></th>\n",
       "      <th>Question</th>\n",
       "      <th>NO Counts percentage</th>\n",
       "    </tr>\n",
       "  </thead>\n",
       "  <tbody>\n",
       "  </tbody>\n",
       "</table>\n",
       "</div>"
      ],
      "text/plain": [
       "Empty DataFrame\n",
       "Columns: [Question, NO Counts percentage]\n",
       "Index: []"
      ]
     },
     "execution_count": 62,
     "metadata": {},
     "output_type": "execute_result"
    }
   ],
   "source": [
    "# Function to get the question text and no_counts\n",
    "def get_question_no_counts(questions, no_counts_df, strategy):\n",
    "    # Find the corresponding questions for the strategy\n",
    "    questions = questions[strategy]\n",
    "    \n",
    "    # Find the corresponding no_counts for the strategy\n",
    "    no_counts = no_counts_df[no_counts_df['strategy'] == strategy]['no_counts'].values[0]\n",
    "\n",
    "    print(no_counts)\n",
    "    \n",
    "    # Create the result table\n",
    "    result = []\n",
    "    for i in range(len(questions)):\n",
    "        question_text = questions[i]\n",
    "        no_count = round(no_counts.get(i, 0) / 58, 2)  # Rounded to 2 decimal places\n",
    "        result.append([question_text, no_count])\n",
    "    \n",
    "    result_df = pd.DataFrame(result, columns=['Question', 'NO Counts percentage'])\n",
    "    return result_df\n",
    "\n",
    "# Example usage\n",
    "strategy = 'statistical_relevance'\n",
    "result_df = get_question_no_counts(questions, no_counts_df, strategy)\n",
    "\n",
    "result_df = result_df[result_df['NO Counts percentage'] != 0]\n",
    "result_df"
   ]
  },
  {
   "cell_type": "code",
   "execution_count": 63,
   "metadata": {},
   "outputs": [
    {
     "data": {
      "application/vnd.plotly.v1+json": {
       "config": {
        "plotlyServerURL": "https://plot.ly"
       },
       "data": [
        {
         "cells": {
          "align": "left",
          "fill": {
           "color": [
            [],
            []
           ]
          },
          "height": 30,
          "values": [
           [],
           []
          ]
         },
         "header": {
          "align": "left",
          "fill": {
           "color": "#F9DB6D"
          },
          "height": 40,
          "values": [
           "Question",
           "NO Counts percentage"
          ]
         },
         "type": "table"
        }
       ],
       "layout": {
        "template": {
         "data": {
          "bar": [
           {
            "error_x": {
             "color": "#2a3f5f"
            },
            "error_y": {
             "color": "#2a3f5f"
            },
            "marker": {
             "line": {
              "color": "#E5ECF6",
              "width": 0.5
             },
             "pattern": {
              "fillmode": "overlay",
              "size": 10,
              "solidity": 0.2
             }
            },
            "type": "bar"
           }
          ],
          "barpolar": [
           {
            "marker": {
             "line": {
              "color": "#E5ECF6",
              "width": 0.5
             },
             "pattern": {
              "fillmode": "overlay",
              "size": 10,
              "solidity": 0.2
             }
            },
            "type": "barpolar"
           }
          ],
          "carpet": [
           {
            "aaxis": {
             "endlinecolor": "#2a3f5f",
             "gridcolor": "white",
             "linecolor": "white",
             "minorgridcolor": "white",
             "startlinecolor": "#2a3f5f"
            },
            "baxis": {
             "endlinecolor": "#2a3f5f",
             "gridcolor": "white",
             "linecolor": "white",
             "minorgridcolor": "white",
             "startlinecolor": "#2a3f5f"
            },
            "type": "carpet"
           }
          ],
          "choropleth": [
           {
            "colorbar": {
             "outlinewidth": 0,
             "ticks": ""
            },
            "type": "choropleth"
           }
          ],
          "contour": [
           {
            "colorbar": {
             "outlinewidth": 0,
             "ticks": ""
            },
            "colorscale": [
             [
              0,
              "#0d0887"
             ],
             [
              0.1111111111111111,
              "#46039f"
             ],
             [
              0.2222222222222222,
              "#7201a8"
             ],
             [
              0.3333333333333333,
              "#9c179e"
             ],
             [
              0.4444444444444444,
              "#bd3786"
             ],
             [
              0.5555555555555556,
              "#d8576b"
             ],
             [
              0.6666666666666666,
              "#ed7953"
             ],
             [
              0.7777777777777778,
              "#fb9f3a"
             ],
             [
              0.8888888888888888,
              "#fdca26"
             ],
             [
              1,
              "#f0f921"
             ]
            ],
            "type": "contour"
           }
          ],
          "contourcarpet": [
           {
            "colorbar": {
             "outlinewidth": 0,
             "ticks": ""
            },
            "type": "contourcarpet"
           }
          ],
          "heatmap": [
           {
            "colorbar": {
             "outlinewidth": 0,
             "ticks": ""
            },
            "colorscale": [
             [
              0,
              "#0d0887"
             ],
             [
              0.1111111111111111,
              "#46039f"
             ],
             [
              0.2222222222222222,
              "#7201a8"
             ],
             [
              0.3333333333333333,
              "#9c179e"
             ],
             [
              0.4444444444444444,
              "#bd3786"
             ],
             [
              0.5555555555555556,
              "#d8576b"
             ],
             [
              0.6666666666666666,
              "#ed7953"
             ],
             [
              0.7777777777777778,
              "#fb9f3a"
             ],
             [
              0.8888888888888888,
              "#fdca26"
             ],
             [
              1,
              "#f0f921"
             ]
            ],
            "type": "heatmap"
           }
          ],
          "heatmapgl": [
           {
            "colorbar": {
             "outlinewidth": 0,
             "ticks": ""
            },
            "colorscale": [
             [
              0,
              "#0d0887"
             ],
             [
              0.1111111111111111,
              "#46039f"
             ],
             [
              0.2222222222222222,
              "#7201a8"
             ],
             [
              0.3333333333333333,
              "#9c179e"
             ],
             [
              0.4444444444444444,
              "#bd3786"
             ],
             [
              0.5555555555555556,
              "#d8576b"
             ],
             [
              0.6666666666666666,
              "#ed7953"
             ],
             [
              0.7777777777777778,
              "#fb9f3a"
             ],
             [
              0.8888888888888888,
              "#fdca26"
             ],
             [
              1,
              "#f0f921"
             ]
            ],
            "type": "heatmapgl"
           }
          ],
          "histogram": [
           {
            "marker": {
             "pattern": {
              "fillmode": "overlay",
              "size": 10,
              "solidity": 0.2
             }
            },
            "type": "histogram"
           }
          ],
          "histogram2d": [
           {
            "colorbar": {
             "outlinewidth": 0,
             "ticks": ""
            },
            "colorscale": [
             [
              0,
              "#0d0887"
             ],
             [
              0.1111111111111111,
              "#46039f"
             ],
             [
              0.2222222222222222,
              "#7201a8"
             ],
             [
              0.3333333333333333,
              "#9c179e"
             ],
             [
              0.4444444444444444,
              "#bd3786"
             ],
             [
              0.5555555555555556,
              "#d8576b"
             ],
             [
              0.6666666666666666,
              "#ed7953"
             ],
             [
              0.7777777777777778,
              "#fb9f3a"
             ],
             [
              0.8888888888888888,
              "#fdca26"
             ],
             [
              1,
              "#f0f921"
             ]
            ],
            "type": "histogram2d"
           }
          ],
          "histogram2dcontour": [
           {
            "colorbar": {
             "outlinewidth": 0,
             "ticks": ""
            },
            "colorscale": [
             [
              0,
              "#0d0887"
             ],
             [
              0.1111111111111111,
              "#46039f"
             ],
             [
              0.2222222222222222,
              "#7201a8"
             ],
             [
              0.3333333333333333,
              "#9c179e"
             ],
             [
              0.4444444444444444,
              "#bd3786"
             ],
             [
              0.5555555555555556,
              "#d8576b"
             ],
             [
              0.6666666666666666,
              "#ed7953"
             ],
             [
              0.7777777777777778,
              "#fb9f3a"
             ],
             [
              0.8888888888888888,
              "#fdca26"
             ],
             [
              1,
              "#f0f921"
             ]
            ],
            "type": "histogram2dcontour"
           }
          ],
          "mesh3d": [
           {
            "colorbar": {
             "outlinewidth": 0,
             "ticks": ""
            },
            "type": "mesh3d"
           }
          ],
          "parcoords": [
           {
            "line": {
             "colorbar": {
              "outlinewidth": 0,
              "ticks": ""
             }
            },
            "type": "parcoords"
           }
          ],
          "pie": [
           {
            "automargin": true,
            "type": "pie"
           }
          ],
          "scatter": [
           {
            "fillpattern": {
             "fillmode": "overlay",
             "size": 10,
             "solidity": 0.2
            },
            "type": "scatter"
           }
          ],
          "scatter3d": [
           {
            "line": {
             "colorbar": {
              "outlinewidth": 0,
              "ticks": ""
             }
            },
            "marker": {
             "colorbar": {
              "outlinewidth": 0,
              "ticks": ""
             }
            },
            "type": "scatter3d"
           }
          ],
          "scattercarpet": [
           {
            "marker": {
             "colorbar": {
              "outlinewidth": 0,
              "ticks": ""
             }
            },
            "type": "scattercarpet"
           }
          ],
          "scattergeo": [
           {
            "marker": {
             "colorbar": {
              "outlinewidth": 0,
              "ticks": ""
             }
            },
            "type": "scattergeo"
           }
          ],
          "scattergl": [
           {
            "marker": {
             "colorbar": {
              "outlinewidth": 0,
              "ticks": ""
             }
            },
            "type": "scattergl"
           }
          ],
          "scattermapbox": [
           {
            "marker": {
             "colorbar": {
              "outlinewidth": 0,
              "ticks": ""
             }
            },
            "type": "scattermapbox"
           }
          ],
          "scatterpolar": [
           {
            "marker": {
             "colorbar": {
              "outlinewidth": 0,
              "ticks": ""
             }
            },
            "type": "scatterpolar"
           }
          ],
          "scatterpolargl": [
           {
            "marker": {
             "colorbar": {
              "outlinewidth": 0,
              "ticks": ""
             }
            },
            "type": "scatterpolargl"
           }
          ],
          "scatterternary": [
           {
            "marker": {
             "colorbar": {
              "outlinewidth": 0,
              "ticks": ""
             }
            },
            "type": "scatterternary"
           }
          ],
          "surface": [
           {
            "colorbar": {
             "outlinewidth": 0,
             "ticks": ""
            },
            "colorscale": [
             [
              0,
              "#0d0887"
             ],
             [
              0.1111111111111111,
              "#46039f"
             ],
             [
              0.2222222222222222,
              "#7201a8"
             ],
             [
              0.3333333333333333,
              "#9c179e"
             ],
             [
              0.4444444444444444,
              "#bd3786"
             ],
             [
              0.5555555555555556,
              "#d8576b"
             ],
             [
              0.6666666666666666,
              "#ed7953"
             ],
             [
              0.7777777777777778,
              "#fb9f3a"
             ],
             [
              0.8888888888888888,
              "#fdca26"
             ],
             [
              1,
              "#f0f921"
             ]
            ],
            "type": "surface"
           }
          ],
          "table": [
           {
            "cells": {
             "fill": {
              "color": "#EBF0F8"
             },
             "line": {
              "color": "white"
             }
            },
            "header": {
             "fill": {
              "color": "#C8D4E3"
             },
             "line": {
              "color": "white"
             }
            },
            "type": "table"
           }
          ]
         },
         "layout": {
          "annotationdefaults": {
           "arrowcolor": "#2a3f5f",
           "arrowhead": 0,
           "arrowwidth": 1
          },
          "autotypenumbers": "strict",
          "coloraxis": {
           "colorbar": {
            "outlinewidth": 0,
            "ticks": ""
           }
          },
          "colorscale": {
           "diverging": [
            [
             0,
             "#8e0152"
            ],
            [
             0.1,
             "#c51b7d"
            ],
            [
             0.2,
             "#de77ae"
            ],
            [
             0.3,
             "#f1b6da"
            ],
            [
             0.4,
             "#fde0ef"
            ],
            [
             0.5,
             "#f7f7f7"
            ],
            [
             0.6,
             "#e6f5d0"
            ],
            [
             0.7,
             "#b8e186"
            ],
            [
             0.8,
             "#7fbc41"
            ],
            [
             0.9,
             "#4d9221"
            ],
            [
             1,
             "#276419"
            ]
           ],
           "sequential": [
            [
             0,
             "#0d0887"
            ],
            [
             0.1111111111111111,
             "#46039f"
            ],
            [
             0.2222222222222222,
             "#7201a8"
            ],
            [
             0.3333333333333333,
             "#9c179e"
            ],
            [
             0.4444444444444444,
             "#bd3786"
            ],
            [
             0.5555555555555556,
             "#d8576b"
            ],
            [
             0.6666666666666666,
             "#ed7953"
            ],
            [
             0.7777777777777778,
             "#fb9f3a"
            ],
            [
             0.8888888888888888,
             "#fdca26"
            ],
            [
             1,
             "#f0f921"
            ]
           ],
           "sequentialminus": [
            [
             0,
             "#0d0887"
            ],
            [
             0.1111111111111111,
             "#46039f"
            ],
            [
             0.2222222222222222,
             "#7201a8"
            ],
            [
             0.3333333333333333,
             "#9c179e"
            ],
            [
             0.4444444444444444,
             "#bd3786"
            ],
            [
             0.5555555555555556,
             "#d8576b"
            ],
            [
             0.6666666666666666,
             "#ed7953"
            ],
            [
             0.7777777777777778,
             "#fb9f3a"
            ],
            [
             0.8888888888888888,
             "#fdca26"
            ],
            [
             1,
             "#f0f921"
            ]
           ]
          },
          "colorway": [
           "#636efa",
           "#EF553B",
           "#00cc96",
           "#ab63fa",
           "#FFA15A",
           "#19d3f3",
           "#FF6692",
           "#B6E880",
           "#FF97FF",
           "#FECB52"
          ],
          "font": {
           "color": "#2a3f5f"
          },
          "geo": {
           "bgcolor": "white",
           "lakecolor": "white",
           "landcolor": "#E5ECF6",
           "showlakes": true,
           "showland": true,
           "subunitcolor": "white"
          },
          "hoverlabel": {
           "align": "left"
          },
          "hovermode": "closest",
          "mapbox": {
           "style": "light"
          },
          "paper_bgcolor": "white",
          "plot_bgcolor": "#E5ECF6",
          "polar": {
           "angularaxis": {
            "gridcolor": "white",
            "linecolor": "white",
            "ticks": ""
           },
           "bgcolor": "#E5ECF6",
           "radialaxis": {
            "gridcolor": "white",
            "linecolor": "white",
            "ticks": ""
           }
          },
          "scene": {
           "xaxis": {
            "backgroundcolor": "#E5ECF6",
            "gridcolor": "white",
            "gridwidth": 2,
            "linecolor": "white",
            "showbackground": true,
            "ticks": "",
            "zerolinecolor": "white"
           },
           "yaxis": {
            "backgroundcolor": "#E5ECF6",
            "gridcolor": "white",
            "gridwidth": 2,
            "linecolor": "white",
            "showbackground": true,
            "ticks": "",
            "zerolinecolor": "white"
           },
           "zaxis": {
            "backgroundcolor": "#E5ECF6",
            "gridcolor": "white",
            "gridwidth": 2,
            "linecolor": "white",
            "showbackground": true,
            "ticks": "",
            "zerolinecolor": "white"
           }
          },
          "shapedefaults": {
           "line": {
            "color": "#2a3f5f"
           }
          },
          "ternary": {
           "aaxis": {
            "gridcolor": "white",
            "linecolor": "white",
            "ticks": ""
           },
           "baxis": {
            "gridcolor": "white",
            "linecolor": "white",
            "ticks": ""
           },
           "bgcolor": "#E5ECF6",
           "caxis": {
            "gridcolor": "white",
            "linecolor": "white",
            "ticks": ""
           }
          },
          "title": {
           "x": 0.05
          },
          "xaxis": {
           "automargin": true,
           "gridcolor": "white",
           "linecolor": "white",
           "ticks": "",
           "title": {
            "standoff": 15
           },
           "zerolinecolor": "white",
           "zerolinewidth": 2
          },
          "yaxis": {
           "automargin": true,
           "gridcolor": "white",
           "linecolor": "white",
           "ticks": "",
           "title": {
            "standoff": 15
           },
           "zerolinecolor": "white",
           "zerolinewidth": 2
          }
         }
        }
       }
      }
     },
     "metadata": {},
     "output_type": "display_data"
    }
   ],
   "source": [
    "import plotly.graph_objects as go\n",
    "\n",
    "# Apply colors based on the percentage using the custom color #DB7F8E\n",
    "base_color = (219, 127, 142)\n",
    "\n",
    "def color_scale(value):\n",
    "    alpha = value  # The value is already a percentage (0 to 1)\n",
    "    return f'rgba({base_color[0]}, {base_color[1]}, {base_color[2]}, {alpha})'\n",
    "\n",
    "colors = result_df['NO Counts percentage'].apply(color_scale).tolist()\n",
    "\n",
    "# Define custom colors\n",
    "header_color = '#F9DB6D'\n",
    "cell_color = '#dfedf6'\n",
    "\n",
    "# Create the Plotly Table with custom colors and increased row height\n",
    "fig = go.Figure(data=[go.Table(\n",
    "    header=dict(values=list(result_df.columns[:2]),\n",
    "                fill_color=header_color,\n",
    "                align='left',\n",
    "                height=40),  # Increase header height\n",
    "    cells=dict(values=[result_df['Question'], result_df['NO Counts percentage']],\n",
    "               fill_color=[[cell_color]*len(result_df), colors],\n",
    "               align='left',\n",
    "               height=30))  # Increase row height\n",
    "])\n",
    "\n",
    "fig.show()"
   ]
  },
  {
   "cell_type": "code",
   "execution_count": 64,
   "metadata": {},
   "outputs": [
    {
     "data": {
      "text/plain": [
       "'Is the generated text considering the context (course structure)?'"
      ]
     },
     "execution_count": 64,
     "metadata": {},
     "output_type": "execute_result"
    }
   ],
   "source": [
    "questions[\"relevance_selection\"][3]"
   ]
  },
  {
   "cell_type": "code",
   "execution_count": 66,
   "metadata": {},
   "outputs": [
    {
     "name": "stdout",
     "output_type": "stream",
     "text": [
      "                         Strategy  Percentage of 1s\n",
      "0             relevance_selection         89.655172\n",
      "1             abnormal_conditions         99.137931\n",
      "2               pearl_explanation         81.280788\n",
      "3  necessity_robustness_selection         99.137931\n",
      "4         contrastive_explanation         90.948276\n",
      "5    base_contrastive_explanation         90.886700\n",
      "6           statistical_relevance         99.568966\n"
     ]
    }
   ],
   "source": [
    "# Calculate the percentage of 1s for each strategy, excluding Question 3\n",
    "# Calculate the percentage of 1s for each strategy, excluding Question 3\n",
    "def calculate_percentage_of_ones(df):\n",
    "    result = {}\n",
    "    strategies = df['strategy'].unique()\n",
    "    \n",
    "    for strategy in strategies:\n",
    "        strategy_df = df[df['strategy'] == strategy]\n",
    "        total_ones = strategy_df[[f'question_{i}' for i in range(9) if i != 3]].sum().sum()\n",
    "        total_values = strategy_df[[f'question_{i}' for i in range(9) if i != 3]].count().sum()\n",
    "        \n",
    "        if total_values > 0:\n",
    "            percentage = (total_ones / total_values) * 100\n",
    "        else:\n",
    "            percentage = 0\n",
    "        \n",
    "        result[strategy] = percentage\n",
    "    \n",
    "    return result\n",
    "\n",
    "\n",
    "# Calculate the percentages\n",
    "percentages = calculate_percentage_of_ones(evaluation_results)\n",
    "\n",
    "# Display the percentages\n",
    "percentages_df = pd.DataFrame(list(percentages.items()), columns=['Strategy', 'Percentage of 1s'])\n",
    "print(percentages_df)"
   ]
  },
  {
   "cell_type": "code",
   "execution_count": 67,
   "metadata": {},
   "outputs": [
    {
     "name": "stdout",
     "output_type": "stream",
     "text": [
      "  Explainer  Percentage of 1s\n",
      "0      LIME         92.872340\n",
      "1   MC-LIME         93.026005\n",
      "2       CEM         91.595745\n"
     ]
    }
   ],
   "source": [
    "# Calculate the percentage of 1s for each explainer, excluding Question 3\n",
    "def calculate_percentage_of_ones_by_explainer(df):\n",
    "    result = {}\n",
    "    explainers = df['explainer'].unique()\n",
    "    \n",
    "    for explainer in explainers:\n",
    "        explainer_df = df[df['explainer'] == explainer]\n",
    "        total_ones = explainer_df[[f'question_{i}' for i in range(9) if i != 3]].sum().sum()\n",
    "        total_values = explainer_df[[f'question_{i}' for i in range(9) if i != 3]].count().sum()\n",
    "        \n",
    "        if total_values > 0:\n",
    "            percentage = (total_ones / total_values) * 100\n",
    "        else:\n",
    "            percentage = 0\n",
    "        \n",
    "        result[explainer] = percentage\n",
    "    \n",
    "    return result\n",
    "\n",
    "# Calculate the percentages\n",
    "percentages_by_explainer = calculate_percentage_of_ones_by_explainer(evaluation_results)\n",
    "\n",
    "# Display the percentages\n",
    "percentages_df_by_explainer = pd.DataFrame(list(percentages_by_explainer.items()), columns=['Explainer', 'Percentage of 1s'])\n",
    "print(percentages_df_by_explainer)"
   ]
  }
 ],
 "metadata": {
  "kernelspec": {
   "display_name": "xai",
   "language": "python",
   "name": "python3"
  },
  "language_info": {
   "codemirror_mode": {
    "name": "ipython",
    "version": 3
   },
   "file_extension": ".py",
   "mimetype": "text/x-python",
   "name": "python",
   "nbconvert_exporter": "python",
   "pygments_lexer": "ipython3",
   "version": "3.11.5"
  }
 },
 "nbformat": 4,
 "nbformat_minor": 2
}
