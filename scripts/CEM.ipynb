{
 "cells": [
  {
   "cell_type": "code",
   "execution_count": 1,
   "id": "a7790d6c",
   "metadata": {},
   "outputs": [],
   "source": [
    "!pip install alibi --quiet"
   ]
  },
  {
   "cell_type": "code",
   "execution_count": 1,
   "id": "1ca31385",
   "metadata": {},
   "outputs": [],
   "source": [
    "##importing the libraries needed\n",
    "import numpy as np\n",
    "import pandas as pd\n",
    "import tensorflow as tf\n",
    "tf.get_logger().setLevel(40) # suppress deprecation messages\n",
    "tf.compat.v1.disable_v2_behavior() # disable TF2 behaviour as alibi code still relies on TF1 constructs  \n",
    "from math import floor, ceil\n",
    "import sklearn as sk\n",
    "from tensorflow.keras.models import Sequential\n",
    "from tensorflow.keras.layers import Activation, Dense, Bidirectional, LSTM,Masking,Embedding\n",
    "from tensorflow.keras.models import Model, load_model\n",
    "from sklearn.metrics import balanced_accuracy_score, precision_score, recall_score, roc_auc_score, f1_score, accuracy_score, make_scorer\n",
    "from sklearn.model_selection import cross_validate,train_test_split,GridSearchCV\n",
    "from sklearn.preprocessing import normalize\n",
    "from tensorflow.keras.models import load_model \n",
    "#from tensorflow.keras.wrappers.scikit_learn import KerasClassifier\n",
    "from scikeras.wrappers import KerasClassifier\n",
    "\n",
    "import matplotlib.pyplot as pyplot\n",
    "import seaborn as sns\n",
    "import time\n",
    "import json\n",
    "import ast\n",
    "import os\n",
    "\n"
   ]
  },
  {
   "cell_type": "code",
   "execution_count": 2,
   "id": "638b14f7",
   "metadata": {},
   "outputs": [],
   "source": [
    "# EDIT HERE FOR OTHER COURSES\n",
    "data_path = '../easy-fail/'\n",
    "week_type = 'eq_week'\n",
    "feature_types = [ 'boroujeni_et_al', \n",
    "                 'chen_cui',  'lalle_conati', \n",
    "                 'marras_et_al']\n",
    "course = 'geomatique_003'\n",
    "marras_et_al_id = feature_types.index('marras_et_al')\n",
    "#akpinar_et_al_id = feature_types.index('akpinar_et_al')\n",
    "remove_obvious = False"
   ]
  },
  {
   "cell_type": "markdown",
   "id": "920c3752",
   "metadata": {},
   "source": [
    "## Loading Data"
   ]
  },
  {
   "cell_type": "code",
   "execution_count": 21,
   "id": "9ca74f4d",
   "metadata": {},
   "outputs": [],
   "source": [
    "def fillNaN(feature):\n",
    "    shape = feature.shape\n",
    "    feature_min = np.nanmin(feature.reshape(-1,shape[2]),axis=0)\n",
    "    feature = feature.reshape(-1,shape[2])\n",
    "    inds = np.where(np.isnan(feature))\n",
    "    feature[inds] = np.take(feature_min.reshape(-1), inds[1])\n",
    "    feature = feature.reshape(shape)\n",
    "    return feature"
   ]
  },
  {
   "cell_type": "code",
   "execution_count": 22,
   "id": "edd5a94a",
   "metadata": {},
   "outputs": [
    {
     "name": "stdout",
     "output_type": "stream",
     "text": [
      "(452, 15, 3)\n",
      "(6780, 3)\n",
      "(452, 15, 13)\n",
      "(6780, 13)\n",
      "(452, 15, 22)\n",
      "(6780, 22)\n",
      "(452, 15, 7)\n",
      "(6780, 7)\n",
      "course:  geomatique_003\n",
      "week_type:  eq_week\n",
      "feature_type:  ['boroujeni_et_al', 'chen_cui', 'lalle_conati', 'marras_et_al']\n"
     ]
    }
   ],
   "source": [
    "# Loading the features\n",
    "feature_list = {}\n",
    "\n",
    "feature_type_list = []\n",
    "for feature_type in feature_types:\n",
    "\n",
    "    filepath = data_path + week_type + '-' + feature_type + '-' + course\n",
    "    feature_current = np.load(filepath+'/feature_values.npz')['feature_values']\n",
    "    print(feature_current.shape)\n",
    "    feature_norm = feature_current.reshape(-1,feature_current.shape[2] )\n",
    "    print(feature_norm.shape)\n",
    "    feature_type_list.append(pd.DataFrame(feature_norm))\n",
    "feature_list[course] = feature_type_list\n",
    "\n",
    "print('course: ', course)\n",
    "print('week_type: ', week_type)\n",
    "print('feature_type: ', feature_types)"
   ]
  },
  {
   "cell_type": "code",
   "execution_count": 23,
   "id": "d80b0c1f",
   "metadata": {},
   "outputs": [
    {
     "name": "stdout",
     "output_type": "stream",
     "text": [
      "boroujeni_et_al 3\n",
      "chen_cui 13\n",
      "lalle_conati 22\n",
      "marras_et_al 7\n"
     ]
    }
   ],
   "source": [
    "# Loading feature names\n",
    "feature_names= dict()\n",
    "\n",
    "for feature_type in feature_types:\n",
    "    \n",
    "    filepath = data_path + week_type + '-' + feature_type + '-' + course + '/settings.txt'\n",
    "    file = open(filepath, \"r\")\n",
    "    contents = file.read()\n",
    "    dictionary = ast.literal_eval(contents)\n",
    "    file.close()\n",
    "    \n",
    "    feature_type_name = dictionary['feature_names']\n",
    "    \n",
    "    if feature_type == 'akpinar_et_al':\n",
    "        feature_type_name = [clean_akp_name(x) for x in feature_type_name]\n",
    "        akp_mask = np.where(np.isin(feature_type_name, \n",
    "                 [\"TotalClicks\", \"NumberSessions\", \"Time-video-sum\", \"Time-problem-sum\",\n",
    "                  'problem.check-problem.check-problem.check', \n",
    "                  'problem.check-problem.check-video.load', \n",
    "                  'video.play-video.play-video.play',\n",
    "                  'video.play-video.pause-video.load',\n",
    "                  'video.play-problem.check-problem.check',\n",
    "                  'video.play-video.stop-video.play',\n",
    "                  'video.pause-video.speedchange-video.play',\n",
    "                  'video.stop-video.play-video.seek',\n",
    "                  'video.stop-problem.check-video.load']))\n",
    "        print(akp_mask)\n",
    "        feature_type_name = list(np.array(feature_type_name)[akp_mask[0]])\n",
    "        feature_list[course][akpinar_et_al_id] = feature_list[course][akpinar_et_al_id][akp_mask[0]]\n",
    "        \n",
    "    feature_names[feature_type] = feature_type_name\n",
    "    print(feature_type, len(feature_type_name))\n",
    "\n",
    "if remove_obvious: \n",
    "    # drop 'student shape', 'competency strength', 'competency alignment' in marras at al\n",
    "    \n",
    "    mask = np.where(np.isin(feature_names['marras_et_al'], \n",
    "                 ['StudentShape', 'CompetencyStrength', 'CompetencyAlignment']))\n",
    "    \n",
    "    new_marras = np.delete(np.array(feature_names['marras_et_al']), mask[0])\n",
    "    feature_names['marras_et_al'] = new_marras\n",
    "    \n",
    "    new_features = feature_list[course][marras_et_al_id].drop(mask[0], axis=1)\n",
    "    feature_list[course][marras_et_al_id] = new_features\n"
   ]
  },
  {
   "cell_type": "code",
   "execution_count": 24,
   "id": "c6243d77",
   "metadata": {},
   "outputs": [],
   "source": [
    "# reformat feature names\n",
    "# ex: time_sessions_<function sum at 0x7f3bd02cc9d0> -> time_sessions_sum\n",
    "def clean_name(feature):\n",
    "    id = feature.find('<')\n",
    "    if id==-1:\n",
    "        return feature\n",
    "    fct = feature[id+9:id+14].strip()\n",
    "    return feature[0:id]+fct\n",
    "\n",
    "\n",
    "for k in feature_names.keys():\n",
    "    cleaned = [clean_name(x) for x in feature_names[k]]\n",
    "    feature_names[k] = cleaned\n",
    "\n",
    "def clean_akp_name(feature):\n",
    "    feature = feature.lower()\n",
    "    if feature.find(\"(\")!=-1:\n",
    "        feature = feature[1:-1]\n",
    "        feature = feature.replace(', ', '-')\n",
    "    return feature"
   ]
  },
  {
   "cell_type": "code",
   "execution_count": 25,
   "id": "ff0a597f",
   "metadata": {},
   "outputs": [],
   "source": [
    "# TO CHANGE HERE THE WEEKS NUMBER\n",
    "overwrite_num_weeks = 5"
   ]
  },
  {
   "cell_type": "code",
   "execution_count": 26,
   "id": "ec0290e5",
   "metadata": {},
   "outputs": [],
   "source": [
    "def load_labels(course):\n",
    "    feature_type = \"boroujeni_et_al\"\n",
    "    filepath = data_path + week_type + '-' + feature_type + '-' + course + '/feature_labels.csv'\n",
    "    labels = pd.read_csv(filepath)['label-pass-fail']\n",
    "    labels[labels.shape[0]] = 1\n",
    "    return labels.values\n",
    "\n",
    "def load_features(course, overwrite_num_weeks):\n",
    "    feature_list = []\n",
    "    selected_features = []\n",
    "    total_features = set()\n",
    "    num_weeks = 0\n",
    "    num_features = 0\n",
    "    for i,feature_type in enumerate(feature_types):\n",
    "        filepath = data_path + week_type + '-' + feature_type + '-' + course \n",
    "        feature_current = np.load(filepath+'/feature_values.npz')['feature_values']\n",
    "        \n",
    "        shape = feature_current.shape\n",
    "#         print(shape)\n",
    "\n",
    "        if remove_obvious and feature_type=='marras_et_al':\n",
    "            feature_current = np.delete(feature_current, mask[0], axis=2)\n",
    "        \n",
    "        if feature_type=='akpinar_et_al':\n",
    "            akp_mask_dl = np.delete(list(range(shape[2])), akp_mask[0])\n",
    "            feature_current = np.delete(feature_current, akp_mask_dl, axis=2)\n",
    "        \n",
    "        shape = feature_current.shape\n",
    "        print(shape)\n",
    "        if i==0:\n",
    "            num_weeks = shape[1]\n",
    "            num_weeks=overwrite_num_weeks\n",
    "            \n",
    "        selected = np.arange(shape[2])\n",
    "        # drop existed features\n",
    "        exist_mask = []\n",
    "        for i, name in enumerate(feature_names[feature_type]):\n",
    "            if name in total_features:\n",
    "                exist_mask.append(i)\n",
    "            else:\n",
    "                total_features.add(name)\n",
    "        feature_current = np.delete(feature_current, exist_mask, axis=2)\n",
    "        selected = np.delete(selected, exist_mask)\n",
    "        \n",
    "        nonNaN = (shape[0]*shape[1] - np.isnan(feature_current.reshape(-1,feature_current.shape[2])).sum(axis=0) > 0)\n",
    "        feature_current = feature_current[:,:,nonNaN]\n",
    "        selected = selected[nonNaN]\n",
    "        feature_current = fillNaN(feature_current)\n",
    "        nonZero = (abs(feature_current.reshape(-1,feature_current.shape[2])).sum(axis=0)>0)\n",
    "        selected = selected[nonZero]\n",
    "        feature_current = feature_current[:,:overwrite_num_weeks,nonZero]\n",
    "#         print(len(feature_names[feature_type]), selected)\n",
    "        selected_features.append(np.array(feature_names[feature_type])[[selected]])\n",
    "        num_features += len(np.array(feature_names[feature_type])[[selected]])\n",
    "\n",
    "\n",
    "        ##### Normalization with min-max. Added the artifical 1.001 max row for solving the same min max problem\n",
    "        ##### for features with max=0 I added 1 instead of 1.001 of maximum\n",
    "\n",
    "        features_min = feature_current.min(axis=0).reshape(-1)\n",
    "        features_max = feature_current.max(axis=0)\n",
    "        features_max = np.where(features_max==0,np.ones(features_max.shape),features_max)\n",
    "        max_instance = 1.001*features_max\n",
    "        feature_current = np.vstack([feature_current,max_instance.reshape((1,)+max_instance.shape)])\n",
    "        features_max = features_max.reshape(-1)\n",
    "        feature_norm = (feature_current.reshape(shape[0]+1,-1)-features_min)/(1.001*features_max-features_min)\n",
    "        feature_current = feature_norm.reshape(-1,feature_current.shape[1],feature_current.shape[2] )\n",
    "\n",
    "        num_features += feature_current.shape[2]\n",
    "        print(num_features)\n",
    "        feature_list.append(feature_current)\n",
    "        \n",
    "    features = np.concatenate(feature_list, axis=2)\n",
    "    features_min = features.min(axis=0).reshape(-1)\n",
    "    features_max = features.max(axis=0)\n",
    "    features = features.reshape(features.shape[0],-1)\n",
    "#     features = pd.DataFrame(features)\n",
    "    \n",
    "    SHAPE = features.shape\n",
    "    # print(np.isnan(features[0,0,-1]))\n",
    "    print(features.shape)\n",
    "    print('course: ', course)\n",
    "    print('week_type: ', week_type)\n",
    "    print('feature_type: ', feature_types)\n",
    "    print(selected_features)\n",
    "    return features, features_min, features_max, selected_features, num_weeks, num_features\n"
   ]
  },
  {
   "cell_type": "code",
   "execution_count": 27,
   "id": "1ee36a4c",
   "metadata": {},
   "outputs": [],
   "source": [
    "y = load_labels(course)"
   ]
  },
  {
   "cell_type": "code",
   "execution_count": 28,
   "id": "fd2a7178",
   "metadata": {},
   "outputs": [
    {
     "name": "stdout",
     "output_type": "stream",
     "text": [
      "(452, 15, 3)\n",
      "4\n",
      "(452, 15, 13)\n",
      "18\n",
      "(452, 15, 22)\n",
      "32\n",
      "(452, 15, 7)\n",
      "40\n",
      "(453, 180)\n",
      "course:  geomatique_003\n",
      "week_type:  eq_week\n",
      "feature_type:  ['boroujeni_et_al', 'chen_cui', 'lalle_conati', 'marras_et_al']\n",
      "[array([['regularity_peak_dayhour', 'regularity_periodicity_m1',\n",
      "        'delay_lecture']], dtype='<U25'), array([['total_clicks', 'number_sessions', 'time_sessions_sum',\n",
      "        'time_sessions_mean', 'time_between_sessions_std',\n",
      "        'time_sessions_std', 'total_clicks_weekday',\n",
      "        'total_clicks_weekend', 'ratio_clicks_weekend_day',\n",
      "        'total_clicks_video', 'total_clicks_problem',\n",
      "        'time_in__problem_sum', 'time_in__video_sum']], dtype='<U25'), array([['total_clicks_Video.Load', 'weekly_prop_watched_mean',\n",
      "        'weekly_prop_replayed_mean', 'weekly_prop_interrupted_mean',\n",
      "        'total_clicks_Video', 'frequency_action_Video',\n",
      "        'frequency_action_Video.Load', 'frequency_action_Video.Play',\n",
      "        'frequency_action_Video.Pause', 'pause_duration_mean',\n",
      "        'pause_duration_std', 'time_speeding_up_mean',\n",
      "        'time_speeding_up_std']], dtype='<U35'), array([['competency_strength', 'competency_alignment',\n",
      "        'competency_anticipation', 'content_alignment',\n",
      "        'content_anticipation', 'student_speed', 'student_shape']],\n",
      "      dtype='<U23')]\n"
     ]
    }
   ],
   "source": [
    "features, features_min, features_max, selected_features, num_weeks, num_features = load_features(course, overwrite_num_weeks)"
   ]
  },
  {
   "cell_type": "code",
   "execution_count": 29,
   "id": "3b74a116",
   "metadata": {},
   "outputs": [],
   "source": [
    "feature_dict = dict()\n",
    "for i, feature_type in enumerate(feature_types):\n",
    "    feature_dict[feature_type] = list(selected_features[i])\n",
    "    \n",
    "selected_features = feature_dict"
   ]
  },
  {
   "cell_type": "code",
   "execution_count": 30,
   "id": "e638eb79",
   "metadata": {},
   "outputs": [],
   "source": [
    "# Loading feature names and transforming them to 2D format.\n",
    "feature_names = []\n",
    "final_features = []\n",
    "for i,feature_type in enumerate(feature_types):\n",
    "    [final_features.append(x) for x in selected_features[feature_type]]"
   ]
  },
  {
   "cell_type": "code",
   "execution_count": 31,
   "id": "8db45f82",
   "metadata": {},
   "outputs": [
    {
     "data": {
      "text/plain": [
       "13"
      ]
     },
     "execution_count": 31,
     "metadata": {},
     "output_type": "execute_result"
    }
   ],
   "source": [
    "len(final_features[2])"
   ]
  },
  {
   "cell_type": "code",
   "execution_count": 32,
   "id": "249aecae",
   "metadata": {},
   "outputs": [
    {
     "name": "stdout",
     "output_type": "stream",
     "text": [
      "[array(['regularity_peak_dayhour', 'regularity_periodicity_m1',\n",
      "       'delay_lecture'], dtype='<U25'), array(['total_clicks', 'number_sessions', 'time_sessions_sum',\n",
      "       'time_sessions_mean', 'time_between_sessions_std',\n",
      "       'time_sessions_std', 'total_clicks_weekday',\n",
      "       'total_clicks_weekend', 'ratio_clicks_weekend_day',\n",
      "       'total_clicks_video', 'total_clicks_problem',\n",
      "       'time_in__problem_sum', 'time_in__video_sum'], dtype='<U25'), array(['total_clicks_Video.Load', 'weekly_prop_watched_mean',\n",
      "       'weekly_prop_replayed_mean', 'weekly_prop_interrupted_mean',\n",
      "       'total_clicks_Video', 'frequency_action_Video',\n",
      "       'frequency_action_Video.Load', 'frequency_action_Video.Play',\n",
      "       'frequency_action_Video.Pause', 'pause_duration_mean',\n",
      "       'pause_duration_std', 'time_speeding_up_mean',\n",
      "       'time_speeding_up_std'], dtype='<U35'), array(['competency_strength', 'competency_alignment',\n",
      "       'competency_anticipation', 'content_alignment',\n",
      "       'content_anticipation', 'student_speed', 'student_shape'],\n",
      "      dtype='<U23')]\n",
      "<class 'list'>\n",
      "<class 'int'>\n"
     ]
    }
   ],
   "source": [
    "flat_final_features = [item for sublist in final_features for item in sublist]\n",
    "print(final_features)\n",
    "print(type(final_features))\n",
    "print(type(num_weeks))"
   ]
  },
  {
   "cell_type": "code",
   "execution_count": 33,
   "id": "5eb44c13",
   "metadata": {},
   "outputs": [
    {
     "name": "stdout",
     "output_type": "stream",
     "text": [
      "['regularity_peak_dayhour_InWeek1' 'regularity_periodicity_m1_InWeek1'\n",
      " 'delay_lecture_InWeek1' 'total_clicks_InWeek1' 'number_sessions_InWeek1'\n",
      " 'time_sessions_sum_InWeek1' 'time_sessions_mean_InWeek1'\n",
      " 'time_between_sessions_std_InWeek1' 'time_sessions_std_InWeek1'\n",
      " 'total_clicks_weekday_InWeek1' 'total_clicks_weekend_InWeek1'\n",
      " 'ratio_clicks_weekend_day_InWeek1' 'total_clicks_video_InWeek1'\n",
      " 'total_clicks_problem_InWeek1' 'time_in__problem_sum_InWeek1'\n",
      " 'time_in__video_sum_InWeek1' 'total_clicks_Video.Load_InWeek1'\n",
      " 'weekly_prop_watched_mean_InWeek1' 'weekly_prop_replayed_mean_InWeek1'\n",
      " 'weekly_prop_interrupted_mean_InWeek1' 'total_clicks_Video_InWeek1'\n",
      " 'frequency_action_Video_InWeek1' 'frequency_action_Video.Load_InWeek1'\n",
      " 'frequency_action_Video.Play_InWeek1'\n",
      " 'frequency_action_Video.Pause_InWeek1' 'pause_duration_mean_InWeek1'\n",
      " 'pause_duration_std_InWeek1' 'time_speeding_up_mean_InWeek1'\n",
      " 'time_speeding_up_std_InWeek1' 'competency_strength_InWeek1'\n",
      " 'competency_alignment_InWeek1' 'competency_anticipation_InWeek1'\n",
      " 'content_alignment_InWeek1' 'content_anticipation_InWeek1'\n",
      " 'student_speed_InWeek1' 'student_shape_InWeek1'\n",
      " 'regularity_peak_dayhour_InWeek2' 'regularity_periodicity_m1_InWeek2'\n",
      " 'delay_lecture_InWeek2' 'total_clicks_InWeek2' 'number_sessions_InWeek2'\n",
      " 'time_sessions_sum_InWeek2' 'time_sessions_mean_InWeek2'\n",
      " 'time_between_sessions_std_InWeek2' 'time_sessions_std_InWeek2'\n",
      " 'total_clicks_weekday_InWeek2' 'total_clicks_weekend_InWeek2'\n",
      " 'ratio_clicks_weekend_day_InWeek2' 'total_clicks_video_InWeek2'\n",
      " 'total_clicks_problem_InWeek2' 'time_in__problem_sum_InWeek2'\n",
      " 'time_in__video_sum_InWeek2' 'total_clicks_Video.Load_InWeek2'\n",
      " 'weekly_prop_watched_mean_InWeek2' 'weekly_prop_replayed_mean_InWeek2'\n",
      " 'weekly_prop_interrupted_mean_InWeek2' 'total_clicks_Video_InWeek2'\n",
      " 'frequency_action_Video_InWeek2' 'frequency_action_Video.Load_InWeek2'\n",
      " 'frequency_action_Video.Play_InWeek2'\n",
      " 'frequency_action_Video.Pause_InWeek2' 'pause_duration_mean_InWeek2'\n",
      " 'pause_duration_std_InWeek2' 'time_speeding_up_mean_InWeek2'\n",
      " 'time_speeding_up_std_InWeek2' 'competency_strength_InWeek2'\n",
      " 'competency_alignment_InWeek2' 'competency_anticipation_InWeek2'\n",
      " 'content_alignment_InWeek2' 'content_anticipation_InWeek2'\n",
      " 'student_speed_InWeek2' 'student_shape_InWeek2'\n",
      " 'regularity_peak_dayhour_InWeek3' 'regularity_periodicity_m1_InWeek3'\n",
      " 'delay_lecture_InWeek3' 'total_clicks_InWeek3' 'number_sessions_InWeek3'\n",
      " 'time_sessions_sum_InWeek3' 'time_sessions_mean_InWeek3'\n",
      " 'time_between_sessions_std_InWeek3' 'time_sessions_std_InWeek3'\n",
      " 'total_clicks_weekday_InWeek3' 'total_clicks_weekend_InWeek3'\n",
      " 'ratio_clicks_weekend_day_InWeek3' 'total_clicks_video_InWeek3'\n",
      " 'total_clicks_problem_InWeek3' 'time_in__problem_sum_InWeek3'\n",
      " 'time_in__video_sum_InWeek3' 'total_clicks_Video.Load_InWeek3'\n",
      " 'weekly_prop_watched_mean_InWeek3' 'weekly_prop_replayed_mean_InWeek3'\n",
      " 'weekly_prop_interrupted_mean_InWeek3' 'total_clicks_Video_InWeek3'\n",
      " 'frequency_action_Video_InWeek3' 'frequency_action_Video.Load_InWeek3'\n",
      " 'frequency_action_Video.Play_InWeek3'\n",
      " 'frequency_action_Video.Pause_InWeek3' 'pause_duration_mean_InWeek3'\n",
      " 'pause_duration_std_InWeek3' 'time_speeding_up_mean_InWeek3'\n",
      " 'time_speeding_up_std_InWeek3' 'competency_strength_InWeek3'\n",
      " 'competency_alignment_InWeek3' 'competency_anticipation_InWeek3'\n",
      " 'content_alignment_InWeek3' 'content_anticipation_InWeek3'\n",
      " 'student_speed_InWeek3' 'student_shape_InWeek3'\n",
      " 'regularity_peak_dayhour_InWeek4' 'regularity_periodicity_m1_InWeek4'\n",
      " 'delay_lecture_InWeek4' 'total_clicks_InWeek4' 'number_sessions_InWeek4'\n",
      " 'time_sessions_sum_InWeek4' 'time_sessions_mean_InWeek4'\n",
      " 'time_between_sessions_std_InWeek4' 'time_sessions_std_InWeek4'\n",
      " 'total_clicks_weekday_InWeek4' 'total_clicks_weekend_InWeek4'\n",
      " 'ratio_clicks_weekend_day_InWeek4' 'total_clicks_video_InWeek4'\n",
      " 'total_clicks_problem_InWeek4' 'time_in__problem_sum_InWeek4'\n",
      " 'time_in__video_sum_InWeek4' 'total_clicks_Video.Load_InWeek4'\n",
      " 'weekly_prop_watched_mean_InWeek4' 'weekly_prop_replayed_mean_InWeek4'\n",
      " 'weekly_prop_interrupted_mean_InWeek4' 'total_clicks_Video_InWeek4'\n",
      " 'frequency_action_Video_InWeek4' 'frequency_action_Video.Load_InWeek4'\n",
      " 'frequency_action_Video.Play_InWeek4'\n",
      " 'frequency_action_Video.Pause_InWeek4' 'pause_duration_mean_InWeek4'\n",
      " 'pause_duration_std_InWeek4' 'time_speeding_up_mean_InWeek4'\n",
      " 'time_speeding_up_std_InWeek4' 'competency_strength_InWeek4'\n",
      " 'competency_alignment_InWeek4' 'competency_anticipation_InWeek4'\n",
      " 'content_alignment_InWeek4' 'content_anticipation_InWeek4'\n",
      " 'student_speed_InWeek4' 'student_shape_InWeek4'\n",
      " 'regularity_peak_dayhour_InWeek5' 'regularity_periodicity_m1_InWeek5'\n",
      " 'delay_lecture_InWeek5' 'total_clicks_InWeek5' 'number_sessions_InWeek5'\n",
      " 'time_sessions_sum_InWeek5' 'time_sessions_mean_InWeek5'\n",
      " 'time_between_sessions_std_InWeek5' 'time_sessions_std_InWeek5'\n",
      " 'total_clicks_weekday_InWeek5' 'total_clicks_weekend_InWeek5'\n",
      " 'ratio_clicks_weekend_day_InWeek5' 'total_clicks_video_InWeek5'\n",
      " 'total_clicks_problem_InWeek5' 'time_in__problem_sum_InWeek5'\n",
      " 'time_in__video_sum_InWeek5' 'total_clicks_Video.Load_InWeek5'\n",
      " 'weekly_prop_watched_mean_InWeek5' 'weekly_prop_replayed_mean_InWeek5'\n",
      " 'weekly_prop_interrupted_mean_InWeek5' 'total_clicks_Video_InWeek5'\n",
      " 'frequency_action_Video_InWeek5' 'frequency_action_Video.Load_InWeek5'\n",
      " 'frequency_action_Video.Play_InWeek5'\n",
      " 'frequency_action_Video.Pause_InWeek5' 'pause_duration_mean_InWeek5'\n",
      " 'pause_duration_std_InWeek5' 'time_speeding_up_mean_InWeek5'\n",
      " 'time_speeding_up_std_InWeek5' 'competency_strength_InWeek5'\n",
      " 'competency_alignment_InWeek5' 'competency_anticipation_InWeek5'\n",
      " 'content_alignment_InWeek5' 'content_anticipation_InWeek5'\n",
      " 'student_speed_InWeek5' 'student_shape_InWeek5']\n"
     ]
    }
   ],
   "source": [
    "for i in np.arange(num_weeks):\n",
    "    feature_type_name_with_weeks = [(x+'_InWeek'+str(i+1)) for x in flat_final_features]\n",
    "    feature_names.append(feature_type_name_with_weeks)\n",
    "feature_names = np.concatenate(feature_names, axis=0)\n",
    "feature_names = feature_names.reshape(-1)\n",
    "print(feature_names)\n",
    "#features.columns = feature_names"
   ]
  },
  {
   "cell_type": "code",
   "execution_count": 34,
   "id": "26533fe2",
   "metadata": {},
   "outputs": [
    {
     "data": {
      "text/plain": [
       "(453, 2)"
      ]
     },
     "execution_count": 34,
     "metadata": {},
     "output_type": "execute_result"
    }
   ],
   "source": [
    "labels=np.concatenate(((1-y).reshape(-1,1),y.reshape(-1,1)),axis=1)\n",
    "labels.shape"
   ]
  },
  {
   "cell_type": "code",
   "execution_count": 35,
   "id": "8c6b8d9d",
   "metadata": {},
   "outputs": [
    {
     "data": {
      "text/plain": [
       "(453, 180)"
      ]
     },
     "execution_count": 35,
     "metadata": {},
     "output_type": "execute_result"
    }
   ],
   "source": [
    "features.shape"
   ]
  },
  {
   "cell_type": "code",
   "execution_count": 36,
   "id": "986b4617",
   "metadata": {},
   "outputs": [],
   "source": [
    "f = pd.DataFrame(features, columns=feature_names)"
   ]
  },
  {
   "cell_type": "code",
   "execution_count": 37,
   "id": "4445ecfa",
   "metadata": {},
   "outputs": [],
   "source": [
    "s_f = list(selected_features.values())\n",
    "num_features = len([feature for feature_group in final_features for feature in feature_group])"
   ]
  },
  {
   "cell_type": "code",
   "execution_count": 38,
   "id": "ee2088a8",
   "metadata": {},
   "outputs": [
    {
     "data": {
      "text/plain": [
       "36"
      ]
     },
     "execution_count": 38,
     "metadata": {},
     "output_type": "execute_result"
    }
   ],
   "source": [
    "num_features"
   ]
  },
  {
   "cell_type": "markdown",
   "id": "26f6b9c6",
   "metadata": {},
   "source": [
    "## Model\n",
    "A new model has to be trained for CEM, since it needs a target variable of a different shape (n_instances, 2)"
   ]
  },
  {
   "cell_type": "code",
   "execution_count": 39,
   "id": "bff5cb0a",
   "metadata": {},
   "outputs": [],
   "source": [
    "def bidirectional_lstm(x_train, y_train, x_test, y_test, x_val, y_val, week_type, feature_types, course,n_weeks,n_features, num_epochs=100):\n",
    "    n_dims = x_train.shape[0]\n",
    "    look_back = 3\n",
    "    # LSTM\n",
    "    # define model\n",
    "    lstm = Sequential()\n",
    "    ###########Reshape layer################\n",
    "    lstm.add(tf.keras.layers.Reshape((n_weeks, n_features), input_shape=(n_weeks*n_features,)))\n",
    "    ##########deleting the 1.001 max row added###########\n",
    "    lstm.add(Masking(mask_value = 1))\n",
    "    lstm.add(Bidirectional(LSTM(64, return_sequences=True)))\n",
    "    lstm.add(Bidirectional(LSTM(32)))\n",
    "    # Add a sigmoid Dense layer with 1 units.\n",
    "    lstm.add(Dense(2, activation='sigmoid'))\n",
    "    # compile the model\n",
    "    lstm.compile(optimizer='adam', loss='categorical_crossentropy', metrics=['accuracy'])\n",
    "    # fit the model\n",
    "    history = lstm.fit(x_train, y_train, validation_data=(x_val, y_val), epochs=num_epochs, batch_size=32, verbose=1)\n",
    "    # evaluate the model\n",
    "    y_pred = lstm.predict(x_test)\n",
    "    print(y_pred.shape)\n",
    "    y_pred = np.array([1 if y >= 0.5 else 0 for y in y_pred[:,1]])\n",
    "    print(y_pred.shape)\n",
    "    y_pred = np.concatenate(((1-y_pred).reshape(-1,1),y_pred.reshape(-1,1)),axis=1)\n",
    "    print(y_pred.shape)\n",
    "    # evaluate the model\n",
    "    model_params = {'model': 'LSTM-bi', \n",
    "                    'epochs': num_epochs, \n",
    "                    'batch_size': 32, \n",
    "                    'loss': 'binary_cross_entropy'}\n",
    "    scores = evaluate(None, x_test, y_test, week_type, feature_types, course, y_pred=y_pred, model_name=\"TF-LSTM-bi\", model_params=model_params)\n",
    "    lstm.save('../models/lstm_bi_'+course+'_cem')\n",
    "    return history, scores"
   ]
  },
  {
   "cell_type": "code",
   "execution_count": 40,
   "id": "3fb34c8e",
   "metadata": {},
   "outputs": [],
   "source": [
    "def plot_history(history, file_name):\n",
    "    # plot loss during training\n",
    "    pyplot.figure(0)\n",
    "    pyplot.title('Loss ' + file_name)\n",
    "    pyplot.plot(history.history['loss'], label='train')\n",
    "    pyplot.plot(history.history['val_loss'], label='test')\n",
    "    pyplot.xlabel(\"epoch\")\n",
    "    pyplot.ylabel(\"loss\")\n",
    "    pyplot.legend()\n",
    "    pyplot.savefig(file_name + \"_loss.png\")\n",
    "    # plot accuracy during training\n",
    "    pyplot.figure(1)\n",
    "    pyplot.title('Accuracy ' + file_name)\n",
    "    pyplot.plot(history.history['acc'], label='train')\n",
    "    pyplot.plot(history.history['val_acc'], label='test')\n",
    "    pyplot.legend()\n",
    "    pyplot.xlabel(\"epoch\")\n",
    "    pyplot.ylabel(\"accuracy\")\n",
    "    pyplot.savefig(file_name + \"_acc.png\")\n"
   ]
  },
  {
   "cell_type": "code",
   "execution_count": 41,
   "id": "0327eece",
   "metadata": {},
   "outputs": [],
   "source": [
    "def evaluate(model, x_test, y_test, week_type, feature_type, course, model_name=None, model_params=None, y_pred=None):\n",
    "    scores={}\n",
    "    y_test=y_test[:,1]\n",
    "    y_pred=y_pred[:,1]\n",
    "    scores['test_acc'] = accuracy_score(y_test, y_pred)\n",
    "    scores['test_bac'] = balanced_accuracy_score(y_test, y_pred)\n",
    "    scores['test_prec'] = precision_score(y_test, y_pred)\n",
    "    scores['test_rec'] = recall_score(y_test, y_pred)\n",
    "    scores['test_f1'] = f1_score(y_test, y_pred)\n",
    "    scores['test_auc'] = roc_auc_score(y_test, y_pred)\n",
    "    scores['feature_type'] = feature_type\n",
    "    scores['week_type'] = week_type\n",
    "    scores['course'] = course\n",
    "    scores['data_balance'] = sum(y)/len(y)\n",
    "    return scores"
   ]
  },
  {
   "cell_type": "code",
   "execution_count": 42,
   "id": "fd6e58a0",
   "metadata": {},
   "outputs": [
    {
     "name": "stdout",
     "output_type": "stream",
     "text": [
      "(453, 180)\n"
     ]
    },
    {
     "data": {
      "text/plain": [
       "(453, 2)"
      ]
     },
     "execution_count": 42,
     "metadata": {},
     "output_type": "execute_result"
    }
   ],
   "source": [
    "print(features.shape)\n",
    "labels.shape\n"
   ]
  },
  {
   "cell_type": "code",
   "execution_count": 43,
   "id": "5ebe4313",
   "metadata": {},
   "outputs": [
    {
     "data": {
      "text/plain": [
       "(453, 2)"
      ]
     },
     "execution_count": 43,
     "metadata": {},
     "output_type": "execute_result"
    }
   ],
   "source": [
    "labels.shape"
   ]
  },
  {
   "cell_type": "code",
   "execution_count": 44,
   "id": "3de6cdce",
   "metadata": {},
   "outputs": [
    {
     "name": "stdout",
     "output_type": "stream",
     "text": [
      "(362, 180) (45, 180) (46, 180)\n",
      "(362, 2) (45, 2) (46, 2)\n"
     ]
    }
   ],
   "source": [
    "train_size=0.8\n",
    "x_train, x_rem, y_train, y_rem = train_test_split(features, labels, train_size=train_size, random_state=25)\n",
    "x_test, x_val, y_test, y_val = train_test_split(x_rem, y_rem, train_size=0.5, random_state=25)\n",
    "print(x_train.shape,x_test.shape,x_val.shape)\n",
    "print(y_train.shape,y_test.shape,y_val.shape)"
   ]
  },
  {
   "cell_type": "code",
   "execution_count": 45,
   "id": "d06bee4a",
   "metadata": {},
   "outputs": [
    {
     "data": {
      "text/plain": [
       "36"
      ]
     },
     "execution_count": 45,
     "metadata": {},
     "output_type": "execute_result"
    }
   ],
   "source": [
    "num_features"
   ]
  },
  {
   "cell_type": "code",
   "execution_count": 28,
   "id": "8c113fba",
   "metadata": {},
   "outputs": [
    {
     "name": "stdout",
     "output_type": "stream",
     "text": [
      "bidirectional_lstm\n"
     ]
    },
    {
     "name": "stderr",
     "output_type": "stream",
     "text": [
      "2024-06-27 16:19:15.011187: I metal_plugin/src/device/metal_device.cc:1154] Metal device set to: Apple M2 Pro\n",
      "2024-06-27 16:19:15.011207: I metal_plugin/src/device/metal_device.cc:296] systemMemory: 16.00 GB\n",
      "2024-06-27 16:19:15.011216: I metal_plugin/src/device/metal_device.cc:313] maxCacheSize: 5.33 GB\n",
      "2024-06-27 16:19:15.011243: I tensorflow/core/common_runtime/pluggable_device/pluggable_device_factory.cc:303] Could not identify NUMA node of platform GPU ID 0, defaulting to 0. Your kernel may not have been built with NUMA support.\n",
      "2024-06-27 16:19:15.011256: I tensorflow/core/common_runtime/pluggable_device/pluggable_device_factory.cc:269] Created TensorFlow device (/job:localhost/replica:0/task:0/device:GPU:0 with 0 MB memory) -> physical PluggableDevice (device: 0, name: METAL, pci bus id: <undefined>)\n"
     ]
    },
    {
     "name": "stdout",
     "output_type": "stream",
     "text": [
      "Train on 3953 samples, validate on 495 samples\n"
     ]
    },
    {
     "name": "stderr",
     "output_type": "stream",
     "text": [
      "2024-06-27 16:19:15.528111: I tensorflow/core/common_runtime/pluggable_device/pluggable_device_factory.cc:303] Could not identify NUMA node of platform GPU ID 0, defaulting to 0. Your kernel may not have been built with NUMA support.\n",
      "2024-06-27 16:19:15.528126: I tensorflow/core/common_runtime/pluggable_device/pluggable_device_factory.cc:269] Created TensorFlow device (/job:localhost/replica:0/task:0/device:GPU:0 with 0 MB memory) -> physical PluggableDevice (device: 0, name: METAL, pci bus id: <undefined>)\n",
      "2024-06-27 16:19:15.542473: I tensorflow/compiler/mlir/mlir_graph_optimization_pass.cc:375] MLIR V1 optimization pass is not enabled\n",
      "2024-06-27 16:19:15.557660: I tensorflow/core/grappler/optimizers/custom_graph_optimizer_registry.cc:114] Plugin optimizer for device_type GPU is enabled.\n",
      "2024-06-27 16:19:15.582009: W tensorflow/c/c_api.cc:304] Operation '{name:'training/Adam/bidirectional_1/backward_lstm_1/lstm_cell/bias/m/Assign' id:2613 op device:{requested: '', assigned: ''} def:{{{node training/Adam/bidirectional_1/backward_lstm_1/lstm_cell/bias/m/Assign}} = AssignVariableOp[_has_manual_control_dependencies=true, dtype=DT_FLOAT, validate_shape=false](training/Adam/bidirectional_1/backward_lstm_1/lstm_cell/bias/m, training/Adam/bidirectional_1/backward_lstm_1/lstm_cell/bias/m/Initializer/zeros)}}' was changed by setting attribute after it was run by a session. This mutation will have no effect, and will trigger an error in the future. Either don't modify nodes after running them or create a new session.\n",
      "2024-06-27 16:19:15.607850: I tensorflow/core/grappler/optimizers/custom_graph_optimizer_registry.cc:114] Plugin optimizer for device_type GPU is enabled.\n"
     ]
    },
    {
     "name": "stdout",
     "output_type": "stream",
     "text": [
      "Epoch 1/10\n"
     ]
    },
    {
     "name": "stderr",
     "output_type": "stream",
     "text": [
      "2024-06-27 16:19:15.774822: I tensorflow/core/grappler/optimizers/custom_graph_optimizer_registry.cc:114] Plugin optimizer for device_type GPU is enabled.\n",
      "2024-06-27 16:19:15.788666: I tensorflow/core/grappler/optimizers/custom_graph_optimizer_registry.cc:114] Plugin optimizer for device_type GPU is enabled.\n"
     ]
    },
    {
     "name": "stdout",
     "output_type": "stream",
     "text": [
      "3953/3953 [==============================] - ETA: 0s - loss: 0.3052 - acc: 0.8920"
     ]
    },
    {
     "name": "stderr",
     "output_type": "stream",
     "text": [
      "/Users/davide/anaconda3/envs/xai/lib/python3.11/site-packages/keras/src/engine/training_v1.py:2335: UserWarning: `Model.state_updates` will be removed in a future version. This property should not be used in TensorFlow 2.0, as `updates` are applied automatically.\n",
      "  updates = self.state_updates\n",
      "2024-06-27 16:19:27.072324: W tensorflow/c/c_api.cc:304] Operation '{name:'loss/mul' id:903 op device:{requested: '', assigned: ''} def:{{{node loss/mul}} = Mul[T=DT_FLOAT, _has_manual_control_dependencies=true](loss/mul/x, loss/dense_loss/value)}}' was changed by setting attribute after it was run by a session. This mutation will have no effect, and will trigger an error in the future. Either don't modify nodes after running them or create a new session.\n",
      "2024-06-27 16:19:27.101048: I tensorflow/core/grappler/optimizers/custom_graph_optimizer_registry.cc:114] Plugin optimizer for device_type GPU is enabled.\n"
     ]
    },
    {
     "name": "stdout",
     "output_type": "stream",
     "text": [
      "3953/3953 [==============================] - 13s 3ms/sample - loss: 0.3052 - acc: 0.8920 - val_loss: 0.2247 - val_acc: 0.9010\n",
      "Epoch 2/10\n",
      "3953/3953 [==============================] - 9s 2ms/sample - loss: 0.1987 - acc: 0.9036 - val_loss: 0.1911 - val_acc: 0.9192\n",
      "Epoch 3/10\n",
      "3953/3953 [==============================] - 9s 2ms/sample - loss: 0.1878 - acc: 0.9104 - val_loss: 0.1927 - val_acc: 0.9172\n",
      "Epoch 4/10\n",
      "3953/3953 [==============================] - 9s 2ms/sample - loss: 0.1827 - acc: 0.9056 - val_loss: 0.1801 - val_acc: 0.9152\n",
      "Epoch 5/10\n",
      "3953/3953 [==============================] - 8s 2ms/sample - loss: 0.1797 - acc: 0.9072 - val_loss: 0.1796 - val_acc: 0.9232\n",
      "Epoch 6/10\n",
      "3953/3953 [==============================] - 8s 2ms/sample - loss: 0.1802 - acc: 0.9104 - val_loss: 0.1841 - val_acc: 0.9071\n",
      "Epoch 7/10\n",
      "3953/3953 [==============================] - 8s 2ms/sample - loss: 0.1752 - acc: 0.9099 - val_loss: 0.1778 - val_acc: 0.9172\n",
      "Epoch 8/10\n",
      "3953/3953 [==============================] - 8s 2ms/sample - loss: 0.1768 - acc: 0.9079 - val_loss: 0.1853 - val_acc: 0.9091\n",
      "Epoch 9/10\n",
      "3953/3953 [==============================] - 8s 2ms/sample - loss: 0.1731 - acc: 0.9112 - val_loss: 0.1717 - val_acc: 0.9212\n",
      "Epoch 10/10\n",
      "3953/3953 [==============================] - 8s 2ms/sample - loss: 0.1706 - acc: 0.9099 - val_loss: 0.1891 - val_acc: 0.9030\n"
     ]
    },
    {
     "name": "stderr",
     "output_type": "stream",
     "text": [
      "/Users/davide/anaconda3/envs/xai/lib/python3.11/site-packages/keras/src/engine/training_v1.py:2359: UserWarning: `Model.state_updates` will be removed in a future version. This property should not be used in TensorFlow 2.0, as `updates` are applied automatically.\n",
      "  updates=self.state_updates,\n",
      "2024-06-27 16:20:44.984495: W tensorflow/c/c_api.cc:304] Operation '{name:'dense/Sigmoid' id:827 op device:{requested: '', assigned: ''} def:{{{node dense/Sigmoid}} = Sigmoid[T=DT_FLOAT, _has_manual_control_dependencies=true](dense/BiasAdd)}}' was changed by setting attribute after it was run by a session. This mutation will have no effect, and will trigger an error in the future. Either don't modify nodes after running them or create a new session.\n",
      "2024-06-27 16:20:45.010529: I tensorflow/core/grappler/optimizers/custom_graph_optimizer_registry.cc:114] Plugin optimizer for device_type GPU is enabled.\n"
     ]
    },
    {
     "name": "stdout",
     "output_type": "stream",
     "text": [
      "(494, 2)\n",
      "(494,)\n",
      "(494, 2)\n",
      "metric          value    \n",
      "test_acc        0.9251   \n",
      "test_bac        0.7042   \n",
      "test_prec       0.9397   \n",
      "test_rec        0.9798   \n",
      "test_f1         0.9593   \n",
      "test_auc        0.7042   \n",
      "week_type       eq_week  \n",
      "course          villesafricaines_001 \n",
      "data_balance    0.8865   \n"
     ]
    },
    {
     "name": "stderr",
     "output_type": "stream",
     "text": [
      "/Users/davide/anaconda3/envs/xai/lib/python3.11/site-packages/keras/src/engine/training.py:3000: UserWarning: You are saving your model as an HDF5 file via `model.save()`. This file format is considered legacy. We recommend using instead the native Keras format, e.g. `model.save('my_model.keras')`.\n",
      "  saving_api.save_model(\n",
      "2024-06-27 16:20:46.689090: I tensorflow/core/grappler/optimizers/custom_graph_optimizer_registry.cc:114] Plugin optimizer for device_type GPU is enabled.\n",
      "2024-06-27 16:20:46.699621: I tensorflow/core/grappler/optimizers/custom_graph_optimizer_registry.cc:114] Plugin optimizer for device_type GPU is enabled.\n",
      "2024-06-27 16:20:46.709905: I tensorflow/core/grappler/optimizers/custom_graph_optimizer_registry.cc:114] Plugin optimizer for device_type GPU is enabled.\n",
      "2024-06-27 16:20:46.722285: I tensorflow/core/grappler/optimizers/custom_graph_optimizer_registry.cc:114] Plugin optimizer for device_type GPU is enabled.\n",
      "2024-06-27 16:20:46.737924: I tensorflow/core/grappler/optimizers/custom_graph_optimizer_registry.cc:114] Plugin optimizer for device_type GPU is enabled.\n",
      "2024-06-27 16:20:46.751131: I tensorflow/core/grappler/optimizers/custom_graph_optimizer_registry.cc:114] Plugin optimizer for device_type GPU is enabled.\n",
      "2024-06-27 16:20:46.763189: I tensorflow/core/grappler/optimizers/custom_graph_optimizer_registry.cc:114] Plugin optimizer for device_type GPU is enabled.\n"
     ]
    },
    {
     "name": "stdout",
     "output_type": "stream",
     "text": [
      "bidirectional_lstm_villesafricaines_001_1719497954.9971\n"
     ]
    },
    {
     "data": {
      "image/png": "[encoded data removed]",
      "text/plain": [
       "<Figure size 640x480 with 1 Axes>"
      ]
     },
     "metadata": {},
     "output_type": "display_data"
    },
    {
     "data": {
      "image/png": "[encoded data removed]",
      "text/plain": [
       "<Figure size 640x480 with 1 Axes>"
      ]
     },
     "metadata": {},
     "output_type": "display_data"
    }
   ],
   "source": [
    "current_timestamp = str(time.time())[:-2]\n",
    "model=bidirectional_lstm\n",
    "print(model.__name__)\n",
    "history, scores = model(x_train, y_train, x_test, y_test, x_val, y_val,week_type, feature_types, course, \n",
    "                        num_epochs=10, n_weeks=overwrite_num_weeks, n_features=num_features)\n",
    "print(\"{:<15} {:<8} \".format('metric','value'))\n",
    "for ke, v in scores.items():\n",
    "    if isinstance(v, float):\n",
    "        v=round(v, 4)\n",
    "    if ke!=\"feature_type\":\n",
    "        print(\"{:<15} {:<8} \".format(ke, v))\n",
    "run_name = model.__name__ + \"_\" + course + \"_\" + current_timestamp\n",
    "plot_history(history,run_name)\n",
    "print(run_name)\n",
    "\n"
   ]
  },
  {
   "cell_type": "markdown",
   "id": "99da7e25",
   "metadata": {},
   "source": [
    "## Explainers"
   ]
  },
  {
   "cell_type": "code",
   "execution_count": 46,
   "id": "5bcef9cb",
   "metadata": {},
   "outputs": [],
   "source": [
    "import alibi\n",
    "from alibi.explainers import CEM"
   ]
  },
  {
   "cell_type": "code",
   "execution_count": 47,
   "id": "ecd2d34a",
   "metadata": {},
   "outputs": [
    {
     "name": "stderr",
     "output_type": "stream",
     "text": [
      "2024-07-04 14:36:30.003070: I metal_plugin/src/device/metal_device.cc:1154] Metal device set to: Apple M2 Pro\n",
      "2024-07-04 14:36:30.003098: I metal_plugin/src/device/metal_device.cc:296] systemMemory: 16.00 GB\n",
      "2024-07-04 14:36:30.003112: I metal_plugin/src/device/metal_device.cc:313] maxCacheSize: 5.33 GB\n",
      "2024-07-04 14:36:30.003197: I tensorflow/core/common_runtime/pluggable_device/pluggable_device_factory.cc:303] Could not identify NUMA node of platform GPU ID 0, defaulting to 0. Your kernel may not have been built with NUMA support.\n",
      "2024-07-04 14:36:30.003245: I tensorflow/core/common_runtime/pluggable_device/pluggable_device_factory.cc:269] Created TensorFlow device (/job:localhost/replica:0/task:0/device:GPU:0 with 0 MB memory) -> physical PluggableDevice (device: 0, name: METAL, pci bus id: <undefined>)\n",
      "2024-07-04 14:36:30.222626: I tensorflow/core/common_runtime/pluggable_device/pluggable_device_factory.cc:303] Could not identify NUMA node of platform GPU ID 0, defaulting to 0. Your kernel may not have been built with NUMA support.\n",
      "2024-07-04 14:36:30.222642: I tensorflow/core/common_runtime/pluggable_device/pluggable_device_factory.cc:269] Created TensorFlow device (/job:localhost/replica:0/task:0/device:GPU:0 with 0 MB memory) -> physical PluggableDevice (device: 0, name: METAL, pci bus id: <undefined>)\n",
      "2024-07-04 14:36:30.227128: I tensorflow/compiler/mlir/mlir_graph_optimization_pass.cc:375] MLIR V1 optimization pass is not enabled\n",
      "2024-07-04 14:36:30.259233: I tensorflow/core/grappler/optimizers/custom_graph_optimizer_registry.cc:114] Plugin optimizer for device_type GPU is enabled.\n",
      "2024-07-04 14:36:30.279475: W tensorflow/c/c_api.cc:304] Operation '{name:'dense/kernel/Assign' id:816 op device:{requested: '', assigned: ''} def:{{{node dense/kernel/Assign}} = AssignVariableOp[_has_manual_control_dependencies=true, dtype=DT_FLOAT, validate_shape=false](dense/kernel, dense/kernel/Initializer/random_uniform)}}' was changed by setting attribute after it was run by a session. This mutation will have no effect, and will trigger an error in the future. Either don't modify nodes after running them or create a new session.\n",
      "2024-07-04 14:36:30.286689: I tensorflow/core/grappler/optimizers/custom_graph_optimizer_registry.cc:114] Plugin optimizer for device_type GPU is enabled.\n",
      "2024-07-04 14:36:30.626064: I tensorflow/core/grappler/optimizers/custom_graph_optimizer_registry.cc:114] Plugin optimizer for device_type GPU is enabled.\n",
      "2024-07-04 14:36:30.698039: I tensorflow/core/grappler/optimizers/custom_graph_optimizer_registry.cc:114] Plugin optimizer for device_type GPU is enabled.\n",
      "2024-07-04 14:36:30.710930: W tensorflow/c/c_api.cc:304] Operation '{name:'bidirectional_1/backward_lstm_1/lstm_cell/bias/v/Assign' id:1146 op device:{requested: '', assigned: ''} def:{{{node bidirectional_1/backward_lstm_1/lstm_cell/bias/v/Assign}} = AssignVariableOp[_has_manual_control_dependencies=true, dtype=DT_FLOAT, validate_shape=false](bidirectional_1/backward_lstm_1/lstm_cell/bias/v, bidirectional_1/backward_lstm_1/lstm_cell/bias/v/Initializer/zeros)}}' was changed by setting attribute after it was run by a session. This mutation will have no effect, and will trigger an error in the future. Either don't modify nodes after running them or create a new session.\n",
      "2024-07-04 14:36:30.720298: I tensorflow/core/grappler/optimizers/custom_graph_optimizer_registry.cc:114] Plugin optimizer for device_type GPU is enabled.\n",
      "2024-07-04 14:36:30.749329: I tensorflow/core/grappler/optimizers/custom_graph_optimizer_registry.cc:114] Plugin optimizer for device_type GPU is enabled.\n",
      "2024-07-04 14:36:30.784309: I tensorflow/core/grappler/optimizers/custom_graph_optimizer_registry.cc:114] Plugin optimizer for device_type GPU is enabled.\n"
     ]
    }
   ],
   "source": [
    "bilstm = load_model('models/lstm_bi_'+course+'_cem')\n"
   ]
  },
  {
   "cell_type": "code",
   "execution_count": 48,
   "id": "5ae7a394",
   "metadata": {},
   "outputs": [],
   "source": [
    "def pn_all(num_instances,features,feature_names):\n",
    "    mode = 'PN'  # 'PN' (pertinent negative) or 'PP' (pertinent positive)\n",
    "    shape = (1,) + features.shape[1:]  # instance shape\n",
    "    kappa = 0.  # minimum difference needed between the prediction probability for the perturbed instance on the\n",
    "              # class predicted by the original instance and the max probability on the other classes \n",
    "              # in order for the first loss term to be minimized\n",
    "    beta = .1  # weight of the L1 loss term\n",
    "    gamma = 100  # weight of the optional auto-encoder loss term\n",
    "    c_init = 1.  # initial weight c of the loss term encouraging to predict a different class (PN) or \n",
    "                # the same class (PP) for the perturbed instance compared to the original instance to be explained\n",
    "    c_steps = 10  # nb of updates for c\n",
    "    max_iterations = 1000  # nb of iterations per value of c\n",
    "    feature_range = (features.min(axis=0),features.max(axis=0)) # feature range for the perturbed instance\n",
    "    clip = (-1000.,1000.)  # gradient clipping\n",
    "    lr = 1e-2  # initial learning rate\n",
    "    no_info_val = -1. # a value, float or feature-wise, which can be seen as containing no info to make a prediction\n",
    "                    # perturbations towards this value means removing features, and away means adding features\n",
    "                    # for our MNIST images, the background (-0.5) is the least informative, \n",
    "                    # so positive/negative perturbations imply adding/removing features\n",
    "    cem = CEM(bilstm, mode, shape, kappa=kappa, beta=beta, feature_range=feature_range, \n",
    "    gamma = gamma, ae_model=None, max_iterations=max_iterations, \n",
    "    c_init = c_init, c_steps=c_steps, learning_rate_init=lr, clip=clip, no_info_val=no_info_val)\n",
    "    changes=[]\n",
    "    explanations = []\n",
    "    final_num_instances = []\n",
    "    for i in num_instances:\n",
    "        try:\n",
    "            X = features[i].reshape((1,) + features[0].shape)\n",
    "            explanation = cem.explain(X)\n",
    "            change = explanation.PN-X\n",
    "            print(f'counterfactuals generated for instance {i}')\n",
    "            changes.append(change)\n",
    "            explanations.append(explanation)\n",
    "            final_num_instances.append(i)\n",
    "        except TypeError:\n",
    "            print(f'Error occured for instance {i}')\n",
    "            print(change)\n",
    "    return explanations, changes, final_num_instances"
   ]
  },
  {
   "cell_type": "code",
   "execution_count": 49,
   "id": "b046452c",
   "metadata": {},
   "outputs": [],
   "source": [
    "def pp_all(num_instances,features,feature_names):\n",
    "    mode = 'PP'  # 'PN' (pertinent negative) or 'PP' (pertinent positive)\n",
    "    shape = (1,) + features.shape[1:]  # instance shape\n",
    "    kappa = 0.  # minimum difference needed between the prediction probability for the perturbed instance on the\n",
    "              # class predicted by the original instance and the max probability on the other classes \n",
    "              # in order for the first loss term to be minimized\n",
    "    beta = .1  # weight of the L1 loss term\n",
    "    gamma = 100  # weight of the optional auto-encoder loss term\n",
    "    c_init = 1.  # initial weight c of the loss term encouraging to predict a different class (PN) or \n",
    "                # the same class (PP) for the perturbed instance compared to the original instance to be explained\n",
    "    c_steps = 10  # nb of updates for c\n",
    "    max_iterations = 1000  # nb of iterations per value of c\n",
    "    feature_range = (features.min(axis=0),features.max(axis=0)) # feature range for the perturbed instance\n",
    "    clip = (-1000.,1000.)  # gradient clipping\n",
    "    lr = 1e-2  # initial learning rate\n",
    "    no_info_val = -1. # a value, float or feature-wise, which can be seen as containing no info to make a prediction\n",
    "                    # perturbations towards this value means removing features, and away means adding features\n",
    "                    # for our MNIST images, the background (-0.5) is the least informative, \n",
    "                    # so positive/negative perturbations imply adding/removing features\n",
    "    cem = CEM(bilstm, mode, shape, kappa=kappa, beta=beta, feature_range=feature_range, \n",
    "    gamma = gamma, ae_model=None, max_iterations=max_iterations, \n",
    "    c_init = c_init, c_steps=c_steps, learning_rate_init=lr, clip=clip, no_info_val=no_info_val)\n",
    "    changes=[]\n",
    "    for i in num_instances:\n",
    "        try:\n",
    "            X = features[i].reshape((1,) + features[0].shape)\n",
    "            explanation = cem.explain(X)\n",
    "            change = explanation.PP-X\n",
    "            print(f'counterfactuals generated for instance {i}')\n",
    "            changes.append(change)\n",
    "        except TypeError:\n",
    "            print(f'Error occured for instance {i}')\n",
    "            print(change)\n",
    "    return changes"
   ]
  },
  {
   "cell_type": "code",
   "execution_count": 34,
   "id": "b0253a58",
   "metadata": {},
   "outputs": [],
   "source": [
    "# samples_id=pd.read_csv(\"data/representative_samples.csv\")\n",
    "\n",
    "# # Select only the \"user_id\" column\n",
    "# samples = np.array(samples_id['user_id'])\n",
    "# samples\n",
    "\n",
    "# # Load the mapping file\n",
    "# mapping = pd.read_csv(\"data/user_id_mapping-dsp_001.csv\")\n",
    "\n",
    "# # Filter the DataFrame based on the user_id values in instances\n",
    "# filtered_mapping = mapping[mapping['user_id'].isin(samples)]\n",
    "\n",
    "# # Get the indices and save them as a new list\n",
    "# instances = filtered_mapping.index.tolist()\n",
    "# instances"
   ]
  },
  {
   "cell_type": "code",
   "execution_count": 50,
   "id": "0cd50d0f",
   "metadata": {},
   "outputs": [],
   "source": [
    "############################################## CODE TO GET THE INDICES OF THE FEATURES\n",
    "# I pick any feature set here and take the indices that are not easy fail\n",
    "index=pd.read_csv(\"../easy-fail/eq_week-chen_cui-\" + str(course) + \"/feature_labels.csv\",)\n",
    "index\n",
    "\n",
    "# Make the index a column called 'feature_index'\n",
    "index.reset_index(inplace=True)\n",
    "index.rename(columns={'index': 'feature_index'}, inplace=True)\n",
    "\n",
    "# Rename 'Unnamed: 0' to 'original_index'\n",
    "index.rename(columns={'Unnamed: 0': 'original_index'}, inplace=True)\n",
    "\n",
    "# Remove the other columns except 'feature_index' and 'original_index'\n",
    "index = index[['feature_index', 'original_index']]\n",
    "\n",
    "samples_id=pd.read_csv(\"data/\"+str(course) + \"_sample_5.csv\")\n",
    "samples_id\n",
    "\n",
    "# USE THIS INDEX MAPPING TO GET THE INDEX IN THE FEATURES\n",
    "index_mapping = dict(zip(index['original_index'], index['feature_index']))\n",
    "index_mapping\n",
    "\n",
    "samples_id=pd.read_csv(\"data/\"+str(course) + \"_sample_5.csv\")\n",
    "\n",
    "samples_id['feature_index'] = samples_id['original_index'].map(index_mapping)\n",
    "\n",
    "instances=samples_id['feature_index'].values\n",
    "assert np.all(instances < features.shape[0])"
   ]
  },
  {
   "cell_type": "code",
   "execution_count": 51,
   "id": "9b1a72e5",
   "metadata": {},
   "outputs": [
    {
     "data": {
      "text/plain": [
       "array([291, 243, 138, 174, 234])"
      ]
     },
     "execution_count": 51,
     "metadata": {},
     "output_type": "execute_result"
    }
   ],
   "source": [
    "instances"
   ]
  },
  {
   "cell_type": "code",
   "execution_count": 55,
   "id": "ea158448",
   "metadata": {},
   "outputs": [
    {
     "name": "stdout",
     "output_type": "stream",
     "text": [
      "start time 1720096630.8738182\n"
     ]
    },
    {
     "name": "stderr",
     "output_type": "stream",
     "text": [
      "2024-07-04 14:37:11.036076: I tensorflow/core/grappler/optimizers/custom_graph_optimizer_registry.cc:114] Plugin optimizer for device_type GPU is enabled.\n",
      "2024-07-04 14:37:11.771239: I tensorflow/core/grappler/optimizers/custom_graph_optimizer_registry.cc:114] Plugin optimizer for device_type GPU is enabled.\n",
      "2024-07-04 14:37:11.981988: I tensorflow/core/grappler/optimizers/custom_graph_optimizer_registry.cc:114] Plugin optimizer for device_type GPU is enabled.\n",
      "2024-07-04 14:37:12.010009: I tensorflow/core/grappler/optimizers/custom_graph_optimizer_registry.cc:114] Plugin optimizer for device_type GPU is enabled.\n",
      "2024-07-04 14:37:12.046317: I tensorflow/core/grappler/optimizers/custom_graph_optimizer_registry.cc:114] Plugin optimizer for device_type GPU is enabled.\n",
      "2024-07-04 14:37:13.815458: I tensorflow/core/grappler/optimizers/custom_graph_optimizer_registry.cc:114] Plugin optimizer for device_type GPU is enabled.\n",
      "2024-07-04 14:37:13.905878: I tensorflow/core/grappler/optimizers/custom_graph_optimizer_registry.cc:114] Plugin optimizer for device_type GPU is enabled.\n",
      "2024-07-04 14:37:14.290092: I tensorflow/core/grappler/optimizers/custom_graph_optimizer_registry.cc:114] Plugin optimizer for device_type GPU is enabled.\n",
      "2024-07-04 14:49:04.822307: I tensorflow/core/grappler/optimizers/custom_graph_optimizer_registry.cc:114] Plugin optimizer for device_type GPU is enabled.\n"
     ]
    },
    {
     "name": "stdout",
     "output_type": "stream",
     "text": [
      "counterfactuals generated for instance 226\n",
      "end time 1720097345.048098\n",
      "time taken: 11.902904665470123 minutes\n"
     ]
    }
   ],
   "source": [
    "t1 = time.time()\n",
    "print('start time', t1)\n",
    "explanation, changes, final_num_instances = pn_all(instances,features,feature_names)\n",
    "t2 = time.time()\n",
    "print('end time', t2)\n",
    "print(f'time taken: {(t2-t1)/60.0} minutes')"
   ]
  },
  {
   "cell_type": "code",
   "execution_count": 56,
   "id": "3db5c207",
   "metadata": {},
   "outputs": [],
   "source": [
    "final_instances = features[final_num_instances]\n",
    "\n",
    "path = 'uniform_eq_results/CEM/'+course\n",
    "if not os.path.exists(path):\n",
    "        os.makedirs(path)\n",
    "        \n",
    "np.save('uniform_eq_results/CEM/'+course+'/changes_pn', np.array(changes).reshape(len(final_num_instances),-1))"
   ]
  },
  {
   "cell_type": "code",
   "execution_count": 57,
   "id": "9ec0a719",
   "metadata": {},
   "outputs": [],
   "source": [
    "pns = np.array([explanation[i].PN for i in range(len(explanation))]).reshape(len(final_num_instances),-1)\n",
    "np.save('uniform_eq_results/CEM/'+course+'/pns', pns)"
   ]
  },
  {
   "cell_type": "code",
   "execution_count": 58,
   "id": "957183d9",
   "metadata": {},
   "outputs": [],
   "source": [
    "np.save('uniform_eq_results/CEM/'+course+'/instances', final_instances)"
   ]
  },
  {
   "cell_type": "code",
   "execution_count": 59,
   "id": "414bfeaf",
   "metadata": {},
   "outputs": [],
   "source": [
    "sds = pd.DataFrame(features, columns=feature_names).describe()\n",
    "sds = sds.loc[:,~sds.columns.duplicated()]\n",
    "sds = sds.loc['std',:]"
   ]
  },
  {
   "cell_type": "code",
   "execution_count": 60,
   "id": "a25e50af",
   "metadata": {},
   "outputs": [
    {
     "data": {
      "text/plain": [
       "(1, 1, 180)"
      ]
     },
     "execution_count": 60,
     "metadata": {},
     "output_type": "execute_result"
    }
   ],
   "source": [
    "np.array(changes).shape\n"
   ]
  },
  {
   "cell_type": "code",
   "execution_count": 61,
   "id": "bc516813",
   "metadata": {},
   "outputs": [
    {
     "data": {
      "text/plain": [
       "regularity_peak_dayhour_InWeek1      0.094917\n",
       "regularity_periodicity_m1_InWeek1    0.146382\n",
       "delay_lecture_InWeek1                0.263518\n",
       "total_clicks_InWeek1                 0.099547\n",
       "number_sessions_InWeek1              0.172027\n",
       "                                       ...   \n",
       "competency_anticipation_InWeek5      0.046984\n",
       "content_alignment_InWeek5            0.046984\n",
       "content_anticipation_InWeek5         0.046984\n",
       "student_speed_InWeek5                0.178595\n",
       "student_shape_InWeek5                0.046984\n",
       "Name: std, Length: 180, dtype: float64"
      ]
     },
     "execution_count": 61,
     "metadata": {},
     "output_type": "execute_result"
    }
   ],
   "source": [
    "sds"
   ]
  },
  {
   "cell_type": "code",
   "execution_count": 62,
   "id": "b7274761",
   "metadata": {},
   "outputs": [],
   "source": [
    "diffs = pd.DataFrame(np.array(changes).reshape(len(final_num_instances),-1), columns=feature_names)\n",
    "diffs = diffs.loc[:,~diffs.columns.duplicated()]\n",
    "\n",
    "for col in diffs.columns:\n",
    "    diffs[col] = np.abs(diffs[col]*(sds[col]))\n"
   ]
  },
  {
   "cell_type": "code",
   "execution_count": 63,
   "id": "12691bf0",
   "metadata": {},
   "outputs": [
    {
     "name": "stderr",
     "output_type": "stream",
     "text": [
      "/var/folders/rq/nzqjmf0x07vg4p477yrb9w800000gn/T/ipykernel_73756/2799255352.py:1: PerformanceWarning: DataFrame is highly fragmented.  This is usually the result of calling `frame.insert` many times, which has poor performance.  Consider joining all columns at once using pd.concat(axis=1) instead. To get a de-fragmented frame, use `newframe = frame.copy()`\n",
      "  diffs.insert(0, 'exp_num', final_num_instances)\n"
     ]
    },
    {
     "data": {
      "text/html": [
       "<div>\n",
       "<style scoped>\n",
       "    .dataframe tbody tr th:only-of-type {\n",
       "        vertical-align: middle;\n",
       "    }\n",
       "\n",
       "    .dataframe tbody tr th {\n",
       "        vertical-align: top;\n",
       "    }\n",
       "\n",
       "    .dataframe thead th {\n",
       "        text-align: right;\n",
       "    }\n",
       "</style>\n",
       "<table border=\"1\" class=\"dataframe\">\n",
       "  <thead>\n",
       "    <tr style=\"text-align: right;\">\n",
       "      <th></th>\n",
       "      <th>exp_num</th>\n",
       "      <th>regularity_peak_dayhour_InWeek1</th>\n",
       "      <th>regularity_periodicity_m1_InWeek1</th>\n",
       "      <th>delay_lecture_InWeek1</th>\n",
       "      <th>total_clicks_InWeek1</th>\n",
       "      <th>number_sessions_InWeek1</th>\n",
       "      <th>time_sessions_sum_InWeek1</th>\n",
       "      <th>time_sessions_mean_InWeek1</th>\n",
       "      <th>time_between_sessions_std_InWeek1</th>\n",
       "      <th>time_sessions_std_InWeek1</th>\n",
       "      <th>...</th>\n",
       "      <th>pause_duration_std_InWeek5</th>\n",
       "      <th>time_speeding_up_mean_InWeek5</th>\n",
       "      <th>time_speeding_up_std_InWeek5</th>\n",
       "      <th>competency_strength_InWeek5</th>\n",
       "      <th>competency_alignment_InWeek5</th>\n",
       "      <th>competency_anticipation_InWeek5</th>\n",
       "      <th>content_alignment_InWeek5</th>\n",
       "      <th>content_anticipation_InWeek5</th>\n",
       "      <th>student_speed_InWeek5</th>\n",
       "      <th>student_shape_InWeek5</th>\n",
       "    </tr>\n",
       "  </thead>\n",
       "  <tbody>\n",
       "    <tr>\n",
       "      <th>0</th>\n",
       "      <td>226</td>\n",
       "      <td>5.931652e-11</td>\n",
       "      <td>1.012269e-10</td>\n",
       "      <td>7.309326e-09</td>\n",
       "      <td>2.328139e-10</td>\n",
       "      <td>5.838702e-10</td>\n",
       "      <td>2.020548e-10</td>\n",
       "      <td>3.439863e-10</td>\n",
       "      <td>0.0</td>\n",
       "      <td>0.000616</td>\n",
       "      <td>...</td>\n",
       "      <td>1.358201e-09</td>\n",
       "      <td>0.000209</td>\n",
       "      <td>4.236148e-09</td>\n",
       "      <td>0.0</td>\n",
       "      <td>0.0</td>\n",
       "      <td>0.0</td>\n",
       "      <td>0.0</td>\n",
       "      <td>0.001051</td>\n",
       "      <td>2.225482e-11</td>\n",
       "      <td>0.0</td>\n",
       "    </tr>\n",
       "  </tbody>\n",
       "</table>\n",
       "<p>1 rows × 181 columns</p>\n",
       "</div>"
      ],
      "text/plain": [
       "   exp_num  regularity_peak_dayhour_InWeek1  \\\n",
       "0      226                     5.931652e-11   \n",
       "\n",
       "   regularity_periodicity_m1_InWeek1  delay_lecture_InWeek1  \\\n",
       "0                       1.012269e-10           7.309326e-09   \n",
       "\n",
       "   total_clicks_InWeek1  number_sessions_InWeek1  time_sessions_sum_InWeek1  \\\n",
       "0          2.328139e-10             5.838702e-10               2.020548e-10   \n",
       "\n",
       "   time_sessions_mean_InWeek1  time_between_sessions_std_InWeek1  \\\n",
       "0                3.439863e-10                                0.0   \n",
       "\n",
       "   time_sessions_std_InWeek1  ...  pause_duration_std_InWeek5  \\\n",
       "0                   0.000616  ...                1.358201e-09   \n",
       "\n",
       "   time_speeding_up_mean_InWeek5  time_speeding_up_std_InWeek5  \\\n",
       "0                       0.000209                  4.236148e-09   \n",
       "\n",
       "   competency_strength_InWeek5  competency_alignment_InWeek5  \\\n",
       "0                          0.0                           0.0   \n",
       "\n",
       "   competency_anticipation_InWeek5  content_alignment_InWeek5  \\\n",
       "0                              0.0                        0.0   \n",
       "\n",
       "   content_anticipation_InWeek5  student_speed_InWeek5  student_shape_InWeek5  \n",
       "0                      0.001051           2.225482e-11                    0.0  \n",
       "\n",
       "[1 rows x 181 columns]"
      ]
     },
     "execution_count": 63,
     "metadata": {},
     "output_type": "execute_result"
    }
   ],
   "source": [
    "diffs.insert(0, 'exp_num', final_num_instances)\n",
    "diffs.head()"
   ]
  },
  {
   "cell_type": "code",
   "execution_count": 64,
   "id": "97dd4258",
   "metadata": {},
   "outputs": [],
   "source": [
    "diffs.to_csv('uniform_eq_results/CEM/'+course+'/importances.csv')\n"
   ]
  },
  {
   "cell_type": "code",
   "execution_count": null,
   "id": "b0a6aa06",
   "metadata": {},
   "outputs": [],
   "source": []
  }
 ],
 "metadata": {
  "kernelspec": {
   "display_name": "xai",
   "language": "python",
   "name": "python3"
  },
  "language_info": {
   "codemirror_mode": {
    "name": "ipython",
    "version": 3
   },
   "file_extension": ".py",
   "mimetype": "text/x-python",
   "name": "python",
   "nbconvert_exporter": "python",
   "pygments_lexer": "ipython3",
   "version": "3.11.5"
  }
 },
 "nbformat": 4,
 "nbformat_minor": 5
}
