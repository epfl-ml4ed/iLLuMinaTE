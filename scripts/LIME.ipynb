{
 "cells": [
  {
   "cell_type": "code",
   "execution_count": 1,
   "id": "8794505b",
   "metadata": {},
   "outputs": [],
   "source": [
    "import lime\n",
    "from lime import lime_tabular\n",
    "import numpy as np\n",
    "import pandas as pd\n",
    "import tensorflow.keras as keras\n",
    "import matplotlib.pyplot as pyplot\n",
    "from sklearn.preprocessing import normalize\n",
    "import seaborn as sns\n",
    "import json\n",
    "import math\n",
    "import time\n",
    "import ast\n",
    "from IPython.display import clear_output\n",
    "import os\n",
    "import tensorflow as tf"
   ]
  },
  {
   "cell_type": "code",
   "execution_count": 2,
   "id": "85037e2b",
   "metadata": {},
   "outputs": [],
   "source": [
    "# EDIT HERE FOR OTHER COURSES\n",
    "data_path = '../easy-fail/'\n",
    "week_type = 'eq_week'\n",
    "feature_types = [ 'boroujeni_et_al', \n",
    "                 'chen_cui',  'lalle_conati', \n",
    "                 'marras_et_al']\n",
    "course = 'dsp_001'\n",
    "marras_et_al_id = feature_types.index('marras_et_al')\n",
    "#akpinar_et_al_id = feature_types.index('akpinar_et_al')\n",
    "remove_obvious = False"
   ]
  },
  {
   "cell_type": "markdown",
   "id": "738cb068",
   "metadata": {},
   "source": [
    "# Loading the features and their names"
   ]
  },
  {
   "cell_type": "code",
   "execution_count": 3,
   "id": "9bb1873a",
   "metadata": {},
   "outputs": [],
   "source": [
    "# function that replaces NaNs with the minimum of that feature over all weeks\n",
    "def fillNaN(feature):\n",
    "    shape = feature.shape\n",
    "    feature_min = np.nanmin(\n",
    "        feature.reshape(-1, shape[2]), axis=0\n",
    "    )  # min of that feature over all weeks\n",
    "    feature = feature.reshape(-1, shape[2])\n",
    "    inds = np.where(np.isnan(feature))\n",
    "    feature[inds] = np.take(feature_min.reshape(-1), inds[1])\n",
    "    feature = feature.reshape(shape)\n",
    "    return feature"
   ]
  },
  {
   "cell_type": "code",
   "execution_count": 4,
   "id": "88e63d13",
   "metadata": {},
   "outputs": [
    {
     "name": "stdout",
     "output_type": "stream",
     "text": [
      "(5611, 10, 3)\n",
      "(56110, 3)\n",
      "(5611, 10, 13)\n",
      "(56110, 13)\n",
      "(5611, 10, 22)\n",
      "(56110, 22)\n",
      "(5611, 10, 7)\n",
      "(56110, 7)\n",
      "course:  dsp_001\n",
      "week_type:  eq_week\n",
      "feature_type:  ['boroujeni_et_al', 'chen_cui', 'lalle_conati', 'marras_et_al']\n"
     ]
    }
   ],
   "source": [
    "# Loading the features\n",
    "feature_list = {}\n",
    "\n",
    "feature_type_list = []\n",
    "for feature_type in feature_types:\n",
    "\n",
    "    filepath = data_path + week_type + '-' + feature_type + '-' + course\n",
    "    feature_current = np.load(filepath+'/feature_values.npz')['feature_values']\n",
    "    print(feature_current.shape)\n",
    "    feature_norm = feature_current.reshape(-1,feature_current.shape[2] )\n",
    "    print(feature_norm.shape)\n",
    "    feature_type_list.append(pd.DataFrame(feature_norm))\n",
    "feature_list[course] = feature_type_list\n",
    "\n",
    "print('course: ', course)\n",
    "print('week_type: ', week_type)\n",
    "print('feature_type: ', feature_types)"
   ]
  },
  {
   "cell_type": "code",
   "execution_count": 5,
   "id": "118510a7",
   "metadata": {
    "scrolled": true
   },
   "outputs": [
    {
     "name": "stdout",
     "output_type": "stream",
     "text": [
      "boroujeni_et_al 3\n",
      "chen_cui 13\n",
      "lalle_conati 22\n",
      "marras_et_al 7\n"
     ]
    }
   ],
   "source": [
    "# Loading feature names\n",
    "feature_names= dict()\n",
    "\n",
    "for feature_type in feature_types:\n",
    "    \n",
    "    filepath = data_path + week_type + '-' + feature_type + '-' + course + '/settings.txt'\n",
    "    file = open(filepath, \"r\")\n",
    "    contents = file.read()\n",
    "    dictionary = ast.literal_eval(contents)\n",
    "    file.close()\n",
    "    \n",
    "    feature_type_name = dictionary['feature_names']\n",
    "    if feature_type == 'akpinar_et_al':\n",
    "        akp_mask = np.where(np.isin(feature_type_name, \n",
    "                 [\"TotalClicks\", \"NumberSessions\", \"Time-video-sum\", \"Time-problem-sum\",\n",
    "                  'problem.check-problem.check-problem.check', \n",
    "                  'problem.check-problem.check-video.load', \n",
    "                  'video.play-video.play-video.play',\n",
    "                  'video.play-video.pause-video.load',\n",
    "                  'video.play-problem.check-problem.check',\n",
    "                  'video.play-video.stop-video.play',\n",
    "                  'video.pause-video.speedchange-video.play',\n",
    "                  'video.stop-video.play-video.seek',\n",
    "                  'video.stop-problem.check-video.load']))\n",
    "        print(akp_mask)\n",
    "        feature_type_name = list(np.array(feature_type_name)[akp_mask[0]])\n",
    "        feature_list[course][akpinar_et_al_id] = feature_list[course][akpinar_et_al_id][akp_mask[0]]\n",
    "        \n",
    "    feature_names[feature_type] = feature_type_name\n",
    "    print(feature_type, len(feature_type_name))\n",
    "\n",
    "if remove_obvious: \n",
    "    # drop 'student shape', 'competency strength', 'competency alignment' in marras at al\n",
    "    \n",
    "    mask = np.where(np.isin(feature_names['marras_et_al'], \n",
    "                 ['student_shape', 'competency_strength', 'competency_alignment']))\n",
    "    \n",
    "    new_marras = np.delete(np.array(feature_names['marras_et_al']), mask[0])\n",
    "    feature_names['marras_et_al'] = new_marras\n",
    "    \n",
    "    new_features = feature_list[course][marras_et_al_id].drop(mask[0], axis=1)\n",
    "    feature_list[course][marras_et_al_id] = new_features\n"
   ]
  },
  {
   "cell_type": "code",
   "execution_count": 6,
   "id": "262e9af4",
   "metadata": {},
   "outputs": [],
   "source": [
    "# reformat feature names\n",
    "# ex: time_sessions_<function sum at 0x7f3bd02cc9d0> -> time_sessions_sum\n",
    "def clean_name(feature):\n",
    "    id = feature.find('<')\n",
    "    if id==-1:\n",
    "        return feature\n",
    "    fct = feature[id+9:id+14].strip()\n",
    "    return feature[0:id]+fct\n",
    "\n",
    "\n",
    "for k in feature_names.keys():\n",
    "    cleaned = [clean_name(x) for x in feature_names[k]]\n",
    "    feature_names[k] = cleaned\n"
   ]
  },
  {
   "cell_type": "code",
   "execution_count": 7,
   "id": "64c5c677",
   "metadata": {},
   "outputs": [],
   "source": [
    "def load_labels(course):\n",
    "    feature_type = \"boroujeni_et_al\"\n",
    "    filepath = data_path + week_type + '-' + feature_type + '-' + course + '/feature_labels.csv'\n",
    "    labels = pd.read_csv(filepath)['label-pass-fail']\n",
    "    labels[labels.shape[0]] = 1\n",
    "    return labels.values"
   ]
  },
  {
   "cell_type": "code",
   "execution_count": 8,
   "id": "6b65aee3",
   "metadata": {},
   "outputs": [],
   "source": [
    "# TO CHANGE HERE THE WEEKS NUMBER\n",
    "overwrite_num_weeks = 5"
   ]
  },
  {
   "cell_type": "code",
   "execution_count": 9,
   "id": "f93bc7e2",
   "metadata": {},
   "outputs": [],
   "source": [
    "def load_labels(course):\n",
    "    feature_type = \"boroujeni_et_al\"\n",
    "    filepath = data_path + week_type + '-' + feature_type + '-' + course + '/feature_labels.csv'\n",
    "    labels = pd.read_csv(filepath)['label-pass-fail']\n",
    "    labels[labels.shape[0]] = 1\n",
    "    return labels.values\n",
    "\n",
    "def load_features(course, overwrite_num_weeks):\n",
    "    feature_list = []\n",
    "    selected_features = []\n",
    "    total_features = set()\n",
    "    num_weeks = 0\n",
    "    num_features = 0\n",
    "    for i,feature_type in enumerate(feature_types):\n",
    "        filepath = data_path + week_type + '-' + feature_type + '-' + course \n",
    "        feature_current = np.load(filepath+'/feature_values.npz')['feature_values']\n",
    "        \n",
    "        shape = feature_current.shape\n",
    "#         print(shape)\n",
    "\n",
    "        if remove_obvious and feature_type=='marras_et_al':\n",
    "            feature_current = np.delete(feature_current, mask[0], axis=2)\n",
    "        \n",
    "        if feature_type=='akpinar_et_al':\n",
    "            akp_mask_dl = np.delete(list(range(shape[2])), akp_mask[0])\n",
    "            feature_current = np.delete(feature_current, akp_mask_dl, axis=2)\n",
    "        \n",
    "        shape = feature_current.shape\n",
    "        print(shape)\n",
    "        if i==0:\n",
    "            num_weeks = shape[1]\n",
    "            num_weeks=overwrite_num_weeks\n",
    "        \n",
    "        \n",
    "        selected = np.arange(shape[2])\n",
    "        # drop existed features\n",
    "        exist_mask = []\n",
    "        for i, name in enumerate(feature_names[feature_type]):\n",
    "            if name in total_features:\n",
    "                exist_mask.append(i)\n",
    "            else:\n",
    "                total_features.add(name)\n",
    "        feature_current = np.delete(feature_current, exist_mask, axis=2)\n",
    "        selected = np.delete(selected, exist_mask)\n",
    "        \n",
    "        nonNaN = (shape[0]*shape[1] - np.isnan(feature_current.reshape(-1,feature_current.shape[2])).sum(axis=0) > 0)\n",
    "        feature_current = feature_current[:,:,nonNaN]\n",
    "        selected = selected[nonNaN]\n",
    "        feature_current = fillNaN(feature_current)\n",
    "        nonZero = (abs(feature_current.reshape(-1,feature_current.shape[2])).sum(axis=0)>0)\n",
    "        selected = selected[nonZero]\n",
    "        feature_current = feature_current[:,:overwrite_num_weeks,nonZero]\n",
    "#       print(len(feature_names[feature_type]), selected)\n",
    "        selected_features.append(np.array(feature_names[feature_type])[[selected]])\n",
    "        num_features += len(np.array(feature_names[feature_type])[[selected]])\n",
    "\n",
    "\n",
    "        ##### Normalization with min-max. Added the artifical 1.001 max row for solving the same min max problem\n",
    "        ##### for features with max=0 I added 1 instead of 1.001 of maximum\n",
    "\n",
    "        features_min = feature_current.min(axis=0).reshape(-1)\n",
    "        features_max = feature_current.max(axis=0)\n",
    "        features_max = np.where(features_max==0,np.ones(features_max.shape),features_max)\n",
    "        max_instance = 1.001*features_max\n",
    "        feature_current = np.vstack([feature_current,max_instance.reshape((1,)+max_instance.shape)])\n",
    "        features_max = features_max.reshape(-1)\n",
    "        feature_norm = (feature_current.reshape(shape[0]+1,-1)-features_min)/(1.001*features_max-features_min)\n",
    "        feature_current = feature_norm.reshape(-1,feature_current.shape[1],feature_current.shape[2] )\n",
    "        \n",
    "        num_features += feature_current.shape[2]\n",
    "        print(num_features)\n",
    "        \n",
    "        feature_list.append(feature_current)\n",
    "        \n",
    "    features = np.concatenate(feature_list, axis=2)\n",
    "    features_min = features.min(axis=0).reshape(-1)\n",
    "    features_max = features.max(axis=0)\n",
    "    features = features.reshape(features.shape[0],-1)\n",
    "    features = pd.DataFrame(features)\n",
    "    \n",
    "    SHAPE = features.shape\n",
    "    # print(np.isnan(features[0,0,-1]))\n",
    "    print('features shape:', features.shape)\n",
    "    print('course: ', course)\n",
    "    print('week_type: ', week_type)\n",
    "    print('feature_type: ', feature_types)\n",
    "    print(selected_features)\n",
    "    return features, features_min, features_max, selected_features, overwrite_num_weeks, num_features"
   ]
  },
  {
   "cell_type": "code",
   "execution_count": 10,
   "id": "5d2cec54",
   "metadata": {},
   "outputs": [],
   "source": [
    "y = load_labels(course)"
   ]
  },
  {
   "cell_type": "code",
   "execution_count": 11,
   "id": "630241d7",
   "metadata": {
    "scrolled": true
   },
   "outputs": [
    {
     "name": "stdout",
     "output_type": "stream",
     "text": [
      "(5611, 10, 3)\n",
      "4\n",
      "(5611, 10, 13)\n",
      "18\n",
      "(5611, 10, 22)\n",
      "24\n",
      "(5611, 10, 7)\n",
      "32\n",
      "features shape: (5612, 140)\n",
      "course:  dsp_001\n",
      "week_type:  eq_week\n",
      "feature_type:  ['boroujeni_et_al', 'chen_cui', 'lalle_conati', 'marras_et_al']\n",
      "[array([['regularity_peak_dayhour', 'regularity_periodicity_m1',\n",
      "        'delay_lecture']], dtype='<U25'), array([['total_clicks', 'number_sessions', 'time_sessions_sum',\n",
      "        'time_sessions_mean', 'time_between_sessions_std',\n",
      "        'time_sessions_std', 'total_clicks_weekday',\n",
      "        'total_clicks_weekend', 'ratio_clicks_weekend_day',\n",
      "        'total_clicks_video', 'total_clicks_problem',\n",
      "        'time_in__problem_sum', 'time_in__video_sum']], dtype='<U25'), array([['total_clicks_Video.Load', 'weekly_prop_watched_mean',\n",
      "        'weekly_prop_replayed_mean', 'total_clicks_Video',\n",
      "        'frequency_action_Video.Load']], dtype='<U35'), array([['competency_strength', 'competency_alignment',\n",
      "        'competency_anticipation', 'content_alignment',\n",
      "        'content_anticipation', 'student_speed', 'student_shape']],\n",
      "      dtype='<U23')]\n"
     ]
    }
   ],
   "source": [
    "features, features_min, features_max, selected_features, num_weeks, num_features = load_features(course, overwrite_num_weeks)"
   ]
  },
  {
   "cell_type": "code",
   "execution_count": 12,
   "id": "aa2bde73",
   "metadata": {},
   "outputs": [
    {
     "data": {
      "text/plain": [
       "32"
      ]
     },
     "execution_count": 12,
     "metadata": {},
     "output_type": "execute_result"
    }
   ],
   "source": [
    "num_features"
   ]
  },
  {
   "cell_type": "code",
   "execution_count": 13,
   "id": "1b44265a",
   "metadata": {
    "scrolled": true
   },
   "outputs": [
    {
     "data": {
      "text/plain": [
       "(5612, 140)"
      ]
     },
     "execution_count": 13,
     "metadata": {},
     "output_type": "execute_result"
    }
   ],
   "source": [
    "features.shape"
   ]
  },
  {
   "cell_type": "code",
   "execution_count": 14,
   "id": "ca064c38",
   "metadata": {},
   "outputs": [
    {
     "data": {
      "text/plain": [
       "pandas.core.frame.DataFrame"
      ]
     },
     "execution_count": 14,
     "metadata": {},
     "output_type": "execute_result"
    }
   ],
   "source": [
    "type(features)"
   ]
  },
  {
   "cell_type": "code",
   "execution_count": 15,
   "id": "92328eed",
   "metadata": {},
   "outputs": [],
   "source": [
    "# calculate the number of features\n",
    "n_features = sum([len(x) for x in selected_features])"
   ]
  },
  {
   "cell_type": "code",
   "execution_count": 16,
   "id": "a1bbb007",
   "metadata": {},
   "outputs": [
    {
     "data": {
      "text/plain": [
       "4"
      ]
     },
     "execution_count": 16,
     "metadata": {},
     "output_type": "execute_result"
    }
   ],
   "source": [
    "n_features"
   ]
  },
  {
   "cell_type": "code",
   "execution_count": 17,
   "id": "1c20c54f",
   "metadata": {},
   "outputs": [],
   "source": [
    "feature_dict = dict()\n",
    "for i, feature_type in enumerate(feature_types):\n",
    "    feature_dict[feature_type] = list(selected_features[i])\n",
    "    \n",
    "selected_features = feature_dict\n",
    "# print(selected_features)\n",
    "# file = 'selected_features/' + course + '_after.json'\n",
    "# with open(file, 'w') as f: \n",
    "#     json.dump(selected_features, f)"
   ]
  },
  {
   "cell_type": "code",
   "execution_count": 18,
   "id": "f1b55c53",
   "metadata": {},
   "outputs": [
    {
     "name": "stdout",
     "output_type": "stream",
     "text": [
      "[1, 1, 1, 1]\n"
     ]
    }
   ],
   "source": [
    "num_feature_type = []\n",
    "for feature_type in feature_types:\n",
    "    num_feature_type.append(len(selected_features[feature_type]))\n",
    "print(num_feature_type)"
   ]
  },
  {
   "cell_type": "code",
   "execution_count": 19,
   "id": "b337c04f",
   "metadata": {},
   "outputs": [],
   "source": [
    "# Loading feature names and transforming them to 2D format.\n",
    "feature_names = []\n",
    "final_features = []\n",
    "for i,feature_type in enumerate(feature_types):\n",
    "    [final_features.append(x) for x in selected_features[feature_type]]"
   ]
  },
  {
   "cell_type": "code",
   "execution_count": 20,
   "id": "1bb3ebfc",
   "metadata": {},
   "outputs": [
    {
     "name": "stdout",
     "output_type": "stream",
     "text": [
      "[array(['regularity_peak_dayhour', 'regularity_periodicity_m1',\n",
      "       'delay_lecture'], dtype='<U25'), array(['total_clicks', 'number_sessions', 'time_sessions_sum',\n",
      "       'time_sessions_mean', 'time_between_sessions_std',\n",
      "       'time_sessions_std', 'total_clicks_weekday',\n",
      "       'total_clicks_weekend', 'ratio_clicks_weekend_day',\n",
      "       'total_clicks_video', 'total_clicks_problem',\n",
      "       'time_in__problem_sum', 'time_in__video_sum'], dtype='<U25'), array(['total_clicks_Video.Load', 'weekly_prop_watched_mean',\n",
      "       'weekly_prop_replayed_mean', 'total_clicks_Video',\n",
      "       'frequency_action_Video.Load'], dtype='<U35'), array(['competency_strength', 'competency_alignment',\n",
      "       'competency_anticipation', 'content_alignment',\n",
      "       'content_anticipation', 'student_speed', 'student_shape'],\n",
      "      dtype='<U23')]\n",
      "<class 'list'>\n",
      "<class 'int'>\n"
     ]
    }
   ],
   "source": [
    "flat_final_features = [item for sublist in final_features for item in sublist]\n",
    "print(final_features)\n",
    "print(type(final_features))\n",
    "print(type(num_weeks))"
   ]
  },
  {
   "cell_type": "code",
   "execution_count": 21,
   "id": "769347c3",
   "metadata": {},
   "outputs": [
    {
     "name": "stdout",
     "output_type": "stream",
     "text": [
      "['regularity_peak_dayhour_InWeek1' 'regularity_periodicity_m1_InWeek1'\n",
      " 'delay_lecture_InWeek1' 'total_clicks_InWeek1' 'number_sessions_InWeek1'\n",
      " 'time_sessions_sum_InWeek1' 'time_sessions_mean_InWeek1'\n",
      " 'time_between_sessions_std_InWeek1' 'time_sessions_std_InWeek1'\n",
      " 'total_clicks_weekday_InWeek1' 'total_clicks_weekend_InWeek1'\n",
      " 'ratio_clicks_weekend_day_InWeek1' 'total_clicks_video_InWeek1'\n",
      " 'total_clicks_problem_InWeek1' 'time_in__problem_sum_InWeek1'\n",
      " 'time_in__video_sum_InWeek1' 'total_clicks_Video.Load_InWeek1'\n",
      " 'weekly_prop_watched_mean_InWeek1' 'weekly_prop_replayed_mean_InWeek1'\n",
      " 'total_clicks_Video_InWeek1' 'frequency_action_Video.Load_InWeek1'\n",
      " 'competency_strength_InWeek1' 'competency_alignment_InWeek1'\n",
      " 'competency_anticipation_InWeek1' 'content_alignment_InWeek1'\n",
      " 'content_anticipation_InWeek1' 'student_speed_InWeek1'\n",
      " 'student_shape_InWeek1' 'regularity_peak_dayhour_InWeek2'\n",
      " 'regularity_periodicity_m1_InWeek2' 'delay_lecture_InWeek2'\n",
      " 'total_clicks_InWeek2' 'number_sessions_InWeek2'\n",
      " 'time_sessions_sum_InWeek2' 'time_sessions_mean_InWeek2'\n",
      " 'time_between_sessions_std_InWeek2' 'time_sessions_std_InWeek2'\n",
      " 'total_clicks_weekday_InWeek2' 'total_clicks_weekend_InWeek2'\n",
      " 'ratio_clicks_weekend_day_InWeek2' 'total_clicks_video_InWeek2'\n",
      " 'total_clicks_problem_InWeek2' 'time_in__problem_sum_InWeek2'\n",
      " 'time_in__video_sum_InWeek2' 'total_clicks_Video.Load_InWeek2'\n",
      " 'weekly_prop_watched_mean_InWeek2' 'weekly_prop_replayed_mean_InWeek2'\n",
      " 'total_clicks_Video_InWeek2' 'frequency_action_Video.Load_InWeek2'\n",
      " 'competency_strength_InWeek2' 'competency_alignment_InWeek2'\n",
      " 'competency_anticipation_InWeek2' 'content_alignment_InWeek2'\n",
      " 'content_anticipation_InWeek2' 'student_speed_InWeek2'\n",
      " 'student_shape_InWeek2' 'regularity_peak_dayhour_InWeek3'\n",
      " 'regularity_periodicity_m1_InWeek3' 'delay_lecture_InWeek3'\n",
      " 'total_clicks_InWeek3' 'number_sessions_InWeek3'\n",
      " 'time_sessions_sum_InWeek3' 'time_sessions_mean_InWeek3'\n",
      " 'time_between_sessions_std_InWeek3' 'time_sessions_std_InWeek3'\n",
      " 'total_clicks_weekday_InWeek3' 'total_clicks_weekend_InWeek3'\n",
      " 'ratio_clicks_weekend_day_InWeek3' 'total_clicks_video_InWeek3'\n",
      " 'total_clicks_problem_InWeek3' 'time_in__problem_sum_InWeek3'\n",
      " 'time_in__video_sum_InWeek3' 'total_clicks_Video.Load_InWeek3'\n",
      " 'weekly_prop_watched_mean_InWeek3' 'weekly_prop_replayed_mean_InWeek3'\n",
      " 'total_clicks_Video_InWeek3' 'frequency_action_Video.Load_InWeek3'\n",
      " 'competency_strength_InWeek3' 'competency_alignment_InWeek3'\n",
      " 'competency_anticipation_InWeek3' 'content_alignment_InWeek3'\n",
      " 'content_anticipation_InWeek3' 'student_speed_InWeek3'\n",
      " 'student_shape_InWeek3' 'regularity_peak_dayhour_InWeek4'\n",
      " 'regularity_periodicity_m1_InWeek4' 'delay_lecture_InWeek4'\n",
      " 'total_clicks_InWeek4' 'number_sessions_InWeek4'\n",
      " 'time_sessions_sum_InWeek4' 'time_sessions_mean_InWeek4'\n",
      " 'time_between_sessions_std_InWeek4' 'time_sessions_std_InWeek4'\n",
      " 'total_clicks_weekday_InWeek4' 'total_clicks_weekend_InWeek4'\n",
      " 'ratio_clicks_weekend_day_InWeek4' 'total_clicks_video_InWeek4'\n",
      " 'total_clicks_problem_InWeek4' 'time_in__problem_sum_InWeek4'\n",
      " 'time_in__video_sum_InWeek4' 'total_clicks_Video.Load_InWeek4'\n",
      " 'weekly_prop_watched_mean_InWeek4' 'weekly_prop_replayed_mean_InWeek4'\n",
      " 'total_clicks_Video_InWeek4' 'frequency_action_Video.Load_InWeek4'\n",
      " 'competency_strength_InWeek4' 'competency_alignment_InWeek4'\n",
      " 'competency_anticipation_InWeek4' 'content_alignment_InWeek4'\n",
      " 'content_anticipation_InWeek4' 'student_speed_InWeek4'\n",
      " 'student_shape_InWeek4' 'regularity_peak_dayhour_InWeek5'\n",
      " 'regularity_periodicity_m1_InWeek5' 'delay_lecture_InWeek5'\n",
      " 'total_clicks_InWeek5' 'number_sessions_InWeek5'\n",
      " 'time_sessions_sum_InWeek5' 'time_sessions_mean_InWeek5'\n",
      " 'time_between_sessions_std_InWeek5' 'time_sessions_std_InWeek5'\n",
      " 'total_clicks_weekday_InWeek5' 'total_clicks_weekend_InWeek5'\n",
      " 'ratio_clicks_weekend_day_InWeek5' 'total_clicks_video_InWeek5'\n",
      " 'total_clicks_problem_InWeek5' 'time_in__problem_sum_InWeek5'\n",
      " 'time_in__video_sum_InWeek5' 'total_clicks_Video.Load_InWeek5'\n",
      " 'weekly_prop_watched_mean_InWeek5' 'weekly_prop_replayed_mean_InWeek5'\n",
      " 'total_clicks_Video_InWeek5' 'frequency_action_Video.Load_InWeek5'\n",
      " 'competency_strength_InWeek5' 'competency_alignment_InWeek5'\n",
      " 'competency_anticipation_InWeek5' 'content_alignment_InWeek5'\n",
      " 'content_anticipation_InWeek5' 'student_speed_InWeek5'\n",
      " 'student_shape_InWeek5']\n"
     ]
    }
   ],
   "source": [
    "for i in np.arange(num_weeks):\n",
    "    feature_type_name_with_weeks = [(x+'_InWeek'+str(i+1)) for x in flat_final_features]\n",
    "    feature_names.append(feature_type_name_with_weeks)\n",
    "feature_names = np.concatenate(feature_names, axis=0)\n",
    "feature_names = feature_names.reshape(-1)\n",
    "print(feature_names)\n",
    "features.columns = feature_names"
   ]
  },
  {
   "cell_type": "code",
   "execution_count": 22,
   "id": "73aee2ed",
   "metadata": {},
   "outputs": [
    {
     "data": {
      "text/plain": [
       "(5612, 140)"
      ]
     },
     "execution_count": 22,
     "metadata": {},
     "output_type": "execute_result"
    }
   ],
   "source": [
    "features.shape"
   ]
  },
  {
   "cell_type": "code",
   "execution_count": 23,
   "id": "f16f4489",
   "metadata": {},
   "outputs": [],
   "source": [
    "features.to_csv(f\"{course}_features_5_weeks.csv\", index=False)"
   ]
  },
  {
   "cell_type": "code",
   "execution_count": 24,
   "id": "827d06e0",
   "metadata": {},
   "outputs": [
    {
     "name": "stdout",
     "output_type": "stream",
     "text": [
      "[3, 13, 5, 7]\n"
     ]
    }
   ],
   "source": [
    "# This block loads number of features in each feature set.\n",
    "num_feature_type = []\n",
    "for i,feature_type in enumerate(feature_types):\n",
    "    num_feature_type.append(len(selected_features[feature_type][0]))\n",
    "print(num_feature_type)\n"
   ]
  },
  {
   "cell_type": "markdown",
   "id": "f916d42f",
   "metadata": {},
   "source": [
    "# Making a predict_proba"
   ]
  },
  {
   "cell_type": "code",
   "execution_count": 25,
   "id": "1141431d",
   "metadata": {},
   "outputs": [],
   "source": [
    "# This module transforms our data to the 2D format biLSTM was trained with.\n",
    "def transform_x(x, num_feature_type, num_weeks, features_min, features_max):\n",
    "    x = np.array(x)\n",
    "    num_feature_type = np.array(num_feature_type)\n",
    "    num_features = num_feature_type.sum()\n",
    "    x = x.reshape((-1, num_weeks, num_features))\n",
    "    shape = x.shape\n",
    "    features_max = np.where(\n",
    "        features_max == 0, np.ones(features_max.shape), features_max\n",
    "    )\n",
    "    max_instance = 1.001 * features_max\n",
    "    feature_current = np.vstack([x, max_instance.reshape((1,) + max_instance.shape)])\n",
    "    features_max = features_max.reshape(-1)\n",
    "    feature_norm = (feature_current.reshape(shape[0] + 1, -1) - features_min) / (\n",
    "        1.001 * features_max - features_min\n",
    "    )\n",
    "    x = feature_norm[: feature_norm.shape[0] - 1, :]\n",
    "    return x"
   ]
  },
  {
   "cell_type": "code",
   "execution_count": 26,
   "id": "2d0af066",
   "metadata": {},
   "outputs": [
    {
     "name": "stdout",
     "output_type": "stream",
     "text": [
      "(5612, 140)\n"
     ]
    },
    {
     "name": "stderr",
     "output_type": "stream",
     "text": [
      "2024-07-23 10:25:51.480041: I metal_plugin/src/device/metal_device.cc:1154] Metal device set to: Apple M2 Pro\n",
      "2024-07-23 10:25:51.480061: I metal_plugin/src/device/metal_device.cc:296] systemMemory: 16.00 GB\n",
      "2024-07-23 10:25:51.480066: I metal_plugin/src/device/metal_device.cc:313] maxCacheSize: 5.33 GB\n",
      "2024-07-23 10:25:51.480105: I tensorflow/core/common_runtime/pluggable_device/pluggable_device_factory.cc:303] Could not identify NUMA node of platform GPU ID 0, defaulting to 0. Your kernel may not have been built with NUMA support.\n",
      "2024-07-23 10:25:51.480133: I tensorflow/core/common_runtime/pluggable_device/pluggable_device_factory.cc:269] Created TensorFlow device (/job:localhost/replica:0/task:0/device:GPU:0 with 0 MB memory) -> physical PluggableDevice (device: 0, name: METAL, pci bus id: <undefined>)\n",
      "2024-07-23 10:25:52.337179: W tensorflow/core/common_runtime/graph_constructor.cc:834] Node 'cond/while' has 13 outputs but the _output_shapes attribute specifies shapes for 46 outputs. Output shapes may be inaccurate.\n",
      "2024-07-23 10:25:52.559285: W tensorflow/core/common_runtime/graph_constructor.cc:834] Node 'cond/while' has 13 outputs but the _output_shapes attribute specifies shapes for 46 outputs. Output shapes may be inaccurate.\n",
      "2024-07-23 10:25:52.983416: W tensorflow/core/common_runtime/graph_constructor.cc:834] Node 'cond/while' has 14 outputs but the _output_shapes attribute specifies shapes for 48 outputs. Output shapes may be inaccurate.\n",
      "2024-07-23 10:25:52.988111: W tensorflow/core/common_runtime/graph_constructor.cc:834] Node 'cond' has 5 outputs but the _output_shapes attribute specifies shapes for 48 outputs. Output shapes may be inaccurate.\n",
      "2024-07-23 10:25:53.177658: W tensorflow/core/common_runtime/graph_constructor.cc:834] Node 'cond' has 5 outputs but the _output_shapes attribute specifies shapes for 46 outputs. Output shapes may be inaccurate.\n",
      "2024-07-23 10:25:53.510413: W tensorflow/core/common_runtime/graph_constructor.cc:834] Node 'cond' has 5 outputs but the _output_shapes attribute specifies shapes for 46 outputs. Output shapes may be inaccurate.\n",
      "2024-07-23 10:25:53.672679: W tensorflow/core/common_runtime/graph_constructor.cc:834] Node 'cond/while' has 14 outputs but the _output_shapes attribute specifies shapes for 48 outputs. Output shapes may be inaccurate.\n",
      "2024-07-23 10:25:53.677253: W tensorflow/core/common_runtime/graph_constructor.cc:834] Node 'cond' has 5 outputs but the _output_shapes attribute specifies shapes for 48 outputs. Output shapes may be inaccurate.\n"
     ]
    }
   ],
   "source": [
    "print(features.shape)\n",
    "# EDIT HERE FOR OTHER MODELS\n",
    "model_path = 'models/'\n",
    "model_name = model_path + \"lstm_bi_\"+ course + \"_\" + str(overwrite_num_weeks) + \"_weeks\"\n",
    "\n",
    "# Original\n",
    "loaded_model=keras.models.load_model(model_name)\n",
    "\n",
    "#loaded_model=tf.saved_model.load(\"models/lstm_bi_dsp_001_1710780636.1417_3_weeks_test.keras\")\n"
   ]
  },
  {
   "cell_type": "code",
   "execution_count": 27,
   "id": "b43d1b64",
   "metadata": {},
   "outputs": [
    {
     "name": "stdout",
     "output_type": "stream",
     "text": [
      "(None, 140)\n"
     ]
    }
   ],
   "source": [
    "config = loaded_model.get_config() # Returns pretty much every information about your model\n",
    "print(config[\"layers\"][0][\"config\"][\"batch_input_shape\"])"
   ]
  },
  {
   "cell_type": "code",
   "execution_count": 28,
   "id": "ce4b6d54",
   "metadata": {},
   "outputs": [],
   "source": [
    "# This lambda returns a (NUM OF INSTANCES,2) array of prob of pass in first column and prob of fail in another column\n",
    "# This lambda returns a (NUM OF INSTANCES,2) array of prob of pass in first column and prob of fail in another column\n",
    "predict_fn = lambda x: np.array(\n",
    "    [[1-loaded_model.predict(transform_x(x,num_feature_type,num_weeks,features_min,features_max))],\n",
    "     [loaded_model.predict(transform_x(x,num_feature_type,num_weeks,features_min,features_max))]]).reshape(2,-1).T\n"
   ]
  },
  {
   "cell_type": "markdown",
   "id": "9283a719",
   "metadata": {},
   "source": [
    "## Creating a LIME tabular explainer for the Loaded features "
   ]
  },
  {
   "cell_type": "code",
   "execution_count": 29,
   "id": "f3c88b08",
   "metadata": {},
   "outputs": [],
   "source": [
    "def show_all_in_notebook(explainers,instances,real_labels,features,num_weeks,num_feature_type,group):\n",
    "    for i,exp in enumerate(explainers):\n",
    "        print(\"For instance number {i:d} the explanation is as follows:\".format(i=instances[i]))\n",
    "        s = 'fail' if real_labels[instances[i]] else 'pass'\n",
    "        print(\"The real label for this instance is {}\".format(s))\n",
    "        p = predict_fn(features[instances[i],:])\n",
    "        s = 'fail' if p[0,1]>0.5 else 'pass'\n",
    "        print('The model predicted label for this instance is {} ({:.2f})'.format(s,max(p[0,:])))\n",
    "        exp.show_in_notebook()\n",
    "        h = exp.as_html()\n",
    "        if (group == 'r'):\n",
    "            if not os.path.exists('./uniform_eq_results_ori/LIME/RandomPick/notebookExps/'):\n",
    "                os.makedirs('./uniform_eq_results_ori/LIME/RandomPick/notebookExps/')\n",
    "            Html_file= open(\"./uniform_eq_results_ori/LIME/RandomPick/notebookExps/\"+str(instances[i])+\".html\",\"w\")\n",
    "            Html_file.write(h)\n",
    "            Html_file.close()\n",
    "        elif (group == 's'):\n",
    "            if not os.path.exists('./uniform_eq_results_ori/LIME/SubmodularPick/notebookExps/'):\n",
    "                os.makedirs('./uniform_eq_results_ori/LIME/SubmodularPick/notebookExps/')\n",
    "            Html_file= open(\"./uniform_eq_results_ori/LIME/SubmodularPick/notebookExps/\"+str(instances[i])+\".html\",\"w\")\n",
    "            Html_file.write(h)\n",
    "            Html_file.close()\n",
    "        else:\n",
    "            if not os.path.exists('./uniform_eq_results_ori/LIME/notebookExps/'):\n",
    "                os.makedirs('./uniform_eq_results_ori/LIME/notebookExps/')\n",
    "            Html_file= open(\"./uniform_eq_results_ori/LIME/notebookExps/\"+str(instances[i])+\".html\",\"w\")\n",
    "            Html_file.write(h)\n",
    "            Html_file.close()\n",
    "    return"
   ]
  },
  {
   "cell_type": "code",
   "execution_count": 30,
   "id": "d8819e02",
   "metadata": {},
   "outputs": [],
   "source": [
    "def pyplot_all(explainers,instances,real_labels,group):\n",
    "    import matplotlib.pyplot as plt\n",
    "\n",
    "    for i,exp in enumerate(explainers):\n",
    "        s='fail' if real_labels[instances[i]] else 'pass'\n",
    "        label=exp.available_labels()[0]\n",
    "        expl = exp.as_list(label=label)\n",
    "        fig = plt.figure(facecolor='white')\n",
    "        vals = [x[1] for x in expl]\n",
    "        names = [x[0] for x in expl]\n",
    "#         print(i,vals, names)\n",
    "        \n",
    "        vals.reverse()\n",
    "        names.reverse()\n",
    "        colors = ['green' if x > 0 else 'red' for x in vals]\n",
    "        pos = np.arange(len(expl)) + .5\n",
    "        \n",
    "        plt.barh(pos, vals, align='center', color=colors)\n",
    "        plt.yticks(pos, names)\n",
    "        if exp.mode == \"classification\":\n",
    "            title = 'Local explanation for class %s for instance %d with real class %s' % (exp.class_names[label],instances[i],s)\n",
    "        else:\n",
    "            title = 'Local explanation'\n",
    "        plt.title(title)\n",
    "        \n",
    "        if (group == 'r'):\n",
    "            if not os.path.exists('./uniform_eq_results_ori/LIME/RandomPick/pyplots/'):\n",
    "                os.makedirs('./uniform_eq_results_ori/LIME/RandomPick/pyplots/')\n",
    "            plt.savefig(\"./uniform_eq_results_ori/LIME/RandomPick/pyplots/\"+str(instances[i])+\".png\", bbox_inches = 'tight', facecolor=fig.get_facecolor())\n",
    "        elif (group == 's'):\n",
    "            if not os.path.exists('./uniform_eq_results_ori/LIME/SubmodularPick/pyplots/'):\n",
    "                os.makedirs('./uniform_eq_results_ori/LIME/SubmodularPick/pyplots/')\n",
    "            plt.savefig(\"./uniform_eq_results_ori/LIME/SubmodularPick/pyplots/\"+str(instances[i])+\".png\", bbox_inches = 'tight', facecolor=fig.get_facecolor())\n",
    "        else:\n",
    "            if not os.path.exists(\"./uniform_eq_results_ori/LIME/\" +course + \"/pyplots/\"):\n",
    "                os.makedirs(\"./uniform_eq_results_ori/LIME/\" +course + \"/pyplots/\")\n",
    "            plt.savefig(\"./uniform_eq_results_ori/LIME/\" +course + \"/pyplots/\"+str(instances[i])+\".png\", bbox_inches = 'tight', facecolor=fig.get_facecolor())\n",
    "    return\n",
    "                            "
   ]
  },
  {
   "cell_type": "code",
   "execution_count": 31,
   "id": "ba2a2798",
   "metadata": {},
   "outputs": [],
   "source": [
    "def DataFrame_all(explainers,instances,real_labels,group):\n",
    "    df=pd.DataFrame({})\n",
    "    class_names=['pass', 'fail']\n",
    "    dfl=[]\n",
    "    for i,exp in enumerate(explainers):\n",
    "        this_label=exp.available_labels()[0]\n",
    "        l=[]\n",
    "        l.append((\"exp number\",instances[i]))\n",
    "        l.append((\"real value\",'fail' if real_labels[instances[i]] else 'pass'))\n",
    "        l.extend(exp.as_list(label=this_label))\n",
    "        dfl.append(dict(l))\n",
    "    df=pd.DataFrame(dfl)\n",
    "    dfl=[pd.DataFrame.from_dict(x, orient='index') for x in dfl]\n",
    "    for i,x in enumerate(dfl):\n",
    "        if (group == 'r'):\n",
    "            if not os.path.exists('./uniform_eq_results_ori/LIME/RandomPick/dataframes/'):\n",
    "                os.makedirs('./uniform_eq_results_ori/LIME/RandomPick/dataframes/')\n",
    "            x.to_csv(r\"./uniform_eq_results_ori/LIME/RandomPick/dataframes/\"+str(instances[i])+'.csv')\n",
    "        elif (group == 's'):\n",
    "            if not os.path.exists('./uniform_eq_results_ori/LIME/SubmodularPick/dataframes/'):\n",
    "                os.makedirs('./uniform_eq_results_ori/LIME/SubmodularPick/dataframes/')\n",
    "            x.to_csv(r\"./uniform_eq_results_ori/LIME/SubmodularPick/dataframes/\"+str(instances[i])+'.csv')\n",
    "        else:\n",
    "            if not os.path.exists(\"./uniform_eq_results_ori/LIME/\" + course + \"/dataframes/\"):\n",
    "                os.makedirs(\"./uniform_eq_results_ori/LIME/\" + course + \"/dataframes/\")\n",
    "            x.to_csv(r\"./uniform_eq_results_ori/LIME/\" + course + \"/dataframes/\"+str(instances[i])+'.csv')\n",
    "    # for x in dfl:\n",
    "    #     display(x.head(len(instances)))\n",
    "    return df,dfl\n"
   ]
  },
  {
   "cell_type": "markdown",
   "id": "eb41640d",
   "metadata": {},
   "source": [
    "# LIME training"
   ]
  },
  {
   "cell_type": "code",
   "execution_count": 32,
   "id": "802bcfc5",
   "metadata": {},
   "outputs": [
    {
     "name": "stderr",
     "output_type": "stream",
     "text": [
      "2024-07-23 10:26:03.384412: I tensorflow/core/grappler/optimizers/custom_graph_optimizer_registry.cc:114] Plugin optimizer for device_type GPU is enabled.\n",
      "2024-07-23 10:26:03.800182: I tensorflow/core/grappler/optimizers/custom_graph_optimizer_registry.cc:114] Plugin optimizer for device_type GPU is enabled.\n",
      "2024-07-23 10:26:03.860318: I tensorflow/core/grappler/optimizers/custom_graph_optimizer_registry.cc:114] Plugin optimizer for device_type GPU is enabled.\n",
      "2024-07-23 10:26:03.993765: I tensorflow/core/grappler/optimizers/custom_graph_optimizer_registry.cc:114] Plugin optimizer for device_type GPU is enabled.\n"
     ]
    },
    {
     "name": "stdout",
     "output_type": "stream",
     "text": [
      "1/1 [==============================] - 2s 2s/step\n"
     ]
    },
    {
     "name": "stderr",
     "output_type": "stream",
     "text": [
      "2024-07-23 10:26:04.053579: I tensorflow/core/grappler/optimizers/custom_graph_optimizer_registry.cc:114] Plugin optimizer for device_type GPU is enabled.\n"
     ]
    },
    {
     "data": {
      "text/plain": [
       "array([[0.00271773]], dtype=float32)"
      ]
     },
     "execution_count": 32,
     "metadata": {},
     "output_type": "execute_result"
    }
   ],
   "source": [
    "group = 'UniformPick'\n",
    "single_student=features.iloc[0].values\n",
    "type(single_student)\n",
    "example = single_student.reshape(1, -1)\n",
    "example.shape\n",
    "prediction = loaded_model.predict(example)\n",
    "prediction"
   ]
  },
  {
   "cell_type": "code",
   "execution_count": 33,
   "id": "76abdf1f",
   "metadata": {},
   "outputs": [],
   "source": [
    "def get_student_ids_from_indices(indices, course):\n",
    "    # Load the mapping file\n",
    "    mapping = pd.read_csv(f\"data/user_id_mapping-{course}.csv\")\n",
    "    \n",
    "    # Filter the DataFrame based on the indices\n",
    "    filtered_mapping = mapping.iloc[indices]\n",
    "    \n",
    "    # Get the user_ids corresponding to the provided indices\n",
    "    student_ids = filtered_mapping['user_id'].tolist()\n",
    "    \n",
    "    return student_ids"
   ]
  },
  {
   "cell_type": "code",
   "execution_count": 34,
   "id": "c3553508",
   "metadata": {},
   "outputs": [],
   "source": [
    "def get_indices_from_student_ids(student_ids, course):\n",
    "    # Load the mapping file\n",
    "    mapping = pd.read_csv(f\"data/user_id_mapping-{course}.csv\")\n",
    "    \n",
    "    # Filter the DataFrame based on the user_id values in student_ids\n",
    "    filtered_mapping = mapping[mapping['user_id'].isin(student_ids)]\n",
    "    \n",
    "    # Get the indices and save them as a new list\n",
    "    indices = filtered_mapping.index.tolist()\n",
    "    \n",
    "    return indices\n"
   ]
  },
  {
   "cell_type": "code",
   "execution_count": 109,
   "id": "77bcac36",
   "metadata": {},
   "outputs": [
    {
     "data": {
      "text/plain": [
       "[5192, 6478, 8286, 9749, 13359]"
      ]
     },
     "execution_count": 109,
     "metadata": {},
     "output_type": "execute_result"
    }
   ],
   "source": [
    "# samples_id=pd.read_csv(\"data/\"+str(course) + \"_sample_5.csv\")\n",
    "\n",
    "# # Select only the \"user_id\" column\n",
    "# samples = np.array(samples_id['user_id'])\n",
    "# samples\n",
    "\n",
    "# # Load the mapping file\n",
    "# mapping = pd.read_csv(\"data/user_id_mapping-\"+str(course)+\".csv\")\n",
    "\n",
    "# # Filter the DataFrame based on the user_id values in instances\n",
    "# filtered_mapping = mapping[mapping['user_id'].isin(samples)]\n",
    "\n",
    "# # Get the indices and save them as a new list\n",
    "# instances = filtered_mapping.index.tolist()\n",
    "# instances"
   ]
  },
  {
   "cell_type": "code",
   "execution_count": 35,
   "id": "8c3411e9",
   "metadata": {},
   "outputs": [
    {
     "ename": "FileNotFoundError",
     "evalue": "[Errno 2] No such file or directory: 'data/dsp_001_sample_5.csv'",
     "output_type": "error",
     "traceback": [
      "\u001b[0;31m---------------------------------------------------------------------------\u001b[0m",
      "\u001b[0;31mFileNotFoundError\u001b[0m                         Traceback (most recent call last)",
      "Cell \u001b[0;32mIn[35], line 16\u001b[0m\n\u001b[1;32m     13\u001b[0m \u001b[38;5;66;03m# Remove the other columns except 'feature_index' and 'original_index'\u001b[39;00m\n\u001b[1;32m     14\u001b[0m index \u001b[38;5;241m=\u001b[39m index[[\u001b[38;5;124m'\u001b[39m\u001b[38;5;124mfeature_index\u001b[39m\u001b[38;5;124m'\u001b[39m, \u001b[38;5;124m'\u001b[39m\u001b[38;5;124moriginal_index\u001b[39m\u001b[38;5;124m'\u001b[39m]]\n\u001b[0;32m---> 16\u001b[0m samples_id\u001b[38;5;241m=\u001b[39mpd\u001b[38;5;241m.\u001b[39mread_csv(\u001b[38;5;124m\"\u001b[39m\u001b[38;5;124mdata/\u001b[39m\u001b[38;5;124m\"\u001b[39m\u001b[38;5;241m+\u001b[39m\u001b[38;5;28mstr\u001b[39m(course) \u001b[38;5;241m+\u001b[39m \u001b[38;5;124m\"\u001b[39m\u001b[38;5;124m_sample_5.csv\u001b[39m\u001b[38;5;124m\"\u001b[39m)\n\u001b[1;32m     17\u001b[0m samples_id\n\u001b[1;32m     19\u001b[0m \u001b[38;5;66;03m# USE THIS INDEX MAPPING TO GET THE INDEX IN THE FEATURES\u001b[39;00m\n",
      "File \u001b[0;32m~/anaconda3/envs/xai/lib/python3.11/site-packages/pandas/io/parsers/readers.py:1026\u001b[0m, in \u001b[0;36mread_csv\u001b[0;34m(filepath_or_buffer, sep, delimiter, header, names, index_col, usecols, dtype, engine, converters, true_values, false_values, skipinitialspace, skiprows, skipfooter, nrows, na_values, keep_default_na, na_filter, verbose, skip_blank_lines, parse_dates, infer_datetime_format, keep_date_col, date_parser, date_format, dayfirst, cache_dates, iterator, chunksize, compression, thousands, decimal, lineterminator, quotechar, quoting, doublequote, escapechar, comment, encoding, encoding_errors, dialect, on_bad_lines, delim_whitespace, low_memory, memory_map, float_precision, storage_options, dtype_backend)\u001b[0m\n\u001b[1;32m   1013\u001b[0m kwds_defaults \u001b[38;5;241m=\u001b[39m _refine_defaults_read(\n\u001b[1;32m   1014\u001b[0m     dialect,\n\u001b[1;32m   1015\u001b[0m     delimiter,\n\u001b[0;32m   (...)\u001b[0m\n\u001b[1;32m   1022\u001b[0m     dtype_backend\u001b[38;5;241m=\u001b[39mdtype_backend,\n\u001b[1;32m   1023\u001b[0m )\n\u001b[1;32m   1024\u001b[0m kwds\u001b[38;5;241m.\u001b[39mupdate(kwds_defaults)\n\u001b[0;32m-> 1026\u001b[0m \u001b[38;5;28;01mreturn\u001b[39;00m _read(filepath_or_buffer, kwds)\n",
      "File \u001b[0;32m~/anaconda3/envs/xai/lib/python3.11/site-packages/pandas/io/parsers/readers.py:620\u001b[0m, in \u001b[0;36m_read\u001b[0;34m(filepath_or_buffer, kwds)\u001b[0m\n\u001b[1;32m    617\u001b[0m _validate_names(kwds\u001b[38;5;241m.\u001b[39mget(\u001b[38;5;124m\"\u001b[39m\u001b[38;5;124mnames\u001b[39m\u001b[38;5;124m\"\u001b[39m, \u001b[38;5;28;01mNone\u001b[39;00m))\n\u001b[1;32m    619\u001b[0m \u001b[38;5;66;03m# Create the parser.\u001b[39;00m\n\u001b[0;32m--> 620\u001b[0m parser \u001b[38;5;241m=\u001b[39m TextFileReader(filepath_or_buffer, \u001b[38;5;241m*\u001b[39m\u001b[38;5;241m*\u001b[39mkwds)\n\u001b[1;32m    622\u001b[0m \u001b[38;5;28;01mif\u001b[39;00m chunksize \u001b[38;5;129;01mor\u001b[39;00m iterator:\n\u001b[1;32m    623\u001b[0m     \u001b[38;5;28;01mreturn\u001b[39;00m parser\n",
      "File \u001b[0;32m~/anaconda3/envs/xai/lib/python3.11/site-packages/pandas/io/parsers/readers.py:1620\u001b[0m, in \u001b[0;36mTextFileReader.__init__\u001b[0;34m(self, f, engine, **kwds)\u001b[0m\n\u001b[1;32m   1617\u001b[0m     \u001b[38;5;28mself\u001b[39m\u001b[38;5;241m.\u001b[39moptions[\u001b[38;5;124m\"\u001b[39m\u001b[38;5;124mhas_index_names\u001b[39m\u001b[38;5;124m\"\u001b[39m] \u001b[38;5;241m=\u001b[39m kwds[\u001b[38;5;124m\"\u001b[39m\u001b[38;5;124mhas_index_names\u001b[39m\u001b[38;5;124m\"\u001b[39m]\n\u001b[1;32m   1619\u001b[0m \u001b[38;5;28mself\u001b[39m\u001b[38;5;241m.\u001b[39mhandles: IOHandles \u001b[38;5;241m|\u001b[39m \u001b[38;5;28;01mNone\u001b[39;00m \u001b[38;5;241m=\u001b[39m \u001b[38;5;28;01mNone\u001b[39;00m\n\u001b[0;32m-> 1620\u001b[0m \u001b[38;5;28mself\u001b[39m\u001b[38;5;241m.\u001b[39m_engine \u001b[38;5;241m=\u001b[39m \u001b[38;5;28mself\u001b[39m\u001b[38;5;241m.\u001b[39m_make_engine(f, \u001b[38;5;28mself\u001b[39m\u001b[38;5;241m.\u001b[39mengine)\n",
      "File \u001b[0;32m~/anaconda3/envs/xai/lib/python3.11/site-packages/pandas/io/parsers/readers.py:1880\u001b[0m, in \u001b[0;36mTextFileReader._make_engine\u001b[0;34m(self, f, engine)\u001b[0m\n\u001b[1;32m   1878\u001b[0m     \u001b[38;5;28;01mif\u001b[39;00m \u001b[38;5;124m\"\u001b[39m\u001b[38;5;124mb\u001b[39m\u001b[38;5;124m\"\u001b[39m \u001b[38;5;129;01mnot\u001b[39;00m \u001b[38;5;129;01min\u001b[39;00m mode:\n\u001b[1;32m   1879\u001b[0m         mode \u001b[38;5;241m+\u001b[39m\u001b[38;5;241m=\u001b[39m \u001b[38;5;124m\"\u001b[39m\u001b[38;5;124mb\u001b[39m\u001b[38;5;124m\"\u001b[39m\n\u001b[0;32m-> 1880\u001b[0m \u001b[38;5;28mself\u001b[39m\u001b[38;5;241m.\u001b[39mhandles \u001b[38;5;241m=\u001b[39m get_handle(\n\u001b[1;32m   1881\u001b[0m     f,\n\u001b[1;32m   1882\u001b[0m     mode,\n\u001b[1;32m   1883\u001b[0m     encoding\u001b[38;5;241m=\u001b[39m\u001b[38;5;28mself\u001b[39m\u001b[38;5;241m.\u001b[39moptions\u001b[38;5;241m.\u001b[39mget(\u001b[38;5;124m\"\u001b[39m\u001b[38;5;124mencoding\u001b[39m\u001b[38;5;124m\"\u001b[39m, \u001b[38;5;28;01mNone\u001b[39;00m),\n\u001b[1;32m   1884\u001b[0m     compression\u001b[38;5;241m=\u001b[39m\u001b[38;5;28mself\u001b[39m\u001b[38;5;241m.\u001b[39moptions\u001b[38;5;241m.\u001b[39mget(\u001b[38;5;124m\"\u001b[39m\u001b[38;5;124mcompression\u001b[39m\u001b[38;5;124m\"\u001b[39m, \u001b[38;5;28;01mNone\u001b[39;00m),\n\u001b[1;32m   1885\u001b[0m     memory_map\u001b[38;5;241m=\u001b[39m\u001b[38;5;28mself\u001b[39m\u001b[38;5;241m.\u001b[39moptions\u001b[38;5;241m.\u001b[39mget(\u001b[38;5;124m\"\u001b[39m\u001b[38;5;124mmemory_map\u001b[39m\u001b[38;5;124m\"\u001b[39m, \u001b[38;5;28;01mFalse\u001b[39;00m),\n\u001b[1;32m   1886\u001b[0m     is_text\u001b[38;5;241m=\u001b[39mis_text,\n\u001b[1;32m   1887\u001b[0m     errors\u001b[38;5;241m=\u001b[39m\u001b[38;5;28mself\u001b[39m\u001b[38;5;241m.\u001b[39moptions\u001b[38;5;241m.\u001b[39mget(\u001b[38;5;124m\"\u001b[39m\u001b[38;5;124mencoding_errors\u001b[39m\u001b[38;5;124m\"\u001b[39m, \u001b[38;5;124m\"\u001b[39m\u001b[38;5;124mstrict\u001b[39m\u001b[38;5;124m\"\u001b[39m),\n\u001b[1;32m   1888\u001b[0m     storage_options\u001b[38;5;241m=\u001b[39m\u001b[38;5;28mself\u001b[39m\u001b[38;5;241m.\u001b[39moptions\u001b[38;5;241m.\u001b[39mget(\u001b[38;5;124m\"\u001b[39m\u001b[38;5;124mstorage_options\u001b[39m\u001b[38;5;124m\"\u001b[39m, \u001b[38;5;28;01mNone\u001b[39;00m),\n\u001b[1;32m   1889\u001b[0m )\n\u001b[1;32m   1890\u001b[0m \u001b[38;5;28;01massert\u001b[39;00m \u001b[38;5;28mself\u001b[39m\u001b[38;5;241m.\u001b[39mhandles \u001b[38;5;129;01mis\u001b[39;00m \u001b[38;5;129;01mnot\u001b[39;00m \u001b[38;5;28;01mNone\u001b[39;00m\n\u001b[1;32m   1891\u001b[0m f \u001b[38;5;241m=\u001b[39m \u001b[38;5;28mself\u001b[39m\u001b[38;5;241m.\u001b[39mhandles\u001b[38;5;241m.\u001b[39mhandle\n",
      "File \u001b[0;32m~/anaconda3/envs/xai/lib/python3.11/site-packages/pandas/io/common.py:873\u001b[0m, in \u001b[0;36mget_handle\u001b[0;34m(path_or_buf, mode, encoding, compression, memory_map, is_text, errors, storage_options)\u001b[0m\n\u001b[1;32m    868\u001b[0m \u001b[38;5;28;01melif\u001b[39;00m \u001b[38;5;28misinstance\u001b[39m(handle, \u001b[38;5;28mstr\u001b[39m):\n\u001b[1;32m    869\u001b[0m     \u001b[38;5;66;03m# Check whether the filename is to be opened in binary mode.\u001b[39;00m\n\u001b[1;32m    870\u001b[0m     \u001b[38;5;66;03m# Binary mode does not support 'encoding' and 'newline'.\u001b[39;00m\n\u001b[1;32m    871\u001b[0m     \u001b[38;5;28;01mif\u001b[39;00m ioargs\u001b[38;5;241m.\u001b[39mencoding \u001b[38;5;129;01mand\u001b[39;00m \u001b[38;5;124m\"\u001b[39m\u001b[38;5;124mb\u001b[39m\u001b[38;5;124m\"\u001b[39m \u001b[38;5;129;01mnot\u001b[39;00m \u001b[38;5;129;01min\u001b[39;00m ioargs\u001b[38;5;241m.\u001b[39mmode:\n\u001b[1;32m    872\u001b[0m         \u001b[38;5;66;03m# Encoding\u001b[39;00m\n\u001b[0;32m--> 873\u001b[0m         handle \u001b[38;5;241m=\u001b[39m \u001b[38;5;28mopen\u001b[39m(\n\u001b[1;32m    874\u001b[0m             handle,\n\u001b[1;32m    875\u001b[0m             ioargs\u001b[38;5;241m.\u001b[39mmode,\n\u001b[1;32m    876\u001b[0m             encoding\u001b[38;5;241m=\u001b[39mioargs\u001b[38;5;241m.\u001b[39mencoding,\n\u001b[1;32m    877\u001b[0m             errors\u001b[38;5;241m=\u001b[39merrors,\n\u001b[1;32m    878\u001b[0m             newline\u001b[38;5;241m=\u001b[39m\u001b[38;5;124m\"\u001b[39m\u001b[38;5;124m\"\u001b[39m,\n\u001b[1;32m    879\u001b[0m         )\n\u001b[1;32m    880\u001b[0m     \u001b[38;5;28;01melse\u001b[39;00m:\n\u001b[1;32m    881\u001b[0m         \u001b[38;5;66;03m# Binary mode\u001b[39;00m\n\u001b[1;32m    882\u001b[0m         handle \u001b[38;5;241m=\u001b[39m \u001b[38;5;28mopen\u001b[39m(handle, ioargs\u001b[38;5;241m.\u001b[39mmode)\n",
      "\u001b[0;31mFileNotFoundError\u001b[0m: [Errno 2] No such file or directory: 'data/dsp_001_sample_5.csv'"
     ]
    }
   ],
   "source": [
    "############################################## CODE TO GET THE INDICES OF THE FEATURES\n",
    "# I pick any feature set here and take the indices that are not easy fail\n",
    "index=pd.read_csv(\"../easy-fail/eq_week-chen_cui-\" + str(course) + \"/feature_labels.csv\",)\n",
    "index\n",
    "\n",
    "# Make the index a column called 'feature_index'\n",
    "index.reset_index(inplace=True)\n",
    "index.rename(columns={'index': 'feature_index'}, inplace=True)\n",
    "\n",
    "# Rename 'Unnamed: 0' to 'original_index'\n",
    "index.rename(columns={'Unnamed: 0': 'original_index'}, inplace=True)\n",
    "\n",
    "# Remove the other columns except 'feature_index' and 'original_index'\n",
    "index = index[['feature_index', 'original_index']]\n",
    "\n",
    "samples_id=pd.read_csv(\"data/\"+str(course) + \"_sample_5.csv\")\n",
    "samples_id\n",
    "\n",
    "# USE THIS INDEX MAPPING TO GET THE INDEX IN THE FEATURES\n",
    "index_mapping = dict(zip(index['original_index'], index['feature_index']))\n",
    "index_mapping\n",
    "\n",
    "samples_id=pd.read_csv(\"data/\"+str(course) + \"_sample_5.csv\")\n",
    "\n",
    "samples_id['feature_index'] = samples_id['original_index'].map(index_mapping)\n",
    "\n",
    "instances=samples_id['feature_index'].values\n",
    "assert np.all(instances < features.shape[0])"
   ]
  },
  {
   "cell_type": "code",
   "execution_count": 37,
   "id": "2013f316",
   "metadata": {},
   "outputs": [],
   "source": [
    "# This module makes tabular lime explainer with instance numbers given to it.\n",
    "def instance_explainer(instance_numbers,features,feature_names,class_names,predict_fn, \n",
    "                       num_features=20,mode='classification',\n",
    "                       discretize_continuous=True, num_samples=5000, \n",
    "                       distance_metric='euclidean', model_regressor=None, sampling_method='gaussian'):\n",
    "    explainers=[]\n",
    "    features=np.array(features)\n",
    "    feature_names=np.array(feature_names).reshape(-1)\n",
    "    explainer = lime_tabular.LimeTabularExplainer(\n",
    "      training_data=features,\n",
    "      feature_names=feature_names,\n",
    "      class_names=class_names,\n",
    "      mode=mode,\n",
    "      discretize_continuous=discretize_continuous\n",
    "    )\n",
    "    for i in instance_numbers:\n",
    "        exp = explainer.explain_instance(features[i], predict_fn, num_features=num_features)\n",
    "        explainers.append(exp)\n",
    "    return explainers\n"
   ]
  },
  {
   "cell_type": "code",
   "execution_count": 38,
   "id": "60181329",
   "metadata": {
    "scrolled": true
   },
   "outputs": [
    {
     "name": "stdout",
     "output_type": "stream",
     "text": [
      "training explainer\n",
      "157/157 [==============================] - 8s 49ms/step\n",
      "157/157 [==============================] - 7s 47ms/step\n",
      "15.86029314994812\n"
     ]
    }
   ],
   "source": [
    "print('training explainer')\n",
    "\n",
    "\n",
    "import time\n",
    "start = time.time()\n",
    "class_names=['pass', 'fail']\n",
    "explainers=instance_explainer(instances,features,feature_names,class_names,predict_fn)\n",
    "end = time.time()\n",
    "print(end - start)\n"
   ]
  },
  {
   "cell_type": "code",
   "execution_count": 39,
   "id": "1b43db63",
   "metadata": {},
   "outputs": [
    {
     "name": "stdout",
     "output_type": "stream",
     "text": [
      "pyplot\n"
     ]
    },
    {
     "data": {
      "image/png": "[encoded data removed]",
      "text/plain": [
       "<Figure size 640x480 with 1 Axes>"
      ]
     },
     "metadata": {},
     "output_type": "display_data"
    }
   ],
   "source": [
    "print('pyplot')\n",
    "pyplot_all(explainers,instances,y,group)\n"
   ]
  },
  {
   "cell_type": "code",
   "execution_count": 40,
   "id": "d8954125",
   "metadata": {},
   "outputs": [
    {
     "name": "stdout",
     "output_type": "stream",
     "text": [
      "df saving\n"
     ]
    }
   ],
   "source": [
    "print('df saving')\n",
    "df,dfl=DataFrame_all(explainers,instances,y,group)\n",
    "\n",
    "# df.iloc[:,2::] = abs(df.iloc[:,2::])\n",
    "ai = np.argsort(df.iloc[:,2::].values)\n",
    "for j,c in enumerate(list(ai[:,:10])):\n",
    "    df.iloc[j,c+2] = np.arange(1,11)\n"
   ]
  },
  {
   "cell_type": "code",
   "execution_count": 41,
   "id": "ebde20f9",
   "metadata": {
    "scrolled": true
   },
   "outputs": [
    {
     "data": {
      "text/html": [
       "<div>\n",
       "<style scoped>\n",
       "    .dataframe tbody tr th:only-of-type {\n",
       "        vertical-align: middle;\n",
       "    }\n",
       "\n",
       "    .dataframe tbody tr th {\n",
       "        vertical-align: top;\n",
       "    }\n",
       "\n",
       "    .dataframe thead th {\n",
       "        text-align: right;\n",
       "    }\n",
       "</style>\n",
       "<table border=\"1\" class=\"dataframe\">\n",
       "  <thead>\n",
       "    <tr style=\"text-align: right;\">\n",
       "      <th></th>\n",
       "      <th>exp number</th>\n",
       "      <th>real value</th>\n",
       "      <th>competency_alignment_InWeek5 &lt;= 0.00</th>\n",
       "      <th>competency_alignment_InWeek4 &lt;= 0.00</th>\n",
       "      <th>student_shape_InWeek5 &lt;= 0.00</th>\n",
       "      <th>competency_strength_InWeek5 &gt; 0.00</th>\n",
       "      <th>competency_anticipation_InWeek5 &gt; 0.00</th>\n",
       "      <th>total_clicks_problem_InWeek5 &gt; 0.03</th>\n",
       "      <th>student_shape_InWeek4 &lt;= 0.00</th>\n",
       "      <th>total_clicks_problem_InWeek4 &gt; 0.04</th>\n",
       "      <th>...</th>\n",
       "      <th>competency_anticipation_InWeek4 &gt; 0.00</th>\n",
       "      <th>competency_anticipation_InWeek3 &lt;= 0.00</th>\n",
       "      <th>competency_anticipation_InWeek2 &lt;= 0.00</th>\n",
       "      <th>total_clicks_weekend_InWeek4 &gt; 0.02</th>\n",
       "      <th>time_between_sessions_std_InWeek5 &lt;= 0.00</th>\n",
       "      <th>time_in__problem_sum_InWeek5 &gt; 0.01</th>\n",
       "      <th>competency_strength_InWeek3 &gt; 0.12</th>\n",
       "      <th>regularity_periodicity_m1_InWeek4 &gt; 0.13</th>\n",
       "      <th>competency_alignment_InWeek2 &lt;= 0.00</th>\n",
       "      <th>competency_anticipation_InWeek1 &lt;= 0.00</th>\n",
       "    </tr>\n",
       "  </thead>\n",
       "  <tbody>\n",
       "    <tr>\n",
       "      <th>0</th>\n",
       "      <td>5192</td>\n",
       "      <td>pass</td>\n",
       "      <td>0.445309</td>\n",
       "      <td>0.283772</td>\n",
       "      <td>0.247282</td>\n",
       "      <td>1.0</td>\n",
       "      <td>2.0</td>\n",
       "      <td>3.0</td>\n",
       "      <td>0.168562</td>\n",
       "      <td>4.0</td>\n",
       "      <td>...</td>\n",
       "      <td>6.0</td>\n",
       "      <td>0.109764</td>\n",
       "      <td>0.105969</td>\n",
       "      <td>7.0</td>\n",
       "      <td>0.087404</td>\n",
       "      <td>8.0</td>\n",
       "      <td>9.0</td>\n",
       "      <td>10.0</td>\n",
       "      <td>0.062058</td>\n",
       "      <td>0.061495</td>\n",
       "    </tr>\n",
       "  </tbody>\n",
       "</table>\n",
       "<p>1 rows × 22 columns</p>\n",
       "</div>"
      ],
      "text/plain": [
       "   exp number real value  competency_alignment_InWeek5 <= 0.00  \\\n",
       "0        5192       pass                              0.445309   \n",
       "\n",
       "   competency_alignment_InWeek4 <= 0.00  student_shape_InWeek5 <= 0.00  \\\n",
       "0                              0.283772                       0.247282   \n",
       "\n",
       "   competency_strength_InWeek5 > 0.00  competency_anticipation_InWeek5 > 0.00  \\\n",
       "0                                 1.0                                     2.0   \n",
       "\n",
       "   total_clicks_problem_InWeek5 > 0.03  student_shape_InWeek4 <= 0.00  \\\n",
       "0                                  3.0                       0.168562   \n",
       "\n",
       "   total_clicks_problem_InWeek4 > 0.04  ...  \\\n",
       "0                                  4.0  ...   \n",
       "\n",
       "   competency_anticipation_InWeek4 > 0.00  \\\n",
       "0                                     6.0   \n",
       "\n",
       "   competency_anticipation_InWeek3 <= 0.00  \\\n",
       "0                                 0.109764   \n",
       "\n",
       "   competency_anticipation_InWeek2 <= 0.00  \\\n",
       "0                                 0.105969   \n",
       "\n",
       "   total_clicks_weekend_InWeek4 > 0.02  \\\n",
       "0                                  7.0   \n",
       "\n",
       "   time_between_sessions_std_InWeek5 <= 0.00  \\\n",
       "0                                   0.087404   \n",
       "\n",
       "   time_in__problem_sum_InWeek5 > 0.01  competency_strength_InWeek3 > 0.12  \\\n",
       "0                                  8.0                                 9.0   \n",
       "\n",
       "   regularity_periodicity_m1_InWeek4 > 0.13  \\\n",
       "0                                      10.0   \n",
       "\n",
       "   competency_alignment_InWeek2 <= 0.00  \\\n",
       "0                              0.062058   \n",
       "\n",
       "   competency_anticipation_InWeek1 <= 0.00  \n",
       "0                                 0.061495  \n",
       "\n",
       "[1 rows x 22 columns]"
      ]
     },
     "execution_count": 41,
     "metadata": {},
     "output_type": "execute_result"
    }
   ],
   "source": [
    "df"
   ]
  },
  {
   "cell_type": "code",
   "execution_count": 42,
   "id": "8b3101a1",
   "metadata": {},
   "outputs": [],
   "source": [
    "top_features = df.columns\n",
    "top_features = top_features[2::]\n",
    "top_features_type = np.array([s[0:s.find('InWeek')].split(' ')[-1] for s in top_features])\n",
    "top_features_week = np.array([s[s.find('InWeek')+6::].split(' ')[0] for s in top_features])\n",
    "count = (~(df.iloc[:,2::].isnull())).values.sum(axis=0)\n",
    "top_features_type_unique = list({ k for k in top_features_type })\n",
    "count_feature_type = [count[top_features_type==x].sum()/500 for x in top_features_type_unique]\n",
    "top_features_week_unique = list({ k for k in top_features_week })\n",
    "count_feature_week = [count[top_features_week==x].sum()/500 for x in top_features_week_unique]\n"
   ]
  },
  {
   "cell_type": "code",
   "execution_count": 43,
   "id": "d40294de",
   "metadata": {},
   "outputs": [
    {
     "name": "stderr",
     "output_type": "stream",
     "text": [
      "/var/folders/rq/nzqjmf0x07vg4p477yrb9w800000gn/T/ipykernel_85157/172184971.py:3: FutureWarning: \n",
      "\n",
      "Passing `palette` without assigning `hue` is deprecated and will be removed in v0.14.0. Assign the `x` variable to `hue` and set `legend=False` for the same effect.\n",
      "\n",
      "  g = sns.barplot(x=top_features_type_unique, y=count_feature_type, palette=\"rocket\",ax =ax,order=np.take_along_axis(np.array(top_features_type_unique), ind, axis=0))\n",
      "/var/folders/rq/nzqjmf0x07vg4p477yrb9w800000gn/T/ipykernel_85157/172184971.py:4: UserWarning: set_ticklabels() should only be used with a fixed number of ticks, i.e. after set_ticks() or using a FixedLocator.\n",
      "  g.set_xticklabels(g.get_xticklabels(),rotation=90)\n"
     ]
    },
    {
     "data": {
      "image/png": "[encoded data removed]",
      "text/plain": [
       "<Figure size 1000x500 with 1 Axes>"
      ]
     },
     "metadata": {},
     "output_type": "display_data"
    }
   ],
   "source": [
    "ind = np.argsort(count_feature_type)[::-1]\n",
    "fig, ax = pyplot.subplots(figsize=(10, 5),facecolor='white')\n",
    "g = sns.barplot(x=top_features_type_unique, y=count_feature_type, palette=\"rocket\",ax =ax,order=np.take_along_axis(np.array(top_features_type_unique), ind, axis=0))\n",
    "g.set_xticklabels(g.get_xticklabels(),rotation=90)\n",
    "g.set_title( 'important features with respect to their type', fontsize=15)\n",
    "g.set_xlabel(\"\", fontsize=15)\n",
    "g.set_ylabel(\"percent of features\", fontsize=12)\n",
    "if not os.path.exists(\"./uniform_eq_results_ori/LIME/\" + course + \"/pyplots/\"):\n",
    "    os.makedirs(\"./uniform_eq_results_ori/LIME/\" + course + \"/pyplots/\")\n",
    "pyplot.savefig(\"./uniform_eq_results_ori/LIME/\" + course + \"/pyplots/impFeaturesType.png\", bbox_inches = 'tight', facecolor=fig.get_facecolor())\n",
    "\n"
   ]
  },
  {
   "cell_type": "code",
   "execution_count": 44,
   "id": "95f49a8e",
   "metadata": {},
   "outputs": [
    {
     "name": "stderr",
     "output_type": "stream",
     "text": [
      "/var/folders/rq/nzqjmf0x07vg4p477yrb9w800000gn/T/ipykernel_85157/1113655530.py:3: FutureWarning: \n",
      "\n",
      "Passing `palette` without assigning `hue` is deprecated and will be removed in v0.14.0. Assign the `x` variable to `hue` and set `legend=False` for the same effect.\n",
      "\n",
      "  g = sns.barplot(x=top_features_week_unique, y=count_feature_week, palette=\"rocket\",ax =ax,\n",
      "/var/folders/rq/nzqjmf0x07vg4p477yrb9w800000gn/T/ipykernel_85157/1113655530.py:5: UserWarning: set_ticklabels() should only be used with a fixed number of ticks, i.e. after set_ticks() or using a FixedLocator.\n",
      "  g.set_xticklabels(g.get_xticklabels(),rotation=0)\n"
     ]
    },
    {
     "data": {
      "image/png": "[encoded data removed]",
      "text/plain": [
       "<Figure size 1000x500 with 1 Axes>"
      ]
     },
     "metadata": {},
     "output_type": "display_data"
    }
   ],
   "source": [
    "ind = np.argsort(count_feature_week)[::-1]\n",
    "fig, ax = pyplot.subplots(figsize=(10, 5),facecolor='white')\n",
    "g = sns.barplot(x=top_features_week_unique, y=count_feature_week, palette=\"rocket\",ax =ax,\n",
    "                order=np.take_along_axis(np.array(top_features_week_unique), ind, axis=0))\n",
    "g.set_xticklabels(g.get_xticklabels(),rotation=0)\n",
    "g.set_title( 'important features with respect to their week', fontsize=15)\n",
    "g.set_xlabel(\"\", fontsize=15)\n",
    "g.set_ylabel(\"percent of features\", fontsize=12)\n",
    "\n",
    "if not os.path.exists(\"./uniform_eq_results_ori/LIME/\" + course + \"/pyplots/\"):\n",
    "    os.makedirs(\"./uniform_eq_results_ori/LIME/\" + course + \"/pyplots/\")\n",
    "pyplot.savefig(\"./uniform_eq_results_ori/LIME/\" + course + \"/pyplots/impFeaturesWeek.png\", \n",
    "               bbox_inches = 'tight', facecolor=fig.get_facecolor())\n"
   ]
  },
  {
   "cell_type": "code",
   "execution_count": 45,
   "id": "522b0105",
   "metadata": {},
   "outputs": [
    {
     "name": "stderr",
     "output_type": "stream",
     "text": [
      "/var/folders/rq/nzqjmf0x07vg4p477yrb9w800000gn/T/ipykernel_85157/870079632.py:4: FutureWarning: ChainedAssignmentError: behaviour will change in pandas 3.0!\n",
      "You are setting values through chained assignment. Currently this works in certain cases, but when using Copy-on-Write (which will become the default behaviour in pandas 3.0) this will never work to update the original DataFrame or Series, because the intermediate object on which we are setting values will behave as a copy.\n",
      "A typical example is when you are setting values in a column of a DataFrame, like:\n",
      "\n",
      "df[\"col\"][row_indexer] = value\n",
      "\n",
      "Use `df.loc[row_indexer, \"col\"] = values` instead, to perform the assignment in a single step and ensure this keeps updating the original `df`.\n",
      "\n",
      "See the caveats in the documentation: https://pandas.pydata.org/pandas-docs/stable/user_guide/indexing.html#returning-a-view-versus-a-copy\n",
      "\n",
      "  d[f][int(top_features_week[i])-1]+=count[i]\n"
     ]
    }
   ],
   "source": [
    "zero_data = np.zeros(shape=(num_weeks,len(top_features_type_unique)))\n",
    "d = pd.DataFrame(zero_data, columns=top_features_type_unique)\n",
    "for i,f in enumerate(top_features_type):\n",
    "    d[f][int(top_features_week[i])-1]+=count[i]\n",
    "    "
   ]
  },
  {
   "cell_type": "code",
   "execution_count": 46,
   "id": "7b7b567b",
   "metadata": {},
   "outputs": [
    {
     "ename": "AttributeError",
     "evalue": "'list' object has no attribute 'shape'",
     "output_type": "error",
     "traceback": [
      "\u001b[0;31m---------------------------------------------------------------------------\u001b[0m",
      "\u001b[0;31mAttributeError\u001b[0m                            Traceback (most recent call last)",
      "Cell \u001b[0;32mIn[46], line 2\u001b[0m\n\u001b[1;32m      1\u001b[0m fig, ax \u001b[38;5;241m=\u001b[39m pyplot\u001b[38;5;241m.\u001b[39msubplots(figsize\u001b[38;5;241m=\u001b[39m(\u001b[38;5;241m10\u001b[39m, \u001b[38;5;241m10\u001b[39m),facecolor\u001b[38;5;241m=\u001b[39m\u001b[38;5;124m'\u001b[39m\u001b[38;5;124mwhite\u001b[39m\u001b[38;5;124m'\u001b[39m)\n\u001b[0;32m----> 2\u001b[0m g \u001b[38;5;241m=\u001b[39m sns\u001b[38;5;241m.\u001b[39mheatmap(d\u001b[38;5;241m.\u001b[39mvalues\u001b[38;5;241m.\u001b[39mT \u001b[38;5;241m/\u001b[39m instances\u001b[38;5;241m.\u001b[39mshape[\u001b[38;5;241m0\u001b[39m], annot\u001b[38;5;241m=\u001b[39m\u001b[38;5;28;01mTrue\u001b[39;00m, fmt\u001b[38;5;241m=\u001b[39m\u001b[38;5;124m\"\u001b[39m\u001b[38;5;124m.2f\u001b[39m\u001b[38;5;124m\"\u001b[39m,ax\u001b[38;5;241m=\u001b[39max)\n\u001b[1;32m      3\u001b[0m l\u001b[38;5;241m=\u001b[39m\u001b[38;5;28mlist\u001b[39m(np\u001b[38;5;241m.\u001b[39marange(\u001b[38;5;241m1\u001b[39m,num_weeks\u001b[38;5;241m+\u001b[39m\u001b[38;5;241m1\u001b[39m))\n\u001b[1;32m      4\u001b[0m g\u001b[38;5;241m.\u001b[39mset_xticklabels([\u001b[38;5;124m'\u001b[39m\u001b[38;5;124mweek\u001b[39m\u001b[38;5;124m'\u001b[39m\u001b[38;5;241m+\u001b[39m\u001b[38;5;28mstr\u001b[39m(i) \u001b[38;5;28;01mfor\u001b[39;00m i \u001b[38;5;129;01min\u001b[39;00m l],rotation\u001b[38;5;241m=\u001b[39m\u001b[38;5;241m90\u001b[39m)\n",
      "\u001b[0;31mAttributeError\u001b[0m: 'list' object has no attribute 'shape'"
     ]
    },
    {
     "data": {
      "image/png": "[encoded data removed]",
      "text/plain": [
       "<Figure size 1000x1000 with 1 Axes>"
      ]
     },
     "metadata": {},
     "output_type": "display_data"
    }
   ],
   "source": [
    "fig, ax = pyplot.subplots(figsize=(10, 10),facecolor='white')\n",
    "g = sns.heatmap(d.values.T / instances.shape[0], annot=True, fmt=\".2f\",ax=ax)\n",
    "l=list(np.arange(1,num_weeks+1))\n",
    "g.set_xticklabels(['week'+str(i) for i in l],rotation=90)\n",
    "g.set_yticklabels(top_features_type_unique,rotation=0)\n",
    "\n",
    "if not os.path.exists(\"./uniform_eq_results_ori/LIME/\" + course + \"/pyplots/\"):\n",
    "    os.makedirs(\"./uniform_eq_results_ori/LIME/\" + course + \"/pyplots/\")\n",
    "pyplot.savefig(\"./uniform_eq_results_ori/LIME/\" + course + \"/pyplots/heatmap.png\", bbox_inches = 'tight', facecolor=fig.get_facecolor())\n",
    "\n"
   ]
  },
  {
   "cell_type": "code",
   "execution_count": 47,
   "id": "5bfe5ac3",
   "metadata": {},
   "outputs": [],
   "source": [
    "if not os.path.exists(\"./uniform_eq_results_ori/LIME/\"+course+\"/dataframes/\"):\n",
    "    os.makedirs(\"./uniform_eq_results_ori/LIME/\"+course+\"/dataframes/\")\n",
    "\n",
    "df.to_csv(r'./uniform_eq_results_ori/LIME/'+course+'/dataframes/all_important_features.csv', index = False, header = True)\n",
    "d.to_csv(r'./uniform_eq_results_ori/LIME/'+course+'/dataframes/df_for_heatmap.csv', index = False, header = True)\n",
    "\n"
   ]
  }
 ],
 "metadata": {
  "kernelspec": {
   "display_name": "xai",
   "language": "python",
   "name": "python3"
  },
  "language_info": {
   "codemirror_mode": {
    "name": "ipython",
    "version": 3
   },
   "file_extension": ".py",
   "mimetype": "text/x-python",
   "name": "python",
   "nbconvert_exporter": "python",
   "pygments_lexer": "ipython3",
   "version": "3.11.5"
  }
 },
 "nbformat": 4,
 "nbformat_minor": 5
}
