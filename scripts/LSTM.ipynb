{
 "cells": [
  {
   "cell_type": "code",
   "execution_count": 50,
   "id": "a618460c",
   "metadata": {},
   "outputs": [
    {
     "name": "stdout",
     "output_type": "stream",
     "text": [
      "Requirement already satisfied: numpy in /Users/vinitra/.pyenv/versions/3.9.11/lib/python3.9/site-packages (1.24.3)\n",
      "Requirement already satisfied: pandas in /Users/vinitra/.pyenv/versions/3.9.11/lib/python3.9/site-packages (2.2.2)\n",
      "Requirement already satisfied: numpy>=1.22.4 in /Users/vinitra/.pyenv/versions/3.9.11/lib/python3.9/site-packages (from pandas) (1.24.3)\n",
      "Requirement already satisfied: python-dateutil>=2.8.2 in /Users/vinitra/.pyenv/versions/3.9.11/lib/python3.9/site-packages (from pandas) (2.9.0.post0)\n",
      "Requirement already satisfied: pytz>=2020.1 in /Users/vinitra/.pyenv/versions/3.9.11/lib/python3.9/site-packages (from pandas) (2024.1)\n",
      "Requirement already satisfied: tzdata>=2022.7 in /Users/vinitra/.pyenv/versions/3.9.11/lib/python3.9/site-packages (from pandas) (2024.1)\n",
      "Requirement already satisfied: six>=1.5 in /Users/vinitra/.pyenv/versions/3.9.11/lib/python3.9/site-packages (from python-dateutil>=2.8.2->pandas) (1.16.0)\n",
      "Requirement already satisfied: tensorflow in /Users/vinitra/.pyenv/versions/3.9.11/lib/python3.9/site-packages (2.13.0)\n",
      "Requirement already satisfied: tensorflow-macos==2.13.0 in /Users/vinitra/.pyenv/versions/3.9.11/lib/python3.9/site-packages (from tensorflow) (2.13.0)\n",
      "Requirement already satisfied: absl-py>=1.0.0 in /Users/vinitra/.pyenv/versions/3.9.11/lib/python3.9/site-packages (from tensorflow-macos==2.13.0->tensorflow) (2.1.0)\n",
      "Requirement already satisfied: astunparse>=1.6.0 in /Users/vinitra/.pyenv/versions/3.9.11/lib/python3.9/site-packages (from tensorflow-macos==2.13.0->tensorflow) (1.6.3)\n",
      "Requirement already satisfied: flatbuffers>=23.1.21 in /Users/vinitra/.pyenv/versions/3.9.11/lib/python3.9/site-packages (from tensorflow-macos==2.13.0->tensorflow) (24.3.25)\n",
      "Requirement already satisfied: gast<=0.4.0,>=0.2.1 in /Users/vinitra/.pyenv/versions/3.9.11/lib/python3.9/site-packages (from tensorflow-macos==2.13.0->tensorflow) (0.4.0)\n",
      "Requirement already satisfied: google-pasta>=0.1.1 in /Users/vinitra/.pyenv/versions/3.9.11/lib/python3.9/site-packages (from tensorflow-macos==2.13.0->tensorflow) (0.2.0)\n",
      "Requirement already satisfied: h5py>=2.9.0 in /Users/vinitra/.pyenv/versions/3.9.11/lib/python3.9/site-packages (from tensorflow-macos==2.13.0->tensorflow) (3.11.0)\n",
      "Requirement already satisfied: libclang>=13.0.0 in /Users/vinitra/.pyenv/versions/3.9.11/lib/python3.9/site-packages (from tensorflow-macos==2.13.0->tensorflow) (18.1.1)\n",
      "Requirement already satisfied: numpy<=1.24.3,>=1.22 in /Users/vinitra/.pyenv/versions/3.9.11/lib/python3.9/site-packages (from tensorflow-macos==2.13.0->tensorflow) (1.24.3)\n",
      "Requirement already satisfied: opt-einsum>=2.3.2 in /Users/vinitra/.pyenv/versions/3.9.11/lib/python3.9/site-packages (from tensorflow-macos==2.13.0->tensorflow) (3.3.0)\n",
      "Requirement already satisfied: packaging in /Users/vinitra/.pyenv/versions/3.9.11/lib/python3.9/site-packages (from tensorflow-macos==2.13.0->tensorflow) (24.0)\n",
      "Requirement already satisfied: protobuf!=4.21.0,!=4.21.1,!=4.21.2,!=4.21.3,!=4.21.4,!=4.21.5,<5.0.0dev,>=3.20.3 in /Users/vinitra/.pyenv/versions/3.9.11/lib/python3.9/site-packages (from tensorflow-macos==2.13.0->tensorflow) (4.25.3)\n",
      "Requirement already satisfied: setuptools in /Users/vinitra/.pyenv/versions/3.9.11/lib/python3.9/site-packages (from tensorflow-macos==2.13.0->tensorflow) (58.1.0)\n",
      "Requirement already satisfied: six>=1.12.0 in /Users/vinitra/.pyenv/versions/3.9.11/lib/python3.9/site-packages (from tensorflow-macos==2.13.0->tensorflow) (1.16.0)\n",
      "Requirement already satisfied: termcolor>=1.1.0 in /Users/vinitra/.pyenv/versions/3.9.11/lib/python3.9/site-packages (from tensorflow-macos==2.13.0->tensorflow) (2.4.0)\n",
      "Requirement already satisfied: typing-extensions<4.6.0,>=3.6.6 in /Users/vinitra/.pyenv/versions/3.9.11/lib/python3.9/site-packages (from tensorflow-macos==2.13.0->tensorflow) (4.5.0)\n",
      "Requirement already satisfied: wrapt>=1.11.0 in /Users/vinitra/.pyenv/versions/3.9.11/lib/python3.9/site-packages (from tensorflow-macos==2.13.0->tensorflow) (1.16.0)\n",
      "Requirement already satisfied: grpcio<2.0,>=1.24.3 in /Users/vinitra/.pyenv/versions/3.9.11/lib/python3.9/site-packages (from tensorflow-macos==2.13.0->tensorflow) (1.62.2)\n",
      "Requirement already satisfied: tensorboard<2.14,>=2.13 in /Users/vinitra/.pyenv/versions/3.9.11/lib/python3.9/site-packages (from tensorflow-macos==2.13.0->tensorflow) (2.13.0)\n",
      "Requirement already satisfied: tensorflow-estimator<2.14,>=2.13.0 in /Users/vinitra/.pyenv/versions/3.9.11/lib/python3.9/site-packages (from tensorflow-macos==2.13.0->tensorflow) (2.13.0)\n",
      "Requirement already satisfied: keras<2.14,>=2.13.1 in /Users/vinitra/.pyenv/versions/3.9.11/lib/python3.9/site-packages (from tensorflow-macos==2.13.0->tensorflow) (2.13.1)\n",
      "Requirement already satisfied: wheel<1.0,>=0.23.0 in /Users/vinitra/.pyenv/versions/3.9.11/lib/python3.9/site-packages (from astunparse>=1.6.0->tensorflow-macos==2.13.0->tensorflow) (0.43.0)\n",
      "Requirement already satisfied: google-auth<3,>=1.6.3 in /Users/vinitra/.pyenv/versions/3.9.11/lib/python3.9/site-packages (from tensorboard<2.14,>=2.13->tensorflow-macos==2.13.0->tensorflow) (2.29.0)\n",
      "Requirement already satisfied: google-auth-oauthlib<1.1,>=0.5 in /Users/vinitra/.pyenv/versions/3.9.11/lib/python3.9/site-packages (from tensorboard<2.14,>=2.13->tensorflow-macos==2.13.0->tensorflow) (1.0.0)\n",
      "Requirement already satisfied: markdown>=2.6.8 in /Users/vinitra/.pyenv/versions/3.9.11/lib/python3.9/site-packages (from tensorboard<2.14,>=2.13->tensorflow-macos==2.13.0->tensorflow) (3.6)\n",
      "Requirement already satisfied: requests<3,>=2.21.0 in /Users/vinitra/.pyenv/versions/3.9.11/lib/python3.9/site-packages (from tensorboard<2.14,>=2.13->tensorflow-macos==2.13.0->tensorflow) (2.24.0)\n",
      "Requirement already satisfied: tensorboard-data-server<0.8.0,>=0.7.0 in /Users/vinitra/.pyenv/versions/3.9.11/lib/python3.9/site-packages (from tensorboard<2.14,>=2.13->tensorflow-macos==2.13.0->tensorflow) (0.7.2)\n",
      "Requirement already satisfied: werkzeug>=1.0.1 in /Users/vinitra/.pyenv/versions/3.9.11/lib/python3.9/site-packages (from tensorboard<2.14,>=2.13->tensorflow-macos==2.13.0->tensorflow) (3.0.2)\n",
      "Requirement already satisfied: cachetools<6.0,>=2.0.0 in /Users/vinitra/.pyenv/versions/3.9.11/lib/python3.9/site-packages (from google-auth<3,>=1.6.3->tensorboard<2.14,>=2.13->tensorflow-macos==2.13.0->tensorflow) (5.3.3)\n",
      "Requirement already satisfied: pyasn1-modules>=0.2.1 in /Users/vinitra/.pyenv/versions/3.9.11/lib/python3.9/site-packages (from google-auth<3,>=1.6.3->tensorboard<2.14,>=2.13->tensorflow-macos==2.13.0->tensorflow) (0.4.0)\n",
      "Requirement already satisfied: rsa<5,>=3.1.4 in /Users/vinitra/.pyenv/versions/3.9.11/lib/python3.9/site-packages (from google-auth<3,>=1.6.3->tensorboard<2.14,>=2.13->tensorflow-macos==2.13.0->tensorflow) (4.9)\n",
      "Requirement already satisfied: requests-oauthlib>=0.7.0 in /Users/vinitra/.pyenv/versions/3.9.11/lib/python3.9/site-packages (from google-auth-oauthlib<1.1,>=0.5->tensorboard<2.14,>=2.13->tensorflow-macos==2.13.0->tensorflow) (2.0.0)\n",
      "Requirement already satisfied: importlib-metadata>=4.4 in /Users/vinitra/.pyenv/versions/3.9.11/lib/python3.9/site-packages (from markdown>=2.6.8->tensorboard<2.14,>=2.13->tensorflow-macos==2.13.0->tensorflow) (7.1.0)\n",
      "Requirement already satisfied: chardet<4,>=3.0.2 in /Users/vinitra/.pyenv/versions/3.9.11/lib/python3.9/site-packages (from requests<3,>=2.21.0->tensorboard<2.14,>=2.13->tensorflow-macos==2.13.0->tensorflow) (3.0.4)\n",
      "Requirement already satisfied: idna<3,>=2.5 in /Users/vinitra/.pyenv/versions/3.9.11/lib/python3.9/site-packages (from requests<3,>=2.21.0->tensorboard<2.14,>=2.13->tensorflow-macos==2.13.0->tensorflow) (2.10)\n",
      "Requirement already satisfied: urllib3!=1.25.0,!=1.25.1,<1.26,>=1.21.1 in /Users/vinitra/.pyenv/versions/3.9.11/lib/python3.9/site-packages (from requests<3,>=2.21.0->tensorboard<2.14,>=2.13->tensorflow-macos==2.13.0->tensorflow) (1.25.11)\n",
      "Requirement already satisfied: certifi>=2017.4.17 in /Users/vinitra/.pyenv/versions/3.9.11/lib/python3.9/site-packages (from requests<3,>=2.21.0->tensorboard<2.14,>=2.13->tensorflow-macos==2.13.0->tensorflow) (2024.2.2)\n",
      "Requirement already satisfied: MarkupSafe>=2.1.1 in /Users/vinitra/.pyenv/versions/3.9.11/lib/python3.9/site-packages (from werkzeug>=1.0.1->tensorboard<2.14,>=2.13->tensorflow-macos==2.13.0->tensorflow) (2.1.5)\n",
      "Requirement already satisfied: zipp>=0.5 in /Users/vinitra/.pyenv/versions/3.9.11/lib/python3.9/site-packages (from importlib-metadata>=4.4->markdown>=2.6.8->tensorboard<2.14,>=2.13->tensorflow-macos==2.13.0->tensorflow) (3.18.1)\n",
      "Requirement already satisfied: pyasn1<0.7.0,>=0.4.6 in /Users/vinitra/.pyenv/versions/3.9.11/lib/python3.9/site-packages (from pyasn1-modules>=0.2.1->google-auth<3,>=1.6.3->tensorboard<2.14,>=2.13->tensorflow-macos==2.13.0->tensorflow) (0.6.0)\n",
      "Requirement already satisfied: oauthlib>=3.0.0 in /Users/vinitra/.pyenv/versions/3.9.11/lib/python3.9/site-packages (from requests-oauthlib>=0.7.0->google-auth-oauthlib<1.1,>=0.5->tensorboard<2.14,>=2.13->tensorflow-macos==2.13.0->tensorflow) (3.2.2)\n",
      "Requirement already satisfied: keras in /Users/vinitra/.pyenv/versions/3.9.11/lib/python3.9/site-packages (2.13.1)\n",
      "Requirement already satisfied: scikit-learn in /Users/vinitra/.pyenv/versions/3.9.11/lib/python3.9/site-packages (1.5.1)\n",
      "Requirement already satisfied: numpy>=1.19.5 in /Users/vinitra/.pyenv/versions/3.9.11/lib/python3.9/site-packages (from scikit-learn) (1.24.3)\n",
      "Requirement already satisfied: scipy>=1.6.0 in /Users/vinitra/.pyenv/versions/3.9.11/lib/python3.9/site-packages (from scikit-learn) (1.13.0)\n",
      "Requirement already satisfied: joblib>=1.2.0 in /Users/vinitra/.pyenv/versions/3.9.11/lib/python3.9/site-packages (from scikit-learn) (1.4.0)\n",
      "Requirement already satisfied: threadpoolctl>=3.1.0 in /Users/vinitra/.pyenv/versions/3.9.11/lib/python3.9/site-packages (from scikit-learn) (3.4.0)\n",
      "Requirement already satisfied: matplotlib in /Users/vinitra/.pyenv/versions/3.9.11/lib/python3.9/site-packages (3.8.4)\n",
      "Requirement already satisfied: contourpy>=1.0.1 in /Users/vinitra/.pyenv/versions/3.9.11/lib/python3.9/site-packages (from matplotlib) (1.2.1)\n",
      "Requirement already satisfied: cycler>=0.10 in /Users/vinitra/.pyenv/versions/3.9.11/lib/python3.9/site-packages (from matplotlib) (0.12.1)\n",
      "Requirement already satisfied: fonttools>=4.22.0 in /Users/vinitra/.pyenv/versions/3.9.11/lib/python3.9/site-packages (from matplotlib) (4.51.0)\n",
      "Requirement already satisfied: kiwisolver>=1.3.1 in /Users/vinitra/.pyenv/versions/3.9.11/lib/python3.9/site-packages (from matplotlib) (1.4.5)\n",
      "Requirement already satisfied: numpy>=1.21 in /Users/vinitra/.pyenv/versions/3.9.11/lib/python3.9/site-packages (from matplotlib) (1.24.3)\n",
      "Requirement already satisfied: packaging>=20.0 in /Users/vinitra/.pyenv/versions/3.9.11/lib/python3.9/site-packages (from matplotlib) (24.0)\n",
      "Requirement already satisfied: pillow>=8 in /Users/vinitra/.pyenv/versions/3.9.11/lib/python3.9/site-packages (from matplotlib) (10.3.0)\n",
      "Requirement already satisfied: pyparsing>=2.3.1 in /Users/vinitra/.pyenv/versions/3.9.11/lib/python3.9/site-packages (from matplotlib) (3.1.2)\n",
      "Requirement already satisfied: python-dateutil>=2.7 in /Users/vinitra/.pyenv/versions/3.9.11/lib/python3.9/site-packages (from matplotlib) (2.9.0.post0)\n",
      "Requirement already satisfied: importlib-resources>=3.2.0 in /Users/vinitra/.pyenv/versions/3.9.11/lib/python3.9/site-packages (from matplotlib) (6.4.0)\n",
      "Requirement already satisfied: zipp>=3.1.0 in /Users/vinitra/.pyenv/versions/3.9.11/lib/python3.9/site-packages (from importlib-resources>=3.2.0->matplotlib) (3.18.1)\n",
      "Requirement already satisfied: six>=1.5 in /Users/vinitra/.pyenv/versions/3.9.11/lib/python3.9/site-packages (from python-dateutil>=2.7->matplotlib) (1.16.0)\n",
      "Requirement already satisfied: seaborn in /Users/vinitra/.pyenv/versions/3.9.11/lib/python3.9/site-packages (0.13.2)\n",
      "Requirement already satisfied: numpy!=1.24.0,>=1.20 in /Users/vinitra/.pyenv/versions/3.9.11/lib/python3.9/site-packages (from seaborn) (1.24.3)\n",
      "Requirement already satisfied: pandas>=1.2 in /Users/vinitra/.pyenv/versions/3.9.11/lib/python3.9/site-packages (from seaborn) (2.2.2)\n",
      "Requirement already satisfied: matplotlib!=3.6.1,>=3.4 in /Users/vinitra/.pyenv/versions/3.9.11/lib/python3.9/site-packages (from seaborn) (3.8.4)\n",
      "Requirement already satisfied: contourpy>=1.0.1 in /Users/vinitra/.pyenv/versions/3.9.11/lib/python3.9/site-packages (from matplotlib!=3.6.1,>=3.4->seaborn) (1.2.1)\n",
      "Requirement already satisfied: cycler>=0.10 in /Users/vinitra/.pyenv/versions/3.9.11/lib/python3.9/site-packages (from matplotlib!=3.6.1,>=3.4->seaborn) (0.12.1)\n",
      "Requirement already satisfied: fonttools>=4.22.0 in /Users/vinitra/.pyenv/versions/3.9.11/lib/python3.9/site-packages (from matplotlib!=3.6.1,>=3.4->seaborn) (4.51.0)\n",
      "Requirement already satisfied: kiwisolver>=1.3.1 in /Users/vinitra/.pyenv/versions/3.9.11/lib/python3.9/site-packages (from matplotlib!=3.6.1,>=3.4->seaborn) (1.4.5)\n",
      "Requirement already satisfied: packaging>=20.0 in /Users/vinitra/.pyenv/versions/3.9.11/lib/python3.9/site-packages (from matplotlib!=3.6.1,>=3.4->seaborn) (24.0)\n",
      "Requirement already satisfied: pillow>=8 in /Users/vinitra/.pyenv/versions/3.9.11/lib/python3.9/site-packages (from matplotlib!=3.6.1,>=3.4->seaborn) (10.3.0)\n",
      "Requirement already satisfied: pyparsing>=2.3.1 in /Users/vinitra/.pyenv/versions/3.9.11/lib/python3.9/site-packages (from matplotlib!=3.6.1,>=3.4->seaborn) (3.1.2)\n",
      "Requirement already satisfied: python-dateutil>=2.7 in /Users/vinitra/.pyenv/versions/3.9.11/lib/python3.9/site-packages (from matplotlib!=3.6.1,>=3.4->seaborn) (2.9.0.post0)\n",
      "Requirement already satisfied: importlib-resources>=3.2.0 in /Users/vinitra/.pyenv/versions/3.9.11/lib/python3.9/site-packages (from matplotlib!=3.6.1,>=3.4->seaborn) (6.4.0)\n",
      "Requirement already satisfied: pytz>=2020.1 in /Users/vinitra/.pyenv/versions/3.9.11/lib/python3.9/site-packages (from pandas>=1.2->seaborn) (2024.1)\n",
      "Requirement already satisfied: tzdata>=2022.7 in /Users/vinitra/.pyenv/versions/3.9.11/lib/python3.9/site-packages (from pandas>=1.2->seaborn) (2024.1)\n",
      "Requirement already satisfied: zipp>=3.1.0 in /Users/vinitra/.pyenv/versions/3.9.11/lib/python3.9/site-packages (from importlib-resources>=3.2.0->matplotlib!=3.6.1,>=3.4->seaborn) (3.18.1)\n",
      "Requirement already satisfied: six>=1.5 in /Users/vinitra/.pyenv/versions/3.9.11/lib/python3.9/site-packages (from python-dateutil>=2.7->matplotlib!=3.6.1,>=3.4->seaborn) (1.16.0)\n"
     ]
    }
   ],
   "source": [
    "!pip install numpy\n",
    "!pip install pandas\n",
    "!pip install tensorflow\n",
    "!pip install keras\n",
    "!pip install -U scikit-learn\n",
    "!pip install matplotlib\n",
    "!pip install seaborn"
   ]
  },
  {
   "cell_type": "code",
   "execution_count": 51,
   "id": "3c4c86af",
   "metadata": {},
   "outputs": [],
   "source": [
    "#importing the libraries needed\n",
    "import numpy as np\n",
    "import pandas as pd\n",
    "import tensorflow as tf\n",
    "from math import floor, ceil\n",
    "import sklearn as sk\n",
    "from tensorflow.keras.models import Sequential\n",
    "from tensorflow.keras.layers import Activation, Dense, Bidirectional, LSTM,Masking,Embedding\n",
    "from sklearn.metrics import balanced_accuracy_score, precision_score, recall_score, roc_auc_score, f1_score, accuracy_score, make_scorer\n",
    "from sklearn.model_selection import cross_validate,train_test_split,GridSearchCV\n",
    "from sklearn.preprocessing import normalize\n",
    "from tensorflow.keras.models import load_model \n",
    "#from tensorflow.keras.wrappers.scikit_learn import KerasClassifier\n",
    "from scikeras.wrappers import KerasClassifier\n",
    "import matplotlib.pyplot as pyplot\n",
    "import seaborn as sns\n",
    "from sklearn.metrics import confusion_matrix, ConfusionMatrixDisplay #, plot_confusion_matrix\n",
    "import time\n",
    "import json\n",
    "import ast\n",
    "import os\n"
   ]
  },
  {
   "cell_type": "markdown",
   "id": "70a34f6f",
   "metadata": {},
   "source": [
    "# Linear Algebra Flipped"
   ]
  },
  {
   "cell_type": "code",
   "execution_count": 52,
   "id": "8ae8a722",
   "metadata": {},
   "outputs": [],
   "source": [
    "data_path = '../mooc-pipeline/data/result/easy-fail/'\n",
    "\n",
    "# set week type, feature types, and courses here\n",
    "week_type = 'eq_week'\n",
    "feature_types = [ 'boroujeni_et_al', \n",
    "                 'chen_cui',  'lalle_conati', \n",
    "                 'marras_et_al']\n",
    "marras_et_al_id = feature_types.index('marras_et_al')\n",
    "#akpinar_et_al_id = feature_types.index('akpinar_et_al')\n",
    "courses = ['villesafricaines_001']\n",
    "\n",
    "# boolean: if True, remove features directly related to student success in weekly quizzes:\n",
    "# student shape, competency alignment, competency strength\n",
    "remove_obvious = False\n",
    "\n",
    "# set number of epochs to train models for each course:\n",
    "params = {}\n",
    "for course in courses:\n",
    "    params[course] = {'num_epochs':12}"
   ]
  },
  {
   "cell_type": "code",
   "execution_count": 53,
   "id": "8ae5e319",
   "metadata": {
    "scrolled": true
   },
   "outputs": [
    {
     "name": "stdout",
     "output_type": "stream",
     "text": [
      "boroujeni_et_al (4941, 13, 3)\n",
      "39\n",
      "chen_cui (4941, 13, 13)\n",
      "26\n",
      "lalle_conati (4941, 13, 22)\n",
      "45\n",
      "marras_et_al (4941, 13, 7)\n",
      "47\n",
      "course:  ['villesafricaines_001']\n",
      "week_type:  eq_week\n",
      "feature_type:  ['boroujeni_et_al', 'chen_cui', 'lalle_conati', 'marras_et_al']\n"
     ]
    }
   ],
   "source": [
    "# Loading the features\n",
    "feature_list = {}\n",
    "num_weeks= 6\n",
    "\n",
    "for course in courses:\n",
    "    feature_type_list = []\n",
    "    for feature_type in feature_types:\n",
    "    \n",
    "        filepath = data_path + week_type + '-' + feature_type + '-' + course\n",
    "        feature_current = np.load(filepath+'/feature_values.npz')['feature_values']\n",
    "        print(feature_type, feature_current.shape)\n",
    "        print(np.count_nonzero(np.isnan(feature_current).any(axis=0)))\n",
    "        feature_norm = feature_current.reshape(-1,feature_current.shape[2] )\n",
    "#         print(feature_norm.shape)\n",
    "        feature_type_list.append(pd.DataFrame(feature_norm))\n",
    "    feature_list[course] = feature_type_list\n",
    "\n",
    "print('course: ', courses)\n",
    "print('week_type: ', week_type)\n",
    "print('feature_type: ', feature_types)"
   ]
  },
  {
   "cell_type": "code",
   "execution_count": 54,
   "id": "db32181e",
   "metadata": {},
   "outputs": [],
   "source": [
    "def clean_name(feature):\n",
    "    id = feature.find('<')\n",
    "    if id==-1:\n",
    "        return feature\n",
    "    fct = feature[id+9:id+14].strip()\n",
    "    return feature[0:id]+fct\n",
    "\n",
    "def clean_akp_name(feature):\n",
    "    feature = feature.lower()\n",
    "    if feature.find(\"(\")!=-1:\n",
    "        feature = feature[1:-1]\n",
    "        feature = feature.replace(', ', '-')\n",
    "    return feature\n",
    "    "
   ]
  },
  {
   "cell_type": "code",
   "execution_count": 55,
   "id": "44deaa40",
   "metadata": {},
   "outputs": [
    {
     "name": "stdout",
     "output_type": "stream",
     "text": [
      "boroujeni_et_al 3\n",
      "chen_cui 13\n",
      "lalle_conati 22\n",
      "marras_et_al 7\n"
     ]
    }
   ],
   "source": [
    "# Loading feature names\n",
    "feature_names= dict()\n",
    "\n",
    "for feature_type in feature_types:\n",
    "    \n",
    "    filepath = data_path + week_type + '-' + feature_type + '-' + course + '/settings.txt'\n",
    "    file = open(filepath, \"r\")\n",
    "    contents = file.read()\n",
    "    dictionary = ast.literal_eval(contents)\n",
    "    file.close()\n",
    "    \n",
    "    feature_type_name = dictionary['feature_names']\n",
    "    \n",
    "    # reformat feature names\n",
    "    # ex: time_sessions_<function sum at 0x7f3bd02cc9d0> -> time_sessions_sum\n",
    "    feature_type_name = [clean_name(x) for x in feature_type_name]\n",
    "    \n",
    "    # for akpinar_et_al, just use the features listed below\n",
    "    if feature_type == 'akpinar_et_al': \n",
    "        feature_type_name = [clean_akp_name(x) for x in feature_type_name]\n",
    "        akp_mask = np.where(np.isin(feature_type_name, \n",
    "                 [\"total_clicks\", \"number_sessions\", \"time_in__video_sum\", \"time_in__problem_sum\",\n",
    "                  'problem.check-problem.check-problem.check', \n",
    "                  'problem.check-problem.check-video.load', \n",
    "                  'video.play-video.play-video.play',\n",
    "                  'video.play-video.pause-video.load',\n",
    "                  'video.play-problem.check-problem.check',\n",
    "                  'video.play-video.stop-video.play',\n",
    "                  'video.pause-video.speedchange-video.play',\n",
    "                  'video.stop-video.play-video.seek',\n",
    "                  'video.stop-problem.check-video.load']))\n",
    "        print(akp_mask)\n",
    "        feature_type_name = list(np.array(feature_type_name)[akp_mask[0]])\n",
    "        feature_list[course][akpinar_et_al_id] = feature_list[course][akpinar_et_al_id][akp_mask[0]]\n",
    "        \n",
    "        \n",
    "    feature_names[feature_type] = feature_type_name\n",
    "    print(feature_type, len(feature_type_name))\n",
    "\n",
    "if remove_obvious: \n",
    "    # drop 'student shape', 'competency strength', 'competency alignment' in marras at al\n",
    "    \n",
    "    mr_mask = np.where(np.isin(feature_names['marras_et_al'], \n",
    "                 ['student_shape', 'competency_strength', 'competency_alignment']))\n",
    "    \n",
    "    new_marras = np.delete(np.array(feature_names['marras_et_al']), mr_mask[0])\n",
    "    feature_names['marras_et_al'] = new_marras\n",
    "    \n",
    "    for course in courses: \n",
    "        new_features = feature_list[course][marras_et_al_id].drop(mr_mask[0], axis=1)\n",
    "        feature_list[course][marras_et_al_id] = new_features\n"
   ]
  },
  {
   "cell_type": "code",
   "execution_count": 56,
   "id": "4e01b851",
   "metadata": {},
   "outputs": [],
   "source": [
    "# Bidirection LSTM definition\n",
    "\n",
    "def bidirectional_lstm(x_train, y_train, x_test, y_test, x_val, y_val, \n",
    "                       week_type, feature_types, course,n_weeks,n_features, \n",
    "                       hidden_feature_num=[8, 8], batch_size=32, num_epochs=100):\n",
    "    n_dims = x_train.shape[0]\n",
    "    look_back = 3\n",
    "    # LSTM\n",
    "    # define model\n",
    "    lstm = Sequential()\n",
    "    ###########Reshape layer################\n",
    "    lstm.add(tf.keras.layers.Reshape((n_weeks, n_features), input_shape=(n_weeks*n_features,)))\n",
    "    ##########deleting the 1.001 max row added###########\n",
    "    lstm.add(Masking(mask_value = 1))\n",
    "    lstm.add(Bidirectional(LSTM(hidden_feature_num[0], return_sequences=True)))\n",
    "    lstm.add(Bidirectional(LSTM(hidden_feature_num[1])))\n",
    "    # Add a sigmoid Dense layer with 1 units.\n",
    "    lstm.add(Dense(1, activation='sigmoid'))\n",
    "    # compile the model\n",
    "    lstm.compile(optimizer='adam', loss='binary_crossentropy', metrics=['accuracy'])\n",
    "    # fit the model\n",
    "    history = lstm.fit(x_train, y_train, validation_data=(x_val, y_val), epochs=num_epochs, batch_size=batch_size, verbose=1)\n",
    "    # evaluate the model\n",
    "    y_pred = lstm.predict(x_test)\n",
    "    y_pred = [1 if y[0] >= 0.5 else 0 for y in y_pred]\n",
    "    # evaluate the model\n",
    "    model_params = {'model': 'LSTM-bi', 'epochs': num_epochs, \n",
    "                    'hidden_feature_num': hidden_feature_num,\n",
    "                    'batch_size': batch_size, 'loss': 'binary_cross_entropy'}\n",
    "    scores = evaluate(None, x_test, y_test, week_type, feature_types, course, \n",
    "                      hidden_feature_num,\n",
    "                      y_pred=y_pred, \n",
    "                      model_name=\"TF-LSTM-bi\", model_params=model_params)\n",
    "    \n",
    "    file = 'models/' + course + \"_biLSTM_results_\" + str(num_weeks) + \"_weeks.json\"\n",
    "    with open(file, 'w') as f: \n",
    "        json.dump(scores, f)\n",
    "        \n",
    "    # Original (without.keras)\n",
    "    lstm.save('models/lstm_bi_'+ course + \"_\" + current_timestamp + \"_\" + str(num_weeks) + \"_weeks\")\n",
    "    \n",
    "    # Saves Keras file but then error in LIME notebook\n",
    "    #lstm.save('models/lstm_bi_'+ course + \"_\" + current_timestamp + \"_\" + str(num_weeks) + \"_weeks_test.h5\")\n",
    "    \n",
    "    # Error with .tf or .h5 format\n",
    "    # tf.keras.models.save_model(lstm, 'models/lstm_bi_'+ course + \"_\" + current_timestamp + \"_\" + str(num_weeks) + \"_weeks_test.tf\")\n",
    "    \n",
    "    # Works but then it's loaded as \"generic model\" so it's type \"_UserObject\" in LIME notebook\n",
    "    #tf.saved_model.save(lstm,'models/lstm_bi_'+ course + \"_\" + current_timestamp + \"_\" + str(num_weeks) + \"_weeks\")    \n",
    "    \n",
    "    # New function\n",
    "    #lstm.export('models/lstm_bi_'+ course + \"_\" + current_timestamp + \"_\" + str(num_weeks) + \"_weeks_test.keras\")\n",
    "\n",
    "    return history, scores, lstm"
   ]
  },
  {
   "cell_type": "code",
   "execution_count": 57,
   "id": "f110b46c",
   "metadata": {},
   "outputs": [],
   "source": [
    "def plot_history(history, filename):\n",
    "    fig, axs = pyplot.subplots(1,1, figsize=(6,3))\n",
    "    sns.lineplot(x=range(len(history.history['loss'])), y=history.history['loss'], label='train', ax=axs)\n",
    "    sns.lineplot(x=range(len(history.history['loss'])), y=history.history['val_loss'], label='test',ax=axs)\n",
    "    axs.set_title('Loss ' + filename)\n",
    "    axs.set_xlabel('epoch')\n",
    "    axs.set_ylabel('loss')\n",
    "#     pyplot.savefig(filename+'_loss.png')\n",
    "\n",
    "    fig, axs = pyplot.subplots(1,1, figsize=(6,3))\n",
    "    sns.lineplot(x=range(len(history.history['loss'])), y=history.history['accuracy'], label='train', ax=axs)\n",
    "    sns.lineplot(x=range(len(history.history['loss'])), y=history.history['val_accuracy'], label='test',ax=axs)\n",
    "    axs.set_title('Accuracy '+ filename)\n",
    "    axs.set_xlabel('epoch')\n",
    "    axs.set_ylabel('accuracy')\n",
    "    #pyplot.savefig(filename+'_acc.png')"
   ]
  },
  {
   "cell_type": "code",
   "execution_count": 58,
   "id": "6bbdd88f",
   "metadata": {},
   "outputs": [],
   "source": [
    "def evaluate(model, x_test, y_test, week_type, feature_type, course, \n",
    "             hidden_feature_num,\n",
    "             model_name=None, model_params=None, y_pred=None):\n",
    "    scores={}\n",
    "    scores['test_acc'] = accuracy_score(y_test, y_pred)\n",
    "    scores['test_bac'] = balanced_accuracy_score(y_test, y_pred)\n",
    "    scores['test_prec'] = precision_score(y_test, y_pred)\n",
    "    scores['test_rec'] = recall_score(y_test, y_pred)\n",
    "    scores['test_f1'] = f1_score(y_test, y_pred)\n",
    "    scores['test_auc'] = roc_auc_score(y_test, y_pred)\n",
    "    scores['feature_type'] = feature_type\n",
    "    scores['week_type'] = week_type\n",
    "    scores['course'] = course\n",
    "    scores['hidden_feature_num_1'] = hidden_feature_num[0]\n",
    "    scores['hidden_feature_num_2'] = hidden_feature_num[1]\n",
    "    scores['data_balance'] = sum(y)/len(y)\n",
    "    \n",
    "    return scores"
   ]
  },
  {
   "cell_type": "code",
   "execution_count": 59,
   "id": "b7091d41",
   "metadata": {},
   "outputs": [],
   "source": [
    "# fillNaN function replaces NaNs in each week with the minimum of the feature over all weeks\n",
    "\n",
    "def fillNaN(feature):\n",
    "    shape = feature.shape\n",
    "    feature_min = np.nanmin(feature.reshape(-1,shape[2]),axis=0)\n",
    "    feature = feature.reshape(-1,shape[2])\n",
    "    inds = np.where(np.isnan(feature))\n",
    "    feature[inds] = np.take(feature_min.reshape(-1), inds[1])\n",
    "    feature = feature.reshape(shape)\n",
    "    return feature"
   ]
  },
  {
   "cell_type": "code",
   "execution_count": 60,
   "id": "6bb3c589",
   "metadata": {},
   "outputs": [],
   "source": [
    "# load data and normalize\n",
    "\n",
    "def load_labels(course):\n",
    "    feature_type = \"boroujeni_et_al\"\n",
    "    filepath = data_path + week_type + '-' + feature_type + '-' + course + '/feature_labels.csv'\n",
    "    labels = pd.read_csv(filepath)['label-pass-fail']\n",
    "    labels[labels.shape[0]] = 1\n",
    "    return labels.values\n",
    "\n",
    "def load_features(course):\n",
    "    feature_list = []\n",
    "    selected_features = []\n",
    "    total_features = set()\n",
    "    num_weeks = 0\n",
    "    num_features = 0\n",
    "    for i,feature_type in enumerate(feature_types):\n",
    "        try:\n",
    "            filepath = data_path + week_type + '-' + feature_type + '-' + course \n",
    "            feature_current = np.load(filepath+'/feature_values.npz')['feature_values']\n",
    "            print(feature_type)\n",
    "            shape = feature_current.shape\n",
    "    #         print(shape)\n",
    "\n",
    "            if remove_obvious and feature_type=='marras_et_al':\n",
    "                feature_current = np.delete(feature_current, mr_mask, axis=2)\n",
    "\n",
    "            if feature_type=='akpinar_et_al':\n",
    "                print(akp_mask[0])\n",
    "                akp_mask_dl = np.delete(list(range(shape[2])), akp_mask[0])\n",
    "                feature_current = np.delete(feature_current, akp_mask_dl, axis=2)\n",
    "\n",
    "            shape = feature_current.shape\n",
    "    #         print(shape)\n",
    "            if i==0:\n",
    "                num_weeks = shape[1]\n",
    "                num_weeks = 6\n",
    "                \n",
    "\n",
    "            selected = np.arange(shape[2])\n",
    "            # drop existed features\n",
    "            exist_mask = []\n",
    "            for i, name in enumerate(feature_names[feature_type]):\n",
    "                if name in total_features:\n",
    "                    exist_mask.append(i)\n",
    "                else:\n",
    "                    total_features.add(name)\n",
    "    #         print(exist_mask, feature_current.shape)\n",
    "            feature_current = np.delete(feature_current, exist_mask, axis=2)\n",
    "            selected = np.delete(selected, exist_mask)\n",
    "\n",
    "#             print(feature_current.shape)\n",
    "            nonNaN = (shape[0]*shape[1] - np.isnan(feature_current.reshape(-1,feature_current.shape[2])).sum(axis=0) > 0)\n",
    "            feature_current = feature_current[:,:,nonNaN]\n",
    "            selected = selected[nonNaN]\n",
    "            feature_current = fillNaN(feature_current)\n",
    "            nonZero = (abs(feature_current.reshape(-1,feature_current.shape[2])).sum(axis=0)>0)\n",
    "            selected = selected[nonZero]\n",
    "            \n",
    "            # added this line here for selecting WEEKS\n",
    "            feature_current = feature_current[:,:num_weeks,nonZero]\n",
    "\n",
    "\n",
    "    #         print(feature_type, feature_current.shape)\n",
    "            selected_features.append(np.array(feature_names[feature_type])[[selected]])\n",
    "\n",
    "            ##### Normalization with min-max. Added the artifical 1.001 max row for solving the same min max problem\n",
    "            ##### for features with max=0 I added 1 instead of 1.001 of maximum\n",
    "\n",
    "            features_min = feature_current.min(axis=0).reshape(-1)\n",
    "            features_max = feature_current.max(axis=0)\n",
    "            features_max = np.where(features_max==0,np.ones(features_max.shape),features_max)\n",
    "            max_instance = 1.001*features_max\n",
    "            feature_current = np.vstack([feature_current,max_instance.reshape((1,)+max_instance.shape)])\n",
    "            features_max = features_max.reshape(-1)\n",
    "            feature_norm = (feature_current.reshape(shape[0]+1,-1)-features_min)/(1.001*features_max-features_min)\n",
    "            feature_current = feature_norm.reshape(-1,feature_current.shape[1],feature_current.shape[2] )\n",
    "            print(feature_current.shape)\n",
    "            \n",
    "            num_features += feature_current.shape[2]\n",
    "            \n",
    "            feature_list.append(feature_current)\n",
    "        except:\n",
    "            print('{} is not valiad'.format(feature_type))\n",
    "        \n",
    "    features = np.concatenate(feature_list, axis=2)\n",
    "#     print(features.shape)\n",
    "    features = features.reshape(features.shape[0],-1)\n",
    "#     features = pd.DataFrame(features, columns=total_features)\n",
    "    \n",
    "    SHAPE = features.shape\n",
    "    # print(np.isnan(features[0,0,-1]))\n",
    "    print('features shape:', features.shape)\n",
    "    print('course: ', course)\n",
    "    print('week_type: ', week_type)\n",
    "    print('feature_type: ', feature_types)\n",
    "    print(selected_features)\n",
    "    return features, selected_features, num_weeks, num_features\n"
   ]
  },
  {
   "cell_type": "code",
   "execution_count": 61,
   "id": "69483096",
   "metadata": {
    "scrolled": true
   },
   "outputs": [
    {
     "name": "stdout",
     "output_type": "stream",
     "text": [
      "villesafricaines_001\n",
      "boroujeni_et_al\n",
      "(4942, 6, 3)\n",
      "chen_cui\n",
      "(4942, 6, 13)\n",
      "lalle_conati\n",
      "(4942, 6, 13)\n",
      "marras_et_al\n",
      "(4942, 6, 3)\n",
      "features shape: (4942, 192)\n",
      "course:  villesafricaines_001\n",
      "week_type:  eq_week\n",
      "feature_type:  ['boroujeni_et_al', 'chen_cui', 'lalle_conati', 'marras_et_al']\n",
      "[array([['regularity_peak_dayhour', 'regularity_periodicity_m1',\n",
      "        'delay_lecture']], dtype='<U25'), array([['total_clicks', 'number_sessions', 'time_sessions_sum',\n",
      "        'time_sessions_mean', 'time_between_sessions_std',\n",
      "        'time_sessions_std', 'total_clicks_weekday',\n",
      "        'total_clicks_weekend', 'ratio_clicks_weekend_day',\n",
      "        'total_clicks_video', 'total_clicks_problem',\n",
      "        'time_in__problem_sum', 'time_in__video_sum']], dtype='<U25'), array([['total_clicks_Video.Load', 'weekly_prop_watched_mean',\n",
      "        'weekly_prop_replayed_mean', 'weekly_prop_interrupted_mean',\n",
      "        'total_clicks_Video', 'frequency_action_Video',\n",
      "        'frequency_action_Video.Load', 'frequency_action_Video.Play',\n",
      "        'frequency_action_Video.Pause', 'pause_duration_mean',\n",
      "        'pause_duration_std', 'time_speeding_up_mean',\n",
      "        'time_speeding_up_std']], dtype='<U35'), array([['content_alignment', 'content_anticipation', 'student_speed']],\n",
      "      dtype='<U23')]\n"
     ]
    }
   ],
   "source": [
    "labels = {}\n",
    "features = {}\n",
    "selected_features = {}\n",
    "\n",
    "\n",
    "for course in courses:\n",
    "    print(course)\n",
    "    labels[course] = load_labels(course)\n",
    "    feats, sel_feats, num_weeks, num_features = load_features(course)\n",
    "    features[course] = feats\n",
    "    selected_features[course] = sel_feats\n",
    "    params[course]['num_weeks'] = num_weeks\n",
    "    params[course]['num_features'] = num_features"
   ]
  },
  {
   "cell_type": "code",
   "execution_count": 62,
   "id": "bdfb7de4",
   "metadata": {},
   "outputs": [
    {
     "name": "stdout",
     "output_type": "stream",
     "text": [
      "{'boroujeni_et_al': [array(['regularity_peak_dayhour', 'regularity_periodicity_m1',\n",
      "       'delay_lecture'], dtype='<U25')], 'chen_cui': [array(['total_clicks', 'number_sessions', 'time_sessions_sum',\n",
      "       'time_sessions_mean', 'time_between_sessions_std',\n",
      "       'time_sessions_std', 'total_clicks_weekday',\n",
      "       'total_clicks_weekend', 'ratio_clicks_weekend_day',\n",
      "       'total_clicks_video', 'total_clicks_problem',\n",
      "       'time_in__problem_sum', 'time_in__video_sum'], dtype='<U25')], 'lalle_conati': [array(['total_clicks_Video.Load', 'weekly_prop_watched_mean',\n",
      "       'weekly_prop_replayed_mean', 'weekly_prop_interrupted_mean',\n",
      "       'total_clicks_Video', 'frequency_action_Video',\n",
      "       'frequency_action_Video.Load', 'frequency_action_Video.Play',\n",
      "       'frequency_action_Video.Pause', 'pause_duration_mean',\n",
      "       'pause_duration_std', 'time_speeding_up_mean',\n",
      "       'time_speeding_up_std'], dtype='<U35')], 'marras_et_al': [array(['content_alignment', 'content_anticipation', 'student_speed'],\n",
      "      dtype='<U23')]}\n"
     ]
    }
   ],
   "source": [
    "course = 'villesafricaines_001'\n",
    "final_features = dict()\n",
    "\n",
    "for i, feature_type in enumerate(feature_types):\n",
    "    final_features[feature_type] = list(selected_features[course][i])\n",
    "    \n",
    "print(final_features)"
   ]
  },
  {
   "cell_type": "code",
   "execution_count": 63,
   "id": "b77122cd",
   "metadata": {},
   "outputs": [
    {
     "data": {
      "text/plain": [
       "{'boroujeni_et_al': [array(['regularity_peak_dayhour', 'regularity_periodicity_m1',\n",
       "         'delay_lecture'], dtype='<U25')],\n",
       " 'chen_cui': [array(['total_clicks', 'number_sessions', 'time_sessions_sum',\n",
       "         'time_sessions_mean', 'time_between_sessions_std',\n",
       "         'time_sessions_std', 'total_clicks_weekday',\n",
       "         'total_clicks_weekend', 'ratio_clicks_weekend_day',\n",
       "         'total_clicks_video', 'total_clicks_problem',\n",
       "         'time_in__problem_sum', 'time_in__video_sum'], dtype='<U25')],\n",
       " 'lalle_conati': [array(['total_clicks_Video.Load', 'weekly_prop_watched_mean',\n",
       "         'weekly_prop_replayed_mean', 'weekly_prop_interrupted_mean',\n",
       "         'total_clicks_Video', 'frequency_action_Video',\n",
       "         'frequency_action_Video.Load', 'frequency_action_Video.Play',\n",
       "         'frequency_action_Video.Pause', 'pause_duration_mean',\n",
       "         'pause_duration_std', 'time_speeding_up_mean',\n",
       "         'time_speeding_up_std'], dtype='<U35')],\n",
       " 'marras_et_al': [array(['content_alignment', 'content_anticipation', 'student_speed'],\n",
       "        dtype='<U23')]}"
      ]
     },
     "execution_count": 63,
     "metadata": {},
     "output_type": "execute_result"
    }
   ],
   "source": [
    "final_features"
   ]
  },
  {
   "cell_type": "code",
   "execution_count": 95,
   "id": "c2cbaa08",
   "metadata": {},
   "outputs": [
    {
     "name": "stdout",
     "output_type": "stream",
     "text": [
      "(3953, 192) (494, 192) (495, 192)\n",
      "(3953,) (494,) (495,)\n",
      "bidirectional_lstm\n",
      "Epoch 1/12\n",
      "124/124 [==============================] - 9s 17ms/step - loss: 0.3143 - accuracy: 0.8953 - val_loss: 0.1797 - val_accuracy: 0.9152\n",
      "Epoch 2/12\n",
      "124/124 [==============================] - 1s 5ms/step - loss: 0.1792 - accuracy: 0.9221 - val_loss: 0.1558 - val_accuracy: 0.9192\n",
      "Epoch 3/12\n",
      "124/124 [==============================] - 1s 5ms/step - loss: 0.1630 - accuracy: 0.9228 - val_loss: 0.1720 - val_accuracy: 0.9091\n",
      "Epoch 4/12\n",
      "124/124 [==============================] - 1s 4ms/step - loss: 0.1605 - accuracy: 0.9221 - val_loss: 0.1371 - val_accuracy: 0.9293\n",
      "Epoch 5/12\n",
      "124/124 [==============================] - 1s 4ms/step - loss: 0.1528 - accuracy: 0.9279 - val_loss: 0.1384 - val_accuracy: 0.9253\n",
      "Epoch 6/12\n",
      "124/124 [==============================] - 1s 5ms/step - loss: 0.1531 - accuracy: 0.9271 - val_loss: 0.1259 - val_accuracy: 0.9354\n",
      "Epoch 7/12\n",
      "124/124 [==============================] - 1s 5ms/step - loss: 0.1530 - accuracy: 0.9241 - val_loss: 0.1240 - val_accuracy: 0.9434\n",
      "Epoch 8/12\n",
      "124/124 [==============================] - 1s 5ms/step - loss: 0.1517 - accuracy: 0.9287 - val_loss: 0.1318 - val_accuracy: 0.9293\n",
      "Epoch 9/12\n",
      "124/124 [==============================] - 1s 5ms/step - loss: 0.1476 - accuracy: 0.9251 - val_loss: 0.1278 - val_accuracy: 0.9394\n",
      "Epoch 10/12\n",
      "124/124 [==============================] - 1s 5ms/step - loss: 0.1472 - accuracy: 0.9304 - val_loss: 0.1235 - val_accuracy: 0.9414\n",
      "Epoch 11/12\n",
      "124/124 [==============================] - 0s 4ms/step - loss: 0.1437 - accuracy: 0.9302 - val_loss: 0.1340 - val_accuracy: 0.9394\n",
      "Epoch 12/12\n",
      "124/124 [==============================] - 1s 5ms/step - loss: 0.1435 - accuracy: 0.9266 - val_loss: 0.1226 - val_accuracy: 0.9455\n",
      "16/16 [==============================] - 2s 1ms/step\n",
      "INFO:tensorflow:Assets written to: models/lstm_bi_villesafricaines_001_1723755999.5044_6_weeks/assets\n"
     ]
    },
    {
     "name": "stderr",
     "output_type": "stream",
     "text": [
      "INFO:tensorflow:Assets written to: models/lstm_bi_villesafricaines_001_1723755999.5044_6_weeks/assets\n"
     ]
    },
    {
     "name": "stdout",
     "output_type": "stream",
     "text": [
      "metric          value    \n",
      "test_acc        0.9372   \n",
      "test_bac        0.838    \n",
      "test_prec       0.9683   \n",
      "test_rec        0.9618   \n",
      "test_f1         0.9651   \n",
      "test_auc        0.838    \n",
      "week_type       eq_week  \n",
      "course          villesafricaines_001 \n",
      "hidden_feature_num_1 64       \n",
      "hidden_feature_num_2 32       \n",
      "data_balance    0.8865   \n"
     ]
    },
    {
     "data": {
      "image/png": "[encoded data removed]",
      "text/plain": [
       "<Figure size 432x216 with 1 Axes>"
      ]
     },
     "metadata": {
      "needs_background": "light"
     },
     "output_type": "display_data"
    },
    {
     "data": {
      "image/png": "[encoded data removed]",
      "text/plain": [
       "<Figure size 432x216 with 1 Axes>"
      ]
     },
     "metadata": {
      "needs_background": "light"
     },
     "output_type": "display_data"
    }
   ],
   "source": [
    "# training models\n",
    "# fts\n",
    "\n",
    "fts = features[course].copy()\n",
    "target = labels[course].copy()\n",
    "y=target\n",
    "    \n",
    "fts = fts.reshape(fts.shape[0], -1)\n",
    "train_size = 0.8\n",
    "x_train, x_rem, y_train, y_rem = train_test_split(fts, target, train_size=train_size, random_state=25)\n",
    "x_test, x_val, y_test, y_val = train_test_split(x_rem, y_rem, train_size=0.5, random_state=25)\n",
    "# print(year+':')\n",
    "print(x_train.shape,x_test.shape,x_val.shape)\n",
    "print(y_train.shape,y_test.shape,y_val.shape)\n",
    "\n",
    "\n",
    "num_weeks = params[course]['num_weeks']\n",
    "num_features = params[course]['num_features']\n",
    "num_epochs = params[course]['num_epochs']\n",
    "\n",
    "hidden_feature_num = [64,32]\n",
    "\n",
    "current_timestamp = str(time.time())[:-2]\n",
    "model=bidirectional_lstm\n",
    "print(model.__name__)\n",
    "history, scores, lstm = model(x_train, y_train, x_test, y_test, x_val, y_val,\n",
    "                      week_type, feature_types, course, n_weeks=num_weeks,\n",
    "                        hidden_feature_num=hidden_feature_num,\n",
    "                      n_features=num_features, num_epochs=num_epochs)\n",
    "print(\"{:<15} {:<8} \".format('metric','value'))\n",
    "for ke, v in scores.items():\n",
    "    if isinstance(v, float):\n",
    "        v=round(v, 4)\n",
    "    if ke!=\"feature_type\":\n",
    "        print(\"{:<15} {:<8} \".format(ke, v))\n",
    "run_name = model.__name__ + \"_\" + course + \"_\" + current_timestamp\n",
    "filename = str(course) + str(hidden_feature_num)\n",
    "fig = plot_history(history=history, filename=filename)\n"
   ]
  },
  {
   "cell_type": "code",
   "execution_count": null,
   "id": "008c64b2-7b9e-4337-ac05-6032f2c6faba",
   "metadata": {},
   "outputs": [],
   "source": []
  },
  {
   "cell_type": "code",
   "execution_count": 65,
   "id": "c78852cd-db12-45ed-abc6-4cbc29610bf8",
   "metadata": {},
   "outputs": [],
   "source": [
    "S2 = ['I would attempt more problems.', 'I would improve my regularity of learning on the platform (have a daily or weekly schedule).', 'I would attempt more problems.', 'I would attempt more problems.', 'I would practice more for the quiz so I could solve it in fewer attempts.', 'I would improve my regularity of learning on the platform (have a daily or weekly schedule).', 'I would try to watch videos for the next weeks earlier.', 'I would attempt more problems.', 'I would improve my regularity of learning on the platform (have a daily or weekly schedule).', 'I would improve my regularity of learning on the platform (have a daily or weekly schedule).', 'I would attempt more problems.', 'I would attempt more problems.', 'I would attempt more problems.', 'I would improve my regularity of learning on the platform (have a daily or weekly schedule).', 'I would attempt more problems.', 'I would practice more for the quiz so I could solve it in fewer attempts.', 'I would improve my regularity of learning on the platform (have a daily or weekly schedule).', 'I would attempt more problems.', 'I would improve my regularity of learning on the platform (have a daily or weekly schedule).', 'I would attempt more problems.', 'I would practice more for the quiz so I could solve it in fewer attempts.', 'I would attempt more problems.', 'I would try to attempt quizzes for the next weeks earlier.', 'I would attempt more problems.', 'I would practice more for the quiz so I could solve it in fewer attempts.', 'I would attempt more problems.', 'I would attempt more problems.', 'I would improve my regularity of learning on the platform (have a daily or weekly schedule).', 'I would engage more heavily with videos (pausing, replaying, rewinding)', 'I would improve my regularity of learning on the platform (have a daily or weekly schedule).', 'I would attempt more problems.', 'I would improve my regularity of learning on the platform (have a daily or weekly schedule).', 'I would improve my regularity of learning on the platform (have a daily or weekly schedule).', 'I would attempt more problems.', 'I would attempt more problems.', 'I would improve my regularity of learning on the platform (have a daily or weekly schedule).', 'I would improve my regularity of learning on the platform (have a daily or weekly schedule).', 'I would attempt more problems.', 'I would attempt more problems.', 'I would practice more for the quiz so I could solve it in fewer attempts.', 'I would attempt more problems.', 'I would try to attempt quizzes for the next weeks earlier.', 'I would attempt more problems.', 'I would practice more for the quiz so I could solve it in fewer attempts.', 'I would attempt more problems.', 'I would attempt more problems.', 'I would improve my regularity of learning on the platform (have a daily or weekly schedule).', 'I would engage more heavily with videos (pausing, replaying, rewinding)', 'I would improve my regularity of learning on the platform (have a daily or weekly schedule).', 'I would attempt more problems.', 'I would improve my regularity of learning on the platform (have a daily or weekly schedule).', 'I would improve my regularity of learning on the platform (have a daily or weekly schedule).', 'I would attempt more problems.', 'I would attempt more problems.', 'I would improve my regularity of learning on the platform (have a daily or weekly schedule).', 'I would improve my regularity of learning on the platform (have a daily or weekly schedule).', 'I would attempt more problems.', 'I would attempt more problems.', 'I would improve my regularity of learning on the platform (have a daily or weekly schedule).', 'I would improve my regularity of learning on the platform (have a daily or weekly schedule).', 'I would attempt more problems.', 'I would improve my regularity of learning on the platform (have a daily or weekly schedule).', 'I would improve my regularity of learning on the platform (have a daily or weekly schedule).', 'I would watch video lectures immediately when they are released', 'I would attempt more problems.', 'I would try to watch videos for the next weeks earlier.', 'I would engage more heavily with videos (pausing, replaying, rewinding)', 'I would try to solve the quizzes faster.', 'I would engage more heavily with videos (pausing, replaying, rewinding)', 'I would try to solve the quizzes faster.', 'I would improve my regularity of learning on the platform (have a daily or weekly schedule).', 'I would attempt more problems.', 'I would improve my regularity of learning on the platform (have a daily or weekly schedule).', 'I would try to attempt quizzes for the next weeks earlier.', 'I would improve my regularity of learning on the platform (have a daily or weekly schedule).', 'I would try to watch videos for the next weeks earlier.', 'I would attempt more problems.', 'I would attempt more problems.', 'I would attempt more problems.', 'I would engage more heavily with videos (pausing, replaying, rewinding)', 'I would attempt more problems.']"
   ]
  },
  {
   "cell_type": "code",
   "execution_count": 66,
   "id": "89f6dc68-0385-49df-a3bb-8229d160bc7b",
   "metadata": {},
   "outputs": [
    {
     "data": {
      "text/plain": [
       "I would attempt more problems.                                                                  35\n",
       "I would improve my regularity of learning on the platform (have a daily or weekly schedule).    26\n",
       "I would practice more for the quiz so I could solve it in fewer attempts.                        6\n",
       "I would engage more heavily with videos (pausing, replaying, rewinding)                          5\n",
       "I would try to attempt quizzes for the next weeks earlier.                                       3\n",
       "I would try to watch videos for the next weeks earlier.                                          3\n",
       "I would try to solve the quizzes faster.                                                         2\n",
       "I would watch video lectures immediately when they are released                                  1\n",
       "dtype: int64"
      ]
     },
     "execution_count": 66,
     "metadata": {},
     "output_type": "execute_result"
    }
   ],
   "source": [
    "pd.DataFrame(S2).value_counts()"
   ]
  },
  {
   "cell_type": "code",
   "execution_count": 96,
   "id": "675a96bf-89ad-4d7e-ad84-fa1584997208",
   "metadata": {},
   "outputs": [],
   "source": [
    "student = fts[2608]\n",
    "x_test[0] = student"
   ]
  },
  {
   "cell_type": "code",
   "execution_count": 97,
   "id": "a976ac03-eb41-4903-b411-88eb188a3bd5",
   "metadata": {},
   "outputs": [
    {
     "name": "stdout",
     "output_type": "stream",
     "text": [
      "[13, 14]\n",
      "[0, 1, 9, 10, 11]\n"
     ]
    }
   ],
   "source": [
    "problems = [13,14]\n",
    "regularity = [0, 1, 9, 10, 11]\n",
    "\n",
    "interventions = [problems, regularity]\n",
    "student_count = 1\n",
    "for inter in interventions:\n",
    "    print(inter)\n",
    "    updated_vals = []\n",
    "    index  = 160 + np.array(inter)\n",
    "    for i in inter:\n",
    "        student[i] += 0.5\n",
    "        if student[i] > 1:\n",
    "            student[i] = 1\n",
    "    x_test[student_count] = student\n",
    "    student_count += 1\n",
    "    student = fts[2608]"
   ]
  },
  {
   "cell_type": "code",
   "execution_count": 70,
   "id": "4fce715f-3213-4ec2-bc54-abf8e15f697c",
   "metadata": {},
   "outputs": [
    {
     "name": "stdout",
     "output_type": "stream",
     "text": [
      "[13, 14]\n",
      "[0, 1, 9, 10, 11]\n"
     ]
    }
   ],
   "source": [
    "student = fts[2608]\n",
    "x_test[3] = student\n",
    "problems = [13,14]\n",
    "regularity = [0, 1, 9, 10, 11]\n",
    "\n",
    "interventions = [problems, regularity]\n",
    "student_count = 1\n",
    "for inter in interventions:\n",
    "    print(inter)\n",
    "    updated_vals = []\n",
    "    index  = 160 + np.array(inter)\n",
    "    for i in inter:\n",
    "        student[i] = 1\n",
    "    x_test[student_count] = student\n",
    "    student_count += 1\n",
    "    student = fts[2608]\n",
    "\n",
    "# S2_Actionability\n",
    "# I would attempt more problems.                                                                  34\n",
    "# I would improve my regularity of learning on the platform (have a daily or weekly schedule).    25\n",
    "# I would practice more for the quiz so I could solve it in fewer attempts.                        6\n",
    "# I would engage more heavily with videos (pausing, replaying, rewinding)                          5\n",
    "# I would try to attempt quizzes for the next weeks earlier.                                       3\n",
    "# I would try to watch videos for the next weeks earlier.                                          2\n",
    "# I would try to solve the quizzes faster.                                                         2\n",
    "# I would watch video lectures immediately when they are released                                  1\n",
    "# Name: count, dtype: int64"
   ]
  },
  {
   "cell_type": "code",
   "execution_count": 99,
   "id": "12dd91c8-129a-44d6-9f5e-9d7139e61e8d",
   "metadata": {},
   "outputs": [
    {
     "name": "stdout",
     "output_type": "stream",
     "text": [
      "original prediction with what the student did in week 6 [0.34686083]\n",
      "I would attempt more problems., 35 students suggested [0.48155123]\n",
      "I would improve my regularity of learning on the platform (have a daily or weekly schedule)., 26 students suggested [0.5445063]\n"
     ]
    }
   ],
   "source": [
    "# preds = lstm.predict(x_test)\n",
    "print('original prediction with what the student did in week 6', 1 - preds[0])\n",
    "print('I would attempt more problems., 35 students suggested', 1 - preds[1])\n",
    "print('I would improve my regularity of learning on the platform (have a daily or weekly schedule)., 26 students suggested', 1 - preds[2])\n"
   ]
  },
  {
   "cell_type": "code",
   "execution_count": 19,
   "id": "9f12d477-b8df-409f-9527-248e4acc3816",
   "metadata": {},
   "outputs": [],
   "source": [
    "features = ['regularity_peak_dayhour', 'regularity_periodicity_m1',\n",
    "         'delay_lecture','total_clicks', 'number_sessions', 'time_sessions_sum',\n",
    "         'time_sessions_mean', 'time_between_sessions_std',\n",
    "         'time_sessions_std', 'total_clicks_weekday',\n",
    "         'total_clicks_weekend', 'ratio_clicks_weekend_day',\n",
    "         'total_clicks_video', 'total_clicks_problem',\n",
    "         'time_in__problem_sum', 'time_in__video_sum','total_clicks_Video.Load', 'weekly_prop_watched_mean',\n",
    "         'weekly_prop_replayed_mean', 'weekly_prop_interrupted_mean',\n",
    "         'total_clicks_Video', 'frequency_action_Video',\n",
    "         'frequency_action_Video.Load', 'frequency_action_Video.Play',\n",
    "         'frequency_action_Video.Pause', 'pause_duration_mean',\n",
    "         'pause_duration_std', 'time_speeding_up_mean',\n",
    "         'time_speeding_up_std','content_alignment', 'content_anticipation', 'student_speed']"
   ]
  },
  {
   "cell_type": "code",
   "execution_count": 35,
   "id": "a9afa081-825d-4181-ab12-5f99ea1ecb02",
   "metadata": {},
   "outputs": [
    {
     "name": "stdout",
     "output_type": "stream",
     "text": [
      "16/16 [==============================] - 0s 2ms/step\n"
     ]
    }
   ],
   "source": [
    "lstm.predict(x_test)\n",
    "print('original prediction with what the student did in week 6', 1 - preds[0])\n",
    "print('I would attempt more problems., 35 students suggested', 1 - preds[1])\n",
    "print('I would improve my regularity of learning on the platform (have a daily or weekly schedule)., 26 students suggested', 1 - preds[2])\n"
   ]
  },
  {
   "cell_type": "code",
   "execution_count": 30,
   "id": "0169ab31-8bcb-4c76-a90e-68d0c5f3767b",
   "metadata": {},
   "outputs": [
    {
     "name": "stdout",
     "output_type": "stream",
     "text": [
      "original prediction with what the student did in week 6 [0.41868377]\n",
      "I would attempt more problems., 35 students suggested [0.9120024]\n",
      "I would improve my regularity of learning on the platform (have a daily or weekly schedule)., 26 students suggested [0.9449845]\n"
     ]
    }
   ],
   "source": [
    "print('original prediction with what the student did in week 6', 1 - preds[0])\n",
    "print('I would attempt more problems., 35 students suggested', 1 - preds[1])\n",
    "print('I would improve my regularity of learning on the platform (have a daily or weekly schedule)., 26 students suggested', 1 - preds[2])\n"
   ]
  },
  {
   "cell_type": "code",
   "execution_count": 21,
   "id": "f2221740-9aeb-4590-904a-73f308b2393d",
   "metadata": {},
   "outputs": [],
   "source": [
    "original_pred = 0.6187301\n"
   ]
  },
  {
   "cell_type": "code",
   "execution_count": 22,
   "id": "7319ff9f-04ae-4e44-8765-97337b4839d8",
   "metadata": {},
   "outputs": [],
   "source": [
    "\n",
    "# DSP\t5192\n",
    "# \t123\n",
    "# VA\t2608\n",
    "# \t3170\n",
    "# GEO\t138\n",
    "# \t291"
   ]
  },
  {
   "cell_type": "code",
   "execution_count": 23,
   "id": "addbaffc",
   "metadata": {},
   "outputs": [
    {
     "name": "stdout",
     "output_type": "stream",
     "text": [
      "TensorFlow version: 2.13.0\n"
     ]
    }
   ],
   "source": [
    "print(\"TensorFlow version:\", tf.__version__)"
   ]
  }
 ],
 "metadata": {
  "kernelspec": {
   "display_name": "mlbd",
   "language": "python",
   "name": "mlbd"
  },
  "language_info": {
   "codemirror_mode": {
    "name": "ipython",
    "version": 3
   },
   "file_extension": ".py",
   "mimetype": "text/x-python",
   "name": "python",
   "nbconvert_exporter": "python",
   "pygments_lexer": "ipython3",
   "version": "3.10.2"
  }
 },
 "nbformat": 4,
 "nbformat_minor": 5
}
